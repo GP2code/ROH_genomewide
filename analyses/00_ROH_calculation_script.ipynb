{
 "cells": [
  {
   "cell_type": "markdown",
   "metadata": {},
   "source": [
    "**Genome-wide assessment identifies novel runs of homozygosity linked to Parkinson’s disease etiology across diverse ancestral populations**\n",
    "\n",
    "---\n",
    "\n",
    "*   **Project:** Runs of Homozygosity (ROH) Analysis in Parkinson's Disease\n",
    "*   **Version:** Python/3.9\n",
    "*   **Authors**: Kathryn Step, Carlos F. Hernández, Esraa Eltaraifee, Ana Jimena Hernández-Medrano, Pin-Jui Kung, Miriam Ostrožovičová, Alexandra Zirra, Zih-Hua Fang and Sara Bandres-Ciga\n",
    "*   **Estimated Computation and Runtime**:\n",
    "   *   **Estimated Specifications:**  1 CPU, 3.75 GB Memory, 50 GB Persistent Disk Size\n",
    "   *   **Estimated Runtime:** 60 min\n",
    "*   **Status:** COMPLETE\n",
    "*   **Started:** 26-AUG-2023\n",
    "*   **Last Updated:** 24-NOV-2024\n",
    "   *   **Update Description:** Finalized ROH regions and performed downstream analysis for population-specific patterns\n",
    "\n",
    "---\n",
    "\n",
    "**Notebook Overview**  \n",
    "*   Identifying related individuals\n",
    "*   Performing QC on imputed genotype data\n",
    "*   Identifying ROHs using PLINK\n",
    "*   Finding overlapping ROHs in PD genes\n",
    "\n",
    "---\n",
    "\n",
    "**Note:**\n",
    "This notebook presents the analysis for the Middle Eastern (MDE) ancestry group. The same analysis pipeline was repeated for the following additional ancestry groups:  \n",
    "- **African Admixed (AAC)**  \n",
    "- **African (AFR)**  \n",
    "- **Ashkenazi Jewish (AJ)**  \n",
    "- **American Admixed (AMR)**  \n",
    "- **Central Asian (CAS)**  \n",
    "- **East Asian (EAS)**  \n",
    "- **European (EUR)**  \n",
    "- **South Asian (SAS)**  \n",
    "\n",
    "While only the MDE results are shown here for clarity and to minimize redundancy, the methodology and scripts are identical across all groups. Please refer to the project documentation for a comprehensive overview.  \n",
    "\n",
    "---\n"
   ]
  },
  {
   "cell_type": "markdown",
   "metadata": {
    "toc": true
   },
   "source": [
    "<h1>Table of Contents<span class=\"tocSkip\"></span></h1>\n",
    "<div class=\"toc\"><ul class=\"toc-item\"><li><span><a href=\"#Getting-Started\" data-toc-modified-id=\"Getting-Started-1\"><span class=\"toc-item-num\">1&nbsp;&nbsp;</span>Getting Started</a></span></li><li><span><a href=\"#Create-Working-Directory\" data-toc-modified-id=\"Create-Working-Directory-2\"><span class=\"toc-item-num\">2&nbsp;&nbsp;</span>Create Working Directory</a></span></li><li><span><a href=\"#Download-Data\" data-toc-modified-id=\"Download-Data-3\"><span class=\"toc-item-num\">3&nbsp;&nbsp;</span>Download Data</a></span></li><li><span><a href=\"#QC\" data-toc-modified-id=\"QC-4\"><span class=\"toc-item-num\">4&nbsp;&nbsp;</span>QC</a></span><ul class=\"toc-item\"><li><span><a href=\"#Identify-related-IDs-in-raw-data\" data-toc-modified-id=\"Identify-related-IDs-in-raw-data-4.1\"><span class=\"toc-item-num\">4.1&nbsp;&nbsp;</span>Identify related IDs in raw data</a></span></li><li><span><a href=\"#Pruning-in-imputed-data\" data-toc-modified-id=\"Pruning-in-imputed-data-4.2\"><span class=\"toc-item-num\">4.2&nbsp;&nbsp;</span>Pruning in imputed data</a></span></li><li><span><a href=\"#Merge-imputed-data\" data-toc-modified-id=\"Merge-imputed-data-4.3\"><span class=\"toc-item-num\">4.3&nbsp;&nbsp;</span>Merge imputed data</a></span></li><li><span><a href=\"#Remove-related-individuals-in-merged-data\" data-toc-modified-id=\"Remove-related-individuals-in-merged-data-4.4\"><span class=\"toc-item-num\">4.4&nbsp;&nbsp;</span>Remove related individuals in merged data</a></span></li></ul></li><li><span><a href=\"#Calculate-ROH\" data-toc-modified-id=\"Calculate-ROH-5\"><span class=\"toc-item-num\">5&nbsp;&nbsp;</span>Calculate ROH</a></span></li><li><span><a href=\"#Intersect-PD-genes-with-ROH\" data-toc-modified-id=\"Intersect-PD-genes-with-ROH-6\"><span class=\"toc-item-num\">6&nbsp;&nbsp;</span>Intersect PD genes with ROH</a></span><ul class=\"toc-item\"><li><span><a href=\"#Download-perl-script-and-gene-list\" data-toc-modified-id=\"Download-perl-script-and-gene-list-6.1\"><span class=\"toc-item-num\">6.1&nbsp;&nbsp;</span>Download perl script and gene list</a></span></li></ul></li><li><span><a href=\"#Serial-ROH\" data-toc-modified-id=\"Serial-ROH-7\"><span class=\"toc-item-num\">7&nbsp;&nbsp;</span>Serial ROH</a></span></li></ul></div>"
   ]
  },
  {
   "cell_type": "markdown",
   "metadata": {},
   "source": [
    "# Getting Started"
   ]
  },
  {
   "cell_type": "code",
   "execution_count": 1,
   "metadata": {
    "scrolled": false
   },
   "outputs": [
    {
     "name": "stderr",
     "output_type": "stream",
     "text": [
      "/tmp/ipykernel_1049729/298453339.py:30: DeprecationWarning: Importing display from IPython.core.display is deprecated since IPython 7.14, please import from IPython display\n",
      "  from IPython.core.display import display, HTML\n"
     ]
    }
   ],
   "source": [
    "# Install necessary Python packages\n",
    "!pip install openpyxl --quiet\n",
    "\n",
    "# Import required libraries\n",
    "from pathlib import Path\n",
    "import seaborn as sns\n",
    "import openpyxl\n",
    "import glob\n",
    "\n",
    "# Use the os package to interact with the environment\n",
    "import os\n",
    "\n",
    "# Bring in Pandas for Dataframe functionality\n",
    "import pandas as pd\n",
    "\n",
    "# Numpy for basics\n",
    "import numpy as np\n",
    "\n",
    "# Use StringIO for working with file contents\n",
    "from io import StringIO\n",
    "\n",
    "# Enable IPython to display matplotlib graphs\n",
    "import matplotlib.pyplot as plt\n",
    "%matplotlib inline\n",
    "\n",
    "# Enable interaction with the FireCloud API\n",
    "from firecloud import api as fapi\n",
    "\n",
    "# Import the iPython HTML rendering for displaying links to Google Cloud Console\n",
    "from IPython.core.display import display, HTML\n",
    "\n",
    "# Import urllib modules for building URLs to Google Cloud Console\n",
    "import urllib.parse\n",
    "\n",
    "# BigQuery for querying data\n",
    "from google.cloud import bigquery\n",
    "\n",
    "#Import Sys\n",
    "import sys as sys"
   ]
  },
  {
   "cell_type": "code",
   "execution_count": 2,
   "metadata": {
    "scrolled": true
   },
   "outputs": [],
   "source": [
    "# Set up R support with rpy2\n",
    "!pip install --upgrade rpy2 --quiet\n",
    "%reload_ext rpy2.ipython"
   ]
  },
  {
   "cell_type": "code",
   "execution_count": 3,
   "metadata": {
    "scrolled": true
   },
   "outputs": [
    {
     "name": "stdout",
     "output_type": "stream",
     "text": [
      "[1] \"R magic cell is working\"\n"
     ]
    },
    {
     "data": {
      "text/plain": [
       "In addition: Warning message:\n",
       "In (function (package, help, pos = 2, lib.loc = NULL, character.only = FALSE,  :\n",
       "  libraries ‘/home/jupyter/packages’, ‘/usr/lib/R/site-library’ contain no packages\n"
      ]
     },
     "metadata": {},
     "output_type": "display_data"
    }
   ],
   "source": [
    "%%R\n",
    "\n",
    "# Verify that R magic is working\n",
    "print('R magic cell is working')"
   ]
  },
  {
   "cell_type": "code",
   "execution_count": 5,
   "metadata": {},
   "outputs": [],
   "source": [
    "# Utility routine for printing a shell command before executing it\n",
    "def shell_do(command):\n",
    "    print(f'Executing: {command}', file=sys.stderr)\n",
    "    !$command\n",
    "    \n",
    "# Utility routine for executing a shell command and returning its output\n",
    "def shell_return(command):\n",
    "    print(f'Executing: {command}', file=sys.stderr)\n",
    "    output = !$command\n",
    "    return '\\n'.join(output)\n",
    "\n",
    "# Utility routine for executing a BigQuery query\n",
    "def bq_query(query):\n",
    "    print(f'Executing: {query}', file=sys.stderr)\n",
    "    return pd.read_gbq(query, project_id=BILLING_PROJECT_ID, dialect='standard')\n",
    "\n",
    "# Utility routine for displaying a message and a link\n",
    "def display_html_link(description, link_text, url):\n",
    "    html = f'''\n",
    "    <p>\n",
    "    </p>\n",
    "    <p>\n",
    "    {description}\n",
    "    <a target=_blank href=\"{url}\">{link_text}</a>.\n",
    "    </p>\n",
    "    '''\n",
    "    display(HTML(html))\n",
    "\n",
    "# Utility routines for reading files from Google Cloud Storage\n",
    "def gcs_read_file(path):\n",
    "    \"\"\"Return the contents of a file in GCS\"\"\"\n",
    "    contents = !gsutil -u {BILLING_PROJECT_ID} cat {path}\n",
    "    return '\\n'.join(contents)\n",
    "\n",
    "def gcs_read_csv(path, sep=None):\n",
    "    \"\"\"Return a DataFrame from the contents of a delimited file in GCS\"\"\"\n",
    "    return pd.read_csv(StringIO(gcs_read_file(path)), sep=sep, engine='python')\n",
    "\n",
    "# Utility routine for displaying a message and link to Cloud Console\n",
    "def link_to_cloud_console_gcs(description, link_text, gcs_path):\n",
    "    url = '{}?{}'.format(\n",
    "        os.path.join('https://console.cloud.google.com/storage/browser',\n",
    "                     gcs_path.replace(\"gs://\",\"\")),\n",
    "        urllib.parse.urlencode({'userProject': BILLING_PROJECT_ID}))\n",
    "    display_html_link(description, link_text, url)"
   ]
  },
  {
   "cell_type": "code",
   "execution_count": 6,
   "metadata": {},
   "outputs": [
    {
     "name": "stdout",
     "output_type": "stream",
     "text": [
      "Plink1.9 is already installed in /home/jupyter/tools/\n",
      "Plink2 is already installed in /home/jupyter/tools/\n",
      "KING is already installed in /home/jupyter/tools/\n"
     ]
    }
   ],
   "source": [
    "%%bash\n",
    "\n",
    "# Set up tools (PLINK, King, and ANNOVAR)\n",
    "mkdir -p ~/tools\n",
    "cd ~/tools\n",
    "\n",
    "# Check and install PLINK 1.9\n",
    "if test -e /home/jupyter/tools/plink; then\n",
    "   echo \"Plink1.9 is already installed in /home/jupyter/tools/\"\n",
    "else\n",
    "   echo -e \"Downloading plink \\n    -------\"\n",
    "   wget -N http://s3.amazonaws.com/plink1-assets/plink_linux_x86_64_20190304.zip \n",
    "   unzip -o plink_linux_x86_64_20190304.zip\n",
    "   echo -e \"\\n plink downloaded and unzipped in /home/jupyter/tools \\n \"\n",
    "fi\n",
    "\n",
    "# Check and install PLINK 2.0 with a corrected download link\n",
    "if test -e /home/jupyter/tools/plink2; then\n",
    "   echo \"Plink2 is already installed in /home/jupyter/tools/\"\n",
    "else\n",
    "   echo -e \"Downloading plink2 \\n    -------\"\n",
    "   wget -N https://s3.amazonaws.com/plink2-assets/alpha3/plink2_linux_avx2_20240806.zip\n",
    "   unzip -o plink2_linux_avx2_20240806.zip -d /home/jupyter/tools/\n",
    "   mv /home/jupyter/tools/plink2_linux_avx2_20240806 /home/jupyter/tools/plink2\n",
    "   echo -e \"\\nPlink2 downloaded, unzipped, and saved as 'plink2' in /home/jupyter/tools \\n\"\n",
    "fi\n",
    "\n",
    "# Install King 2.3.0\n",
    "if test -e /home/jupyter/tools/king; then\n",
    "   echo \"KING is already installed in /home/jupyter/tools/\"\n",
    "else\n",
    "   echo -e \"Downloading KING \\n    -------\"\n",
    "   wget -N https://www.kingrelatedness.com/executables/Linux-king230.tar.gz\n",
    "   tar -xzvf Linux-king230.tar.gz\n",
    "   echo -e \"\\n KING downloaded and unzipped in /home/jupyter/tools \\n \"\n",
    "fi"
   ]
  },
  {
   "cell_type": "code",
   "execution_count": 7,
   "metadata": {
    "scrolled": false
   },
   "outputs": [
    {
     "name": "stdout",
     "output_type": "stream",
     "text": [
      "king\n",
      "LICENSE\n",
      "Linux-king230.tar.gz\n",
      "plink\n",
      "plink2\n",
      "plink2_linux_avx2_20240806.zip\n",
      "plink_linux_x86_64_20190304.zip\n",
      "prettify\n",
      "toy.map\n",
      "toy.ped\n"
     ]
    }
   ],
   "source": [
    "%%bash\n",
    "\n",
    "# List contents of the tools directory\n",
    "ls /home/jupyter/tools/"
   ]
  },
  {
   "cell_type": "code",
   "execution_count": 8,
   "metadata": {},
   "outputs": [],
   "source": [
    "%%bash\n",
    "\n",
    "# Make the downloaded tools executable\n",
    "chmod u+x /home/jupyter/tools/plink\n",
    "chmod u+x /home/jupyter/tools/plink2\n",
    "chmod u+x /home/jupyter/tools/king"
   ]
  },
  {
   "cell_type": "code",
   "execution_count": 9,
   "metadata": {
    "scrolled": true
   },
   "outputs": [
    {
     "name": "stdout",
     "output_type": "stream",
     "text": [
      "ANNOVAR is already installed in /home/jupyter/\n"
     ]
    }
   ],
   "source": [
    "%%bash\n",
    "\n",
    "# Install and set up ANNOVAR (Add download link after registration on the ANNOVAR website)\n",
    "if test -e /home/jupyter/annovar; then\n",
    "   echo \"ANNOVAR is already installed in /home/jupyter/\"\n",
    "else\n",
    "   echo \"Downloading ANNOVAR\"\n",
    "   cd /home/jupyter/\n",
    "   wget http://www.openbioinformatics.org/annovar/download/0wgxR2rIVP/annovar.latest.tar.gz\n",
    "   tar xvfz annovar.latest.tar.gz\n",
    "fi"
   ]
  },
  {
   "cell_type": "code",
   "execution_count": 10,
   "metadata": {},
   "outputs": [],
   "source": [
    "%%capture\n",
    "%%bash\n",
    "\n",
    "# Download ANNOVAR annotation resources\n",
    "cd /home/jupyter/annovar/\n",
    "perl annotate_variation.pl -buildver hg38 -downdb -webfrom annovar refGene humandb/\n",
    "perl annotate_variation.pl -buildver hg38 -downdb -webfrom annovar avsnp150 humandb/"
   ]
  },
  {
   "cell_type": "code",
   "execution_count": 11,
   "metadata": {},
   "outputs": [
    {
     "data": {
      "text/plain": [
       "data.table 1.14.8 using 48 threads (see ?getDTthreads).  Latest news: r-datatable.com\n",
       "\n",
       "Attaching package: ‘dplyr’\n",
       "\n",
       "The following objects are masked from ‘package:plyr’:\n",
       "\n",
       "    arrange, count, desc, failwith, id, mutate, rename, summarise,\n",
       "    summarize\n",
       "\n",
       "The following objects are masked from ‘package:data.table’:\n",
       "\n",
       "    between, first, last\n",
       "\n",
       "The following objects are masked from ‘package:stats’:\n",
       "\n",
       "    filter, lag\n",
       "\n",
       "The following objects are masked from ‘package:base’:\n",
       "\n",
       "    intersect, setdiff, setequal, union\n",
       "\n",
       "\n",
       "Attaching package: ‘tidyr’\n",
       "\n",
       "The following object is masked from ‘package:magrittr’:\n",
       "\n",
       "    extract\n",
       "\n"
      ]
     },
     "metadata": {},
     "output_type": "display_data"
    }
   ],
   "source": [
    "%%R\n",
    "\n",
    "# Load necessary R packages\n",
    "library(data.table)\n",
    "library(magrittr)\n",
    "library(stringr)\n",
    "library(ggplot2)\n",
    "library(plyr)\n",
    "library(dplyr)\n",
    "library(tidyr)"
   ]
  },
  {
   "cell_type": "markdown",
   "metadata": {},
   "source": [
    "# Create Working Directory"
   ]
  },
  {
   "cell_type": "code",
   "execution_count": 13,
   "metadata": {},
   "outputs": [
    {
     "name": "stdout",
     "output_type": "stream",
     "text": [
      "Making a working directory\n"
     ]
    },
    {
     "name": "stderr",
     "output_type": "stream",
     "text": [
      "Executing: mkdir -p /home/jupyter/Release6_MDE\n"
     ]
    }
   ],
   "source": [
    "# Make a directory for use in python\n",
    "print(\"Making a working directory\")\n",
    "ANC = 'MDE'\n",
    "WORK_DIR = f'/home/jupyter/Release6_{ANC}'\n",
    "shell_do(f'mkdir -p {WORK_DIR}')"
   ]
  },
  {
   "cell_type": "code",
   "execution_count": 14,
   "metadata": {},
   "outputs": [],
   "source": [
    "%%R\n",
    "\n",
    "# Set directory for use in R\n",
    "ANC <- 'MDE'\n",
    "setwd(paste0(\"/home/jupyter/Release6_\",ANC,\"/\") )"
   ]
  },
  {
   "cell_type": "markdown",
   "metadata": {},
   "source": [
    "# Download Data"
   ]
  },
  {
   "cell_type": "markdown",
   "metadata": {},
   "source": [
    "# QC"
   ]
  },
  {
   "cell_type": "markdown",
   "metadata": {},
   "source": [
    "## Identify related IDs in raw data"
   ]
  },
  {
   "cell_type": "code",
   "execution_count": 19,
   "metadata": {},
   "outputs": [
    {
     "name": "stderr",
     "output_type": "stream",
     "text": [
      "Executing: /home/jupyter/tools/plink2             --pfile /home/jupyter/Release6_MDE/MDE_release6             --king-cutoff 0.088             --out /home/jupyter/Release6_MDE/MDE_unrelated_IDs \n"
     ]
    },
    {
     "name": "stdout",
     "output_type": "stream",
     "text": [
      "PLINK v2.00a6LM AVX2 Intel (6 Aug 2024)        www.cog-genomics.org/plink/2.0/\n",
      "(C) 2005-2024 Shaun Purcell, Christopher Chang   GNU General Public License v3\n",
      "Logging to /home/jupyter/Release6_MDE/MDE_unrelated_IDs.log.\n",
      "Options in effect:\n",
      "  --king-cutoff 0.088\n",
      "  --out /home/jupyter/Release6_MDE/MDE_unrelated_IDs\n",
      "  --pfile /home/jupyter/Release6_MDE/MDE_release6\n",
      "\n",
      "Start time: Mon Oct 21 06:17:18 2024\n",
      "628867 MiB RAM detected, ~614778 available; reserving 314433 MiB for main\n",
      "workspace.\n",
      "Using up to 96 threads (change this with --threads).\n",
      "263 samples (87 females, 176 males; 263 founders) loaded from\n",
      "/home/jupyter/Release6_MDE/MDE_release6.psam.\n",
      "1108214 variants loaded from /home/jupyter/Release6_MDE/MDE_release6.pvar.\n",
      "1 binary phenotype loaded (218 cases, 21 controls).\n",
      "Excluding 37135 variants on non-autosomes from KING-robust calculation.\n",
      "--king-cutoff pass 1/1: Scanning for rare variants... 121824303642485561677379859197done.\n",
      "226304 variants handled by initial scan (844775 remaining).\n",
      "--king-cutoff pass 1/1: Condensing...               done.\n",
      "--king-cutoff: 1071079 variants processed.\n",
      "--king-cutoff: Excluded sample IDs written to\n",
      "/home/jupyter/Release6_MDE/MDE_unrelated_IDs.king.cutoff.out.id , and 257\n",
      "remaining sample IDs written to\n",
      "/home/jupyter/Release6_MDE/MDE_unrelated_IDs.king.cutoff.in.id .\n",
      "End time: Mon Oct 21 06:17:18 2024\n"
     ]
    }
   ],
   "source": [
    "# Extract a list of unrelated IDs in raw data\n",
    "shell_do(f'/home/jupyter/tools/plink2 \\\n",
    "            --pfile {WORK_DIR}/{ANC}_release6 \\\n",
    "            --king-cutoff 0.088 \\\n",
    "            --out {WORK_DIR}/{ANC}_unrelated_IDs ')"
   ]
  },
  {
   "cell_type": "markdown",
   "metadata": {},
   "source": [
    "## Pruning in imputed data"
   ]
  },
  {
   "cell_type": "code",
   "execution_count": 20,
   "metadata": {
    "scrolled": true
   },
   "outputs": [
    {
     "name": "stdout",
     "output_type": "stream",
     "text": [
      "\n",
      "Processing chr1 for pruning...\n"
     ]
    },
    {
     "name": "stderr",
     "output_type": "stream",
     "text": [
      "Executing: gsutil -u terra-1b7613a0 -m cp gs://gp2tier2/release6_21122023/imputed_genotypes/MDE/chr1_MDE_release6.* /home/jupyter/Release6_MDE\n"
     ]
    },
    {
     "name": "stdout",
     "output_type": "stream",
     "text": [
      "Copying gs://gp2tier2/release6_21122023/imputed_genotypes/MDE/chr1_MDE_release6.log...\n",
      "Copying gs://gp2tier2/release6_21122023/imputed_genotypes/MDE/chr1_MDE_release6.pgen...\n",
      "Copying gs://gp2tier2/release6_21122023/imputed_genotypes/MDE/chr1_MDE_release6.psam...\n",
      "Copying gs://gp2tier2/release6_21122023/imputed_genotypes/MDE/chr1_MDE_release6.pvar...\n",
      "- [4/4 files][  2.0 GiB/  2.0 GiB] 100% Done  60.8 MiB/s ETA 00:00:00           \n",
      "Operation completed over 4 objects/2.0 GiB.                                      \n"
     ]
    },
    {
     "name": "stderr",
     "output_type": "stream",
     "text": [
      "Executing: /home/jupyter/tools/plink2                         --pfile /home/jupyter/Release6_MDE/chr1_MDE_release6                         --indep-pairwise 50 5 0.5                         --rm-dup force-first                         --out /home/jupyter/Release6_MDE/chr1_MDE_pruning\n"
     ]
    },
    {
     "name": "stdout",
     "output_type": "stream",
     "text": [
      "PLINK v2.00a6LM AVX2 Intel (6 Aug 2024)        www.cog-genomics.org/plink/2.0/\n",
      "(C) 2005-2024 Shaun Purcell, Christopher Chang   GNU General Public License v3\n",
      "Logging to /home/jupyter/Release6_MDE/chr1_MDE_pruning.log.\n",
      "Options in effect:\n",
      "  --indep-pairwise 50 5 0.5\n",
      "  --out /home/jupyter/Release6_MDE/chr1_MDE_pruning\n",
      "  --pfile /home/jupyter/Release6_MDE/chr1_MDE_release6\n",
      "  --rm-dup force-first\n",
      "\n",
      "Start time: Mon Oct 21 06:17:43 2024\n",
      "628867 MiB RAM detected, ~613974 available; reserving 314433 MiB for main\n",
      "workspace.\n",
      "Using up to 96 threads (change this with --threads).\n",
      "263 samples (87 females, 176 males; 263 founders) loaded from\n",
      "/home/jupyter/Release6_MDE/chr1_MDE_release6.psam.\n",
      "20222554 variants loaded from\n",
      "/home/jupyter/Release6_MDE/chr1_MDE_release6.pvar.\n",
      "1 binary phenotype loaded (218 cases, 21 controls).\n",
      "Note: Skipping --rm-dup since no duplicate IDs are present.\n",
      "Calculating allele frequencies... 101112131415161718192021222324252627282930313233343536373839404142434445464748495051525354555657585960616263646566676869707172737475767778798081828384858687888990919293949596979899done.\n",
      "--indep-pairwise (1 compute thread): 10111213141516171819202122232425262728293031323334353637383940414243444546474849505152535455565758596061626364656667686970717273747576777879808182838485868788899091929394959697989919026913/20222554 variants removed.\n",
      "Variant lists written to /home/jupyter/Release6_MDE/chr1_MDE_pruning.prune.in\n",
      "and /home/jupyter/Release6_MDE/chr1_MDE_pruning.prune.out .\n",
      "End time: Mon Oct 21 06:17:52 2024\n"
     ]
    },
    {
     "name": "stderr",
     "output_type": "stream",
     "text": [
      "Executing: /home/jupyter/tools/plink2                         --pfile /home/jupyter/Release6_MDE/chr1_MDE_release6                         --extract /home/jupyter/Release6_MDE/chr1_MDE_pruning.prune.in                         --maf 0.05                         --make-bed --out /home/jupyter/Release6_MDE/chr1_MDE_pruned_data\n"
     ]
    },
    {
     "name": "stdout",
     "output_type": "stream",
     "text": [
      "PLINK v2.00a6LM AVX2 Intel (6 Aug 2024)        www.cog-genomics.org/plink/2.0/\n",
      "(C) 2005-2024 Shaun Purcell, Christopher Chang   GNU General Public License v3\n",
      "Logging to /home/jupyter/Release6_MDE/chr1_MDE_pruned_data.log.\n",
      "Options in effect:\n",
      "  --extract /home/jupyter/Release6_MDE/chr1_MDE_pruning.prune.in\n",
      "  --maf 0.05\n",
      "  --make-bed\n",
      "  --out /home/jupyter/Release6_MDE/chr1_MDE_pruned_data\n",
      "  --pfile /home/jupyter/Release6_MDE/chr1_MDE_release6\n",
      "\n",
      "Start time: Mon Oct 21 06:17:53 2024\n",
      "628867 MiB RAM detected, ~615230 available; reserving 314433 MiB for main\n",
      "workspace.\n",
      "Using up to 96 threads (change this with --threads).\n",
      "263 samples (87 females, 176 males; 263 founders) loaded from\n",
      "/home/jupyter/Release6_MDE/chr1_MDE_release6.psam.\n",
      "20222554 variants loaded from\n",
      "/home/jupyter/Release6_MDE/chr1_MDE_release6.pvar.\n",
      "1 binary phenotype loaded (218 cases, 21 controls).\n",
      "--extract: 1195641 variants remaining.\n",
      "Calculating allele frequencies... 101112131415161718192021222324252627282930313233343536373839404142434445464748495051525354555657585960616263646566676869707172737475767778798081828384858687888990919293949596979899done.\n",
      "885883 variants removed due to allele frequency threshold(s)\n",
      "(--maf/--max-maf/--mac/--max-mac).\n",
      "309758 variants remaining after main filters.\n",
      "Writing /home/jupyter/Release6_MDE/chr1_MDE_pruned_data.fam ... done.\n",
      "Writing /home/jupyter/Release6_MDE/chr1_MDE_pruned_data.bim ... done.\n",
      "Writing /home/jupyter/Release6_MDE/chr1_MDE_pruned_data.bed ... 101112131415161718192021222324252627282930313233343536373839404142434445464748495051525354555657585960616263646566676869707172737475767778798081828384858687888990919293949596979899done.\n",
      "End time: Mon Oct 21 06:17:58 2024\n",
      "Removing raw files for chr1...\n"
     ]
    },
    {
     "name": "stderr",
     "output_type": "stream",
     "text": [
      "Executing: rm /home/jupyter/Release6_MDE/chr1_MDE_release6.p*\n"
     ]
    },
    {
     "name": "stdout",
     "output_type": "stream",
     "text": [
      "\n",
      "Processing chr2 for pruning...\n"
     ]
    },
    {
     "name": "stderr",
     "output_type": "stream",
     "text": [
      "Executing: gsutil -u terra-1b7613a0 -m cp gs://gp2tier2/release6_21122023/imputed_genotypes/MDE/chr2_MDE_release6.* /home/jupyter/Release6_MDE\n"
     ]
    },
    {
     "name": "stdout",
     "output_type": "stream",
     "text": [
      "Copying gs://gp2tier2/release6_21122023/imputed_genotypes/MDE/chr2_MDE_release6.log...\n",
      "Copying gs://gp2tier2/release6_21122023/imputed_genotypes/MDE/chr2_MDE_release6.pgen...\n",
      "Copying gs://gp2tier2/release6_21122023/imputed_genotypes/MDE/chr2_MDE_release6.psam...\n",
      "Copying gs://gp2tier2/release6_21122023/imputed_genotypes/MDE/chr2_MDE_release6.pvar...\n",
      "/ [4/4 files][  2.2 GiB/  2.2 GiB] 100% Done  65.2 MiB/s ETA 00:00:00           \n",
      "Operation completed over 4 objects/2.2 GiB.                                      \n"
     ]
    },
    {
     "name": "stderr",
     "output_type": "stream",
     "text": [
      "Executing: /home/jupyter/tools/plink2                         --pfile /home/jupyter/Release6_MDE/chr2_MDE_release6                         --indep-pairwise 50 5 0.5                         --rm-dup force-first                         --out /home/jupyter/Release6_MDE/chr2_MDE_pruning\n"
     ]
    },
    {
     "name": "stdout",
     "output_type": "stream",
     "text": [
      "PLINK v2.00a6LM AVX2 Intel (6 Aug 2024)        www.cog-genomics.org/plink/2.0/\n",
      "(C) 2005-2024 Shaun Purcell, Christopher Chang   GNU General Public License v3\n",
      "Logging to /home/jupyter/Release6_MDE/chr2_MDE_pruning.log.\n",
      "Options in effect:\n",
      "  --indep-pairwise 50 5 0.5\n",
      "  --out /home/jupyter/Release6_MDE/chr2_MDE_pruning\n",
      "  --pfile /home/jupyter/Release6_MDE/chr2_MDE_release6\n",
      "  --rm-dup force-first\n",
      "\n",
      "Start time: Mon Oct 21 06:18:27 2024\n",
      "628867 MiB RAM detected, ~614761 available; reserving 314433 MiB for main\n",
      "workspace.\n",
      "Using up to 96 threads (change this with --threads).\n",
      "263 samples (87 females, 176 males; 263 founders) loaded from\n",
      "/home/jupyter/Release6_MDE/chr2_MDE_release6.psam.\n",
      "22238955 variants loaded from\n",
      "/home/jupyter/Release6_MDE/chr2_MDE_release6.pvar.\n",
      "1 binary phenotype loaded (218 cases, 21 controls).\n",
      "Note: Skipping --rm-dup since no duplicate IDs are present.\n",
      "Calculating allele frequencies... 101112131415161718192021222324252627282930313233343536373839404142434445464748495051525354555657585960616263646566676869707172737475767778798081828384858687888990919293949596979899done.\n",
      "--indep-pairwise (1 compute thread): 10111213141516171819202122232425262728293031323334353637383940414243444546474849505152535455565758596061626364656667686970717273747576777879808182838485868788899091929394959697989920940838/22238955 variants removed.\n",
      "Variant lists written to /home/jupyter/Release6_MDE/chr2_MDE_pruning.prune.in\n",
      "and /home/jupyter/Release6_MDE/chr2_MDE_pruning.prune.out .\n",
      "End time: Mon Oct 21 06:18:36 2024\n"
     ]
    },
    {
     "name": "stderr",
     "output_type": "stream",
     "text": [
      "Executing: /home/jupyter/tools/plink2                         --pfile /home/jupyter/Release6_MDE/chr2_MDE_release6                         --extract /home/jupyter/Release6_MDE/chr2_MDE_pruning.prune.in                         --maf 0.05                         --make-bed --out /home/jupyter/Release6_MDE/chr2_MDE_pruned_data\n"
     ]
    },
    {
     "name": "stdout",
     "output_type": "stream",
     "text": [
      "PLINK v2.00a6LM AVX2 Intel (6 Aug 2024)        www.cog-genomics.org/plink/2.0/\n",
      "(C) 2005-2024 Shaun Purcell, Christopher Chang   GNU General Public License v3\n",
      "Logging to /home/jupyter/Release6_MDE/chr2_MDE_pruned_data.log.\n",
      "Options in effect:\n",
      "  --extract /home/jupyter/Release6_MDE/chr2_MDE_pruning.prune.in\n",
      "  --maf 0.05\n",
      "  --make-bed\n",
      "  --out /home/jupyter/Release6_MDE/chr2_MDE_pruned_data\n",
      "  --pfile /home/jupyter/Release6_MDE/chr2_MDE_release6\n",
      "\n",
      "Start time: Mon Oct 21 06:18:38 2024\n",
      "628867 MiB RAM detected, ~615002 available; reserving 314433 MiB for main\n",
      "workspace.\n",
      "Using up to 96 threads (change this with --threads).\n",
      "263 samples (87 females, 176 males; 263 founders) loaded from\n",
      "/home/jupyter/Release6_MDE/chr2_MDE_release6.psam.\n",
      "22238955 variants loaded from\n",
      "/home/jupyter/Release6_MDE/chr2_MDE_release6.pvar.\n",
      "1 binary phenotype loaded (218 cases, 21 controls).\n",
      "--extract: 1298117 variants remaining.\n",
      "Calculating allele frequencies... 101112131415161718192021222324252627282930313233343536373839404142434445464748495051525354555657585960616263646566676869707172737475767778798081828384858687888990919293949596979899done.\n",
      "962571 variants removed due to allele frequency threshold(s)\n",
      "(--maf/--max-maf/--mac/--max-mac).\n",
      "335546 variants remaining after main filters.\n",
      "Writing /home/jupyter/Release6_MDE/chr2_MDE_pruned_data.fam ... done.\n",
      "Writing /home/jupyter/Release6_MDE/chr2_MDE_pruned_data.bim ... done.\n",
      "Writing /home/jupyter/Release6_MDE/chr2_MDE_pruned_data.bed ... 101112131415161718192021222324252627282930313233343536373839404142434445464748495051525354555657585960616263646566676869707172737475767778798081828384858687888990919293949596979899done.\n",
      "End time: Mon Oct 21 06:18:43 2024\n",
      "Removing raw files for chr2...\n"
     ]
    },
    {
     "name": "stderr",
     "output_type": "stream",
     "text": [
      "Executing: rm /home/jupyter/Release6_MDE/chr2_MDE_release6.p*\n"
     ]
    },
    {
     "name": "stdout",
     "output_type": "stream",
     "text": [
      "\n",
      "Processing chr3 for pruning...\n"
     ]
    },
    {
     "name": "stderr",
     "output_type": "stream",
     "text": [
      "Executing: gsutil -u terra-1b7613a0 -m cp gs://gp2tier2/release6_21122023/imputed_genotypes/MDE/chr3_MDE_release6.* /home/jupyter/Release6_MDE\n"
     ]
    },
    {
     "name": "stdout",
     "output_type": "stream",
     "text": [
      "Copying gs://gp2tier2/release6_21122023/imputed_genotypes/MDE/chr3_MDE_release6.log...\n",
      "Copying gs://gp2tier2/release6_21122023/imputed_genotypes/MDE/chr3_MDE_release6.pgen...\n",
      "Copying gs://gp2tier2/release6_21122023/imputed_genotypes/MDE/chr3_MDE_release6.psam...\n",
      "Copying gs://gp2tier2/release6_21122023/imputed_genotypes/MDE/chr3_MDE_release6.pvar...\n",
      "/ [4/4 files][  1.8 GiB/  1.8 GiB] 100% Done  79.5 MiB/s ETA 00:00:00           \n",
      "Operation completed over 4 objects/1.8 GiB.                                      \n"
     ]
    },
    {
     "name": "stderr",
     "output_type": "stream",
     "text": [
      "Executing: /home/jupyter/tools/plink2                         --pfile /home/jupyter/Release6_MDE/chr3_MDE_release6                         --indep-pairwise 50 5 0.5                         --rm-dup force-first                         --out /home/jupyter/Release6_MDE/chr3_MDE_pruning\n"
     ]
    },
    {
     "name": "stdout",
     "output_type": "stream",
     "text": [
      "PLINK v2.00a6LM AVX2 Intel (6 Aug 2024)        www.cog-genomics.org/plink/2.0/\n",
      "(C) 2005-2024 Shaun Purcell, Christopher Chang   GNU General Public License v3\n",
      "Logging to /home/jupyter/Release6_MDE/chr3_MDE_pruning.log.\n",
      "Options in effect:\n",
      "  --indep-pairwise 50 5 0.5\n",
      "  --out /home/jupyter/Release6_MDE/chr3_MDE_pruning\n",
      "  --pfile /home/jupyter/Release6_MDE/chr3_MDE_release6\n",
      "  --rm-dup force-first\n",
      "\n",
      "Start time: Mon Oct 21 06:19:06 2024\n",
      "628867 MiB RAM detected, ~615456 available; reserving 314433 MiB for main\n",
      "workspace.\n",
      "Using up to 96 threads (change this with --threads).\n",
      "263 samples (87 females, 176 males; 263 founders) loaded from\n",
      "/home/jupyter/Release6_MDE/chr3_MDE_release6.psam.\n",
      "18469141 variants loaded from\n",
      "/home/jupyter/Release6_MDE/chr3_MDE_release6.pvar.\n",
      "1 binary phenotype loaded (218 cases, 21 controls).\n",
      "Note: Skipping --rm-dup since no duplicate IDs are present.\n",
      "Calculating allele frequencies... 101112131415161718192021222324252627282930313233343536373839404142434445464748495051525354555657585960616263646566676869707172737475767778798081828384858687888990919293949596979899done.\n",
      "--indep-pairwise (1 compute thread): 10111213141516171819202122232425262728293031323334353637383940414243444546474849505152535455565758596061626364656667686970717273747576777879808182838485868788899091929394959697989917385417/18469141 variants removed.\n",
      "Variant lists written to /home/jupyter/Release6_MDE/chr3_MDE_pruning.prune.in\n",
      "and /home/jupyter/Release6_MDE/chr3_MDE_pruning.prune.out .\n",
      "End time: Mon Oct 21 06:19:14 2024\n"
     ]
    },
    {
     "name": "stderr",
     "output_type": "stream",
     "text": [
      "Executing: /home/jupyter/tools/plink2                         --pfile /home/jupyter/Release6_MDE/chr3_MDE_release6                         --extract /home/jupyter/Release6_MDE/chr3_MDE_pruning.prune.in                         --maf 0.05                         --make-bed --out /home/jupyter/Release6_MDE/chr3_MDE_pruned_data\n"
     ]
    },
    {
     "name": "stdout",
     "output_type": "stream",
     "text": [
      "PLINK v2.00a6LM AVX2 Intel (6 Aug 2024)        www.cog-genomics.org/plink/2.0/\n",
      "(C) 2005-2024 Shaun Purcell, Christopher Chang   GNU General Public License v3\n",
      "Logging to /home/jupyter/Release6_MDE/chr3_MDE_pruned_data.log.\n",
      "Options in effect:\n",
      "  --extract /home/jupyter/Release6_MDE/chr3_MDE_pruning.prune.in\n",
      "  --maf 0.05\n",
      "  --make-bed\n",
      "  --out /home/jupyter/Release6_MDE/chr3_MDE_pruned_data\n",
      "  --pfile /home/jupyter/Release6_MDE/chr3_MDE_release6\n",
      "\n",
      "Start time: Mon Oct 21 06:19:16 2024\n",
      "628867 MiB RAM detected, ~614853 available; reserving 314433 MiB for main\n",
      "workspace.\n",
      "Using up to 96 threads (change this with --threads).\n",
      "263 samples (87 females, 176 males; 263 founders) loaded from\n",
      "/home/jupyter/Release6_MDE/chr3_MDE_release6.psam.\n",
      "18469141 variants loaded from\n",
      "/home/jupyter/Release6_MDE/chr3_MDE_release6.pvar.\n",
      "1 binary phenotype loaded (218 cases, 21 controls).\n",
      "--extract: 1083724 variants remaining.\n",
      "Calculating allele frequencies... 101112131415161718192021222324252627282930313233343536373839404142434445464748495051525354555657585960616263646566676869707172737475767778798081828384858687888990919293949596979899done.\n",
      "794046 variants removed due to allele frequency threshold(s)\n",
      "(--maf/--max-maf/--mac/--max-mac).\n",
      "289678 variants remaining after main filters.\n",
      "Writing /home/jupyter/Release6_MDE/chr3_MDE_pruned_data.fam ... done.\n",
      "Writing /home/jupyter/Release6_MDE/chr3_MDE_pruned_data.bim ... done.\n",
      "Writing /home/jupyter/Release6_MDE/chr3_MDE_pruned_data.bed ... 101112131415161718192021222324252627282930313233343536373839404142434445464748495051525354555657585960616263646566676869707172737475767778798081828384858687888990919293949596979899done.\n",
      "End time: Mon Oct 21 06:19:20 2024\n",
      "Removing raw files for chr3...\n"
     ]
    },
    {
     "name": "stderr",
     "output_type": "stream",
     "text": [
      "Executing: rm /home/jupyter/Release6_MDE/chr3_MDE_release6.p*\n"
     ]
    },
    {
     "name": "stdout",
     "output_type": "stream",
     "text": [
      "\n",
      "Processing chr4 for pruning...\n"
     ]
    },
    {
     "name": "stderr",
     "output_type": "stream",
     "text": [
      "Executing: gsutil -u terra-1b7613a0 -m cp gs://gp2tier2/release6_21122023/imputed_genotypes/MDE/chr4_MDE_release6.* /home/jupyter/Release6_MDE\n"
     ]
    },
    {
     "name": "stdout",
     "output_type": "stream",
     "text": [
      "Copying gs://gp2tier2/release6_21122023/imputed_genotypes/MDE/chr4_MDE_release6.log...\n",
      "Copying gs://gp2tier2/release6_21122023/imputed_genotypes/MDE/chr4_MDE_release6.pgen...\n",
      "Copying gs://gp2tier2/release6_21122023/imputed_genotypes/MDE/chr4_MDE_release6.psam...\n",
      "Copying gs://gp2tier2/release6_21122023/imputed_genotypes/MDE/chr4_MDE_release6.pvar...\n",
      "- [4/4 files][  1.8 GiB/  1.8 GiB] 100% Done  63.8 MiB/s ETA 00:00:00           \n",
      "Operation completed over 4 objects/1.8 GiB.                                      \n"
     ]
    },
    {
     "name": "stderr",
     "output_type": "stream",
     "text": [
      "Executing: /home/jupyter/tools/plink2                         --pfile /home/jupyter/Release6_MDE/chr4_MDE_release6                         --indep-pairwise 50 5 0.5                         --rm-dup force-first                         --out /home/jupyter/Release6_MDE/chr4_MDE_pruning\n"
     ]
    },
    {
     "name": "stdout",
     "output_type": "stream",
     "text": [
      "PLINK v2.00a6LM AVX2 Intel (6 Aug 2024)        www.cog-genomics.org/plink/2.0/\n",
      "(C) 2005-2024 Shaun Purcell, Christopher Chang   GNU General Public License v3\n",
      "Logging to /home/jupyter/Release6_MDE/chr4_MDE_pruning.log.\n",
      "Options in effect:\n",
      "  --indep-pairwise 50 5 0.5\n",
      "  --out /home/jupyter/Release6_MDE/chr4_MDE_pruning\n",
      "  --pfile /home/jupyter/Release6_MDE/chr4_MDE_release6\n",
      "  --rm-dup force-first\n",
      "\n",
      "Start time: Mon Oct 21 06:19:50 2024\n",
      "628867 MiB RAM detected, ~614802 available; reserving 314433 MiB for main\n",
      "workspace.\n",
      "Using up to 96 threads (change this with --threads).\n",
      "263 samples (87 females, 176 males; 263 founders) loaded from\n",
      "/home/jupyter/Release6_MDE/chr4_MDE_release6.psam.\n",
      "17834850 variants loaded from\n",
      "/home/jupyter/Release6_MDE/chr4_MDE_release6.pvar.\n",
      "1 binary phenotype loaded (218 cases, 21 controls).\n",
      "Note: Skipping --rm-dup since no duplicate IDs are present.\n",
      "Calculating allele frequencies... 101112131415161718192021222324252627282930313233343536373839404142434445464748495051525354555657585960616263646566676869707172737475767778798081828384858687888990919293949596979899done.\n",
      "--indep-pairwise (1 compute thread): 10111213141516171819202122232425262728293031323334353637383940414243444546474849505152535455565758596061626364656667686970717273747576777879808182838485868788899091929394959697989916746748/17834850 variants removed.\n",
      "Variant lists written to /home/jupyter/Release6_MDE/chr4_MDE_pruning.prune.in\n",
      "and /home/jupyter/Release6_MDE/chr4_MDE_pruning.prune.out .\n",
      "End time: Mon Oct 21 06:19:58 2024\n"
     ]
    },
    {
     "name": "stderr",
     "output_type": "stream",
     "text": [
      "Executing: /home/jupyter/tools/plink2                         --pfile /home/jupyter/Release6_MDE/chr4_MDE_release6                         --extract /home/jupyter/Release6_MDE/chr4_MDE_pruning.prune.in                         --maf 0.05                         --make-bed --out /home/jupyter/Release6_MDE/chr4_MDE_pruned_data\n"
     ]
    },
    {
     "name": "stdout",
     "output_type": "stream",
     "text": [
      "PLINK v2.00a6LM AVX2 Intel (6 Aug 2024)        www.cog-genomics.org/plink/2.0/\n",
      "(C) 2005-2024 Shaun Purcell, Christopher Chang   GNU General Public License v3\n",
      "Logging to /home/jupyter/Release6_MDE/chr4_MDE_pruned_data.log.\n",
      "Options in effect:\n",
      "  --extract /home/jupyter/Release6_MDE/chr4_MDE_pruning.prune.in\n",
      "  --maf 0.05\n",
      "  --make-bed\n",
      "  --out /home/jupyter/Release6_MDE/chr4_MDE_pruned_data\n",
      "  --pfile /home/jupyter/Release6_MDE/chr4_MDE_release6\n",
      "\n",
      "Start time: Mon Oct 21 06:19:59 2024\n",
      "628867 MiB RAM detected, ~614923 available; reserving 314433 MiB for main\n",
      "workspace.\n",
      "Using up to 96 threads (change this with --threads).\n",
      "263 samples (87 females, 176 males; 263 founders) loaded from\n",
      "/home/jupyter/Release6_MDE/chr4_MDE_release6.psam.\n",
      "17834850 variants loaded from\n",
      "/home/jupyter/Release6_MDE/chr4_MDE_release6.pvar.\n",
      "1 binary phenotype loaded (218 cases, 21 controls).\n",
      "--extract: 1088102 variants remaining.\n",
      "Calculating allele frequencies... 101112131415161718192021222324252627282930313233343536373839404142434445464748495051525354555657585960616263646566676869707172737475767778798081828384858687888990919293949596979899done.\n",
      "799439 variants removed due to allele frequency threshold(s)\n",
      "(--maf/--max-maf/--mac/--max-mac).\n",
      "288663 variants remaining after main filters.\n",
      "Writing /home/jupyter/Release6_MDE/chr4_MDE_pruned_data.fam ... done.\n",
      "Writing /home/jupyter/Release6_MDE/chr4_MDE_pruned_data.bim ... done.\n",
      "Writing /home/jupyter/Release6_MDE/chr4_MDE_pruned_data.bed ... 101112131415161718192021222324252627282930313233343536373839404142434445464748495051525354555657585960616263646566676869707172737475767778798081828384858687888990919293949596979899done.\n",
      "End time: Mon Oct 21 06:20:03 2024\n",
      "Removing raw files for chr4...\n"
     ]
    },
    {
     "name": "stderr",
     "output_type": "stream",
     "text": [
      "Executing: rm /home/jupyter/Release6_MDE/chr4_MDE_release6.p*\n"
     ]
    },
    {
     "name": "stdout",
     "output_type": "stream",
     "text": [
      "\n",
      "Processing chr5 for pruning...\n"
     ]
    },
    {
     "name": "stderr",
     "output_type": "stream",
     "text": [
      "Executing: gsutil -u terra-1b7613a0 -m cp gs://gp2tier2/release6_21122023/imputed_genotypes/MDE/chr5_MDE_release6.* /home/jupyter/Release6_MDE\n"
     ]
    },
    {
     "name": "stdout",
     "output_type": "stream",
     "text": [
      "Copying gs://gp2tier2/release6_21122023/imputed_genotypes/MDE/chr5_MDE_release6.log...\n",
      "Copying gs://gp2tier2/release6_21122023/imputed_genotypes/MDE/chr5_MDE_release6.pgen...\n",
      "Copying gs://gp2tier2/release6_21122023/imputed_genotypes/MDE/chr5_MDE_release6.psam...\n",
      "Copying gs://gp2tier2/release6_21122023/imputed_genotypes/MDE/chr5_MDE_release6.pvar...\n",
      "/ [4/4 files][  1.6 GiB/  1.6 GiB] 100% Done  75.0 MiB/s ETA 00:00:00           \n",
      "Operation completed over 4 objects/1.6 GiB.                                      \n"
     ]
    },
    {
     "name": "stderr",
     "output_type": "stream",
     "text": [
      "Executing: /home/jupyter/tools/plink2                         --pfile /home/jupyter/Release6_MDE/chr5_MDE_release6                         --indep-pairwise 50 5 0.5                         --rm-dup force-first                         --out /home/jupyter/Release6_MDE/chr5_MDE_pruning\n"
     ]
    },
    {
     "name": "stdout",
     "output_type": "stream",
     "text": [
      "PLINK v2.00a6LM AVX2 Intel (6 Aug 2024)        www.cog-genomics.org/plink/2.0/\n",
      "(C) 2005-2024 Shaun Purcell, Christopher Chang   GNU General Public License v3\n",
      "Logging to /home/jupyter/Release6_MDE/chr5_MDE_pruning.log.\n",
      "Options in effect:\n",
      "  --indep-pairwise 50 5 0.5\n",
      "  --out /home/jupyter/Release6_MDE/chr5_MDE_pruning\n",
      "  --pfile /home/jupyter/Release6_MDE/chr5_MDE_release6\n",
      "  --rm-dup force-first\n",
      "\n",
      "Start time: Mon Oct 21 06:20:27 2024\n",
      "628867 MiB RAM detected, ~615364 available; reserving 314433 MiB for main\n",
      "workspace.\n",
      "Using up to 96 threads (change this with --threads).\n",
      "263 samples (87 females, 176 males; 263 founders) loaded from\n",
      "/home/jupyter/Release6_MDE/chr5_MDE_release6.psam.\n",
      "16560495 variants loaded from\n",
      "/home/jupyter/Release6_MDE/chr5_MDE_release6.pvar.\n",
      "1 binary phenotype loaded (218 cases, 21 controls).\n",
      "Note: Skipping --rm-dup since no duplicate IDs are present.\n",
      "Calculating allele frequencies... 101112131415161718192021222324252627282930313233343536373839404142434445464748495051525354555657585960616263646566676869707172737475767778798081828384858687888990919293949596979899done.\n",
      "--indep-pairwise (1 compute thread): 10111213141516171819202122232425262728293031323334353637383940414243444546474849505152535455565758596061626364656667686970717273747576777879808182838485868788899091929394959697989915540918/16560495 variants removed.\n",
      "Variant lists written to /home/jupyter/Release6_MDE/chr5_MDE_pruning.prune.in\n",
      "and /home/jupyter/Release6_MDE/chr5_MDE_pruning.prune.out .\n",
      "End time: Mon Oct 21 06:20:35 2024\n"
     ]
    },
    {
     "name": "stderr",
     "output_type": "stream",
     "text": [
      "Executing: /home/jupyter/tools/plink2                         --pfile /home/jupyter/Release6_MDE/chr5_MDE_release6                         --extract /home/jupyter/Release6_MDE/chr5_MDE_pruning.prune.in                         --maf 0.05                         --make-bed --out /home/jupyter/Release6_MDE/chr5_MDE_pruned_data\n"
     ]
    },
    {
     "name": "stdout",
     "output_type": "stream",
     "text": [
      "PLINK v2.00a6LM AVX2 Intel (6 Aug 2024)        www.cog-genomics.org/plink/2.0/\n",
      "(C) 2005-2024 Shaun Purcell, Christopher Chang   GNU General Public License v3\n",
      "Logging to /home/jupyter/Release6_MDE/chr5_MDE_pruned_data.log.\n",
      "Options in effect:\n",
      "  --extract /home/jupyter/Release6_MDE/chr5_MDE_pruning.prune.in\n",
      "  --maf 0.05\n",
      "  --make-bed\n",
      "  --out /home/jupyter/Release6_MDE/chr5_MDE_pruned_data\n",
      "  --pfile /home/jupyter/Release6_MDE/chr5_MDE_release6\n",
      "\n",
      "Start time: Mon Oct 21 06:20:36 2024\n",
      "628867 MiB RAM detected, ~614986 available; reserving 314433 MiB for main\n",
      "workspace.\n",
      "Using up to 96 threads (change this with --threads).\n",
      "263 samples (87 females, 176 males; 263 founders) loaded from\n",
      "/home/jupyter/Release6_MDE/chr5_MDE_release6.psam.\n",
      "16560495 variants loaded from\n",
      "/home/jupyter/Release6_MDE/chr5_MDE_release6.pvar.\n",
      "1 binary phenotype loaded (218 cases, 21 controls).\n",
      "--extract: 1019577 variants remaining.\n",
      "Calculating allele frequencies... 101112131415161718192021222324252627282930313233343536373839404142434445464748495051525354555657585960616263646566676869707172737475767778798081828384858687888990919293949596979899done.\n",
      "756795 variants removed due to allele frequency threshold(s)\n",
      "(--maf/--max-maf/--mac/--max-mac).\n",
      "262782 variants remaining after main filters.\n",
      "Writing /home/jupyter/Release6_MDE/chr5_MDE_pruned_data.fam ... done.\n",
      "Writing /home/jupyter/Release6_MDE/chr5_MDE_pruned_data.bim ... done.\n",
      "Writing /home/jupyter/Release6_MDE/chr5_MDE_pruned_data.bed ... 101112131415161718192021222324252627282930313233343536373839404142434445464748495051525354555657585960616263646566676869707172737475767778798081828384858687888990919293949596979899done.\n",
      "End time: Mon Oct 21 06:20:40 2024\n",
      "Removing raw files for chr5...\n"
     ]
    },
    {
     "name": "stderr",
     "output_type": "stream",
     "text": [
      "Executing: rm /home/jupyter/Release6_MDE/chr5_MDE_release6.p*\n"
     ]
    },
    {
     "name": "stdout",
     "output_type": "stream",
     "text": [
      "\n",
      "Processing chr6 for pruning...\n"
     ]
    },
    {
     "name": "stderr",
     "output_type": "stream",
     "text": [
      "Executing: gsutil -u terra-1b7613a0 -m cp gs://gp2tier2/release6_21122023/imputed_genotypes/MDE/chr6_MDE_release6.* /home/jupyter/Release6_MDE\n"
     ]
    },
    {
     "name": "stdout",
     "output_type": "stream",
     "text": [
      "Copying gs://gp2tier2/release6_21122023/imputed_genotypes/MDE/chr6_MDE_release6.log...\n",
      "Copying gs://gp2tier2/release6_21122023/imputed_genotypes/MDE/chr6_MDE_release6.pgen...\n",
      "Copying gs://gp2tier2/release6_21122023/imputed_genotypes/MDE/chr6_MDE_release6.psam...\n",
      "Copying gs://gp2tier2/release6_21122023/imputed_genotypes/MDE/chr6_MDE_release6.pvar...\n",
      "- [4/4 files][  1.6 GiB/  1.6 GiB] 100% Done  62.8 MiB/s ETA 00:00:00           \n",
      "Operation completed over 4 objects/1.6 GiB.                                      \n"
     ]
    },
    {
     "name": "stderr",
     "output_type": "stream",
     "text": [
      "Executing: /home/jupyter/tools/plink2                         --pfile /home/jupyter/Release6_MDE/chr6_MDE_release6                         --indep-pairwise 50 5 0.5                         --rm-dup force-first                         --out /home/jupyter/Release6_MDE/chr6_MDE_pruning\n"
     ]
    },
    {
     "name": "stdout",
     "output_type": "stream",
     "text": [
      "PLINK v2.00a6LM AVX2 Intel (6 Aug 2024)        www.cog-genomics.org/plink/2.0/\n",
      "(C) 2005-2024 Shaun Purcell, Christopher Chang   GNU General Public License v3\n",
      "Logging to /home/jupyter/Release6_MDE/chr6_MDE_pruning.log.\n",
      "Options in effect:\n",
      "  --indep-pairwise 50 5 0.5\n",
      "  --out /home/jupyter/Release6_MDE/chr6_MDE_pruning\n",
      "  --pfile /home/jupyter/Release6_MDE/chr6_MDE_release6\n",
      "  --rm-dup force-first\n",
      "\n",
      "Start time: Mon Oct 21 06:21:04 2024\n",
      "628867 MiB RAM detected, ~614979 available; reserving 314433 MiB for main\n",
      "workspace.\n",
      "Using up to 96 threads (change this with --threads).\n",
      "263 samples (87 females, 176 males; 263 founders) loaded from\n",
      "/home/jupyter/Release6_MDE/chr6_MDE_release6.psam.\n",
      "15671109 variants loaded from\n",
      "/home/jupyter/Release6_MDE/chr6_MDE_release6.pvar.\n",
      "1 binary phenotype loaded (218 cases, 21 controls).\n",
      "Note: Skipping --rm-dup since no duplicate IDs are present.\n",
      "Calculating allele frequencies... 101112131415161718192021222324252627282930313233343536373839404142434445464748495051525354555657585960616263646566676869707172737475767778798081828384858687888990919293949596979899done.\n",
      "--indep-pairwise (1 compute thread): 10111213141516171819202122232425262728293031323334353637383940414243444546474849505152535455565758596061626364656667686970717273747576777879808182838485868788899091929394959697989914704931/15671109 variants removed.\n",
      "Variant lists written to /home/jupyter/Release6_MDE/chr6_MDE_pruning.prune.in\n",
      "and /home/jupyter/Release6_MDE/chr6_MDE_pruning.prune.out .\n",
      "End time: Mon Oct 21 06:21:11 2024\n"
     ]
    },
    {
     "name": "stderr",
     "output_type": "stream",
     "text": [
      "Executing: /home/jupyter/tools/plink2                         --pfile /home/jupyter/Release6_MDE/chr6_MDE_release6                         --extract /home/jupyter/Release6_MDE/chr6_MDE_pruning.prune.in                         --maf 0.05                         --make-bed --out /home/jupyter/Release6_MDE/chr6_MDE_pruned_data\n"
     ]
    },
    {
     "name": "stdout",
     "output_type": "stream",
     "text": [
      "PLINK v2.00a6LM AVX2 Intel (6 Aug 2024)        www.cog-genomics.org/plink/2.0/\n",
      "(C) 2005-2024 Shaun Purcell, Christopher Chang   GNU General Public License v3\n",
      "Logging to /home/jupyter/Release6_MDE/chr6_MDE_pruned_data.log.\n",
      "Options in effect:\n",
      "  --extract /home/jupyter/Release6_MDE/chr6_MDE_pruning.prune.in\n",
      "  --maf 0.05\n",
      "  --make-bed\n",
      "  --out /home/jupyter/Release6_MDE/chr6_MDE_pruned_data\n",
      "  --pfile /home/jupyter/Release6_MDE/chr6_MDE_release6\n",
      "\n",
      "Start time: Mon Oct 21 06:21:12 2024\n",
      "628867 MiB RAM detected, ~614877 available; reserving 314433 MiB for main\n",
      "workspace.\n",
      "Using up to 96 threads (change this with --threads).\n",
      "263 samples (87 females, 176 males; 263 founders) loaded from\n",
      "/home/jupyter/Release6_MDE/chr6_MDE_release6.psam.\n",
      "15671109 variants loaded from\n",
      "/home/jupyter/Release6_MDE/chr6_MDE_release6.pvar.\n",
      "1 binary phenotype loaded (218 cases, 21 controls).\n",
      "--extract: 966178 variants remaining.\n",
      "Calculating allele frequencies... 101112131415161718192021222324252627282930313233343536373839404142434445464748495051525354555657585960616263646566676869707172737475767778798081828384858687888990919293949596979899done.\n",
      "706890 variants removed due to allele frequency threshold(s)\n",
      "(--maf/--max-maf/--mac/--max-mac).\n",
      "259288 variants remaining after main filters.\n",
      "Writing /home/jupyter/Release6_MDE/chr6_MDE_pruned_data.fam ... done.\n",
      "Writing /home/jupyter/Release6_MDE/chr6_MDE_pruned_data.bim ... done.\n",
      "Writing /home/jupyter/Release6_MDE/chr6_MDE_pruned_data.bed ... 101112131415161718192021222324252627282930313233343536373839404142434445464748495051525354555657585960616263646566676869707172737475767778798081828384858687888990919293949596979899done.\n",
      "End time: Mon Oct 21 06:21:16 2024\n",
      "Removing raw files for chr6...\n"
     ]
    },
    {
     "name": "stderr",
     "output_type": "stream",
     "text": [
      "Executing: rm /home/jupyter/Release6_MDE/chr6_MDE_release6.p*\n"
     ]
    },
    {
     "name": "stdout",
     "output_type": "stream",
     "text": [
      "\n",
      "Processing chr7 for pruning...\n"
     ]
    },
    {
     "name": "stderr",
     "output_type": "stream",
     "text": [
      "Executing: gsutil -u terra-1b7613a0 -m cp gs://gp2tier2/release6_21122023/imputed_genotypes/MDE/chr7_MDE_release6.* /home/jupyter/Release6_MDE\n"
     ]
    },
    {
     "name": "stdout",
     "output_type": "stream",
     "text": [
      "Copying gs://gp2tier2/release6_21122023/imputed_genotypes/MDE/chr7_MDE_release6.log...\n",
      "Copying gs://gp2tier2/release6_21122023/imputed_genotypes/MDE/chr7_MDE_release6.pgen...\n",
      "Copying gs://gp2tier2/release6_21122023/imputed_genotypes/MDE/chr7_MDE_release6.pvar...\n",
      "Copying gs://gp2tier2/release6_21122023/imputed_genotypes/MDE/chr7_MDE_release6.psam...\n",
      "\\ [4/4 files][  1.5 GiB/  1.5 GiB] 100% Done  69.4 MiB/s ETA 00:00:00           \n",
      "Operation completed over 4 objects/1.5 GiB.                                      \n"
     ]
    },
    {
     "name": "stderr",
     "output_type": "stream",
     "text": [
      "Executing: /home/jupyter/tools/plink2                         --pfile /home/jupyter/Release6_MDE/chr7_MDE_release6                         --indep-pairwise 50 5 0.5                         --rm-dup force-first                         --out /home/jupyter/Release6_MDE/chr7_MDE_pruning\n"
     ]
    },
    {
     "name": "stdout",
     "output_type": "stream",
     "text": [
      "PLINK v2.00a6LM AVX2 Intel (6 Aug 2024)        www.cog-genomics.org/plink/2.0/\n",
      "(C) 2005-2024 Shaun Purcell, Christopher Chang   GNU General Public License v3\n",
      "Logging to /home/jupyter/Release6_MDE/chr7_MDE_pruning.log.\n",
      "Options in effect:\n",
      "  --indep-pairwise 50 5 0.5\n",
      "  --out /home/jupyter/Release6_MDE/chr7_MDE_pruning\n",
      "  --pfile /home/jupyter/Release6_MDE/chr7_MDE_release6\n",
      "  --rm-dup force-first\n",
      "\n",
      "Start time: Mon Oct 21 06:21:38 2024\n",
      "628867 MiB RAM detected, ~615394 available; reserving 314433 MiB for main\n",
      "workspace.\n",
      "Using up to 96 threads (change this with --threads).\n",
      "263 samples (87 females, 176 males; 263 founders) loaded from\n",
      "/home/jupyter/Release6_MDE/chr7_MDE_release6.psam.\n",
      "14675893 variants loaded from\n",
      "/home/jupyter/Release6_MDE/chr7_MDE_release6.pvar.\n",
      "1 binary phenotype loaded (218 cases, 21 controls).\n",
      "Note: Skipping --rm-dup since no duplicate IDs are present.\n",
      "Calculating allele frequencies... 101112131415161718192021222324252627282930313233343536373839404142434445464748495051525354555657585960616263646566676869707172737475767778798081828384858687888990919293949596979899done.\n",
      "--indep-pairwise (1 compute thread): 10111213141516171819202122232425262728293031323334353637383940414243444546474849505152535455565758596061626364656667686970717273747576777879808182838485868788899091929394959697989913798092/14675893 variants removed.\n",
      "Variant lists written to /home/jupyter/Release6_MDE/chr7_MDE_pruning.prune.in\n",
      "and /home/jupyter/Release6_MDE/chr7_MDE_pruning.prune.out .\n",
      "End time: Mon Oct 21 06:21:45 2024\n"
     ]
    },
    {
     "name": "stderr",
     "output_type": "stream",
     "text": [
      "Executing: /home/jupyter/tools/plink2                         --pfile /home/jupyter/Release6_MDE/chr7_MDE_release6                         --extract /home/jupyter/Release6_MDE/chr7_MDE_pruning.prune.in                         --maf 0.05                         --make-bed --out /home/jupyter/Release6_MDE/chr7_MDE_pruned_data\n"
     ]
    },
    {
     "name": "stdout",
     "output_type": "stream",
     "text": [
      "PLINK v2.00a6LM AVX2 Intel (6 Aug 2024)        www.cog-genomics.org/plink/2.0/\n",
      "(C) 2005-2024 Shaun Purcell, Christopher Chang   GNU General Public License v3\n",
      "Logging to /home/jupyter/Release6_MDE/chr7_MDE_pruned_data.log.\n",
      "Options in effect:\n",
      "  --extract /home/jupyter/Release6_MDE/chr7_MDE_pruning.prune.in\n",
      "  --maf 0.05\n",
      "  --make-bed\n",
      "  --out /home/jupyter/Release6_MDE/chr7_MDE_pruned_data\n",
      "  --pfile /home/jupyter/Release6_MDE/chr7_MDE_release6\n",
      "\n",
      "Start time: Mon Oct 21 06:21:46 2024\n",
      "628867 MiB RAM detected, ~614418 available; reserving 314433 MiB for main\n",
      "workspace.\n",
      "Using up to 96 threads (change this with --threads).\n",
      "263 samples (87 females, 176 males; 263 founders) loaded from\n",
      "/home/jupyter/Release6_MDE/chr7_MDE_release6.psam.\n",
      "14675893 variants loaded from\n",
      "/home/jupyter/Release6_MDE/chr7_MDE_release6.pvar.\n",
      "1 binary phenotype loaded (218 cases, 21 controls).\n",
      "--extract: 877801 variants remaining.\n",
      "Calculating allele frequencies... 10111213141516171819202122232425262728293031323334353637383940414243444546474849505152535455565758596061626364656667686970717273747576777879808182838485868788899091929293949596979899done.\n",
      "642691 variants removed due to allele frequency threshold(s)\n",
      "(--maf/--max-maf/--mac/--max-mac).\n",
      "235110 variants remaining after main filters.\n",
      "Writing /home/jupyter/Release6_MDE/chr7_MDE_pruned_data.fam ... done.\n",
      "Writing /home/jupyter/Release6_MDE/chr7_MDE_pruned_data.bim ... done.\n",
      "Writing /home/jupyter/Release6_MDE/chr7_MDE_pruned_data.bed ... 10111213141516171819202021222324252627282930313233343536373839404142434445464748495051525354555657585960616263646566676869707172737475767778798081828384858687888990919293949596979899done.\n",
      "End time: Mon Oct 21 06:21:49 2024\n",
      "Removing raw files for chr7...\n"
     ]
    },
    {
     "name": "stderr",
     "output_type": "stream",
     "text": [
      "Executing: rm /home/jupyter/Release6_MDE/chr7_MDE_release6.p*\n"
     ]
    },
    {
     "name": "stdout",
     "output_type": "stream",
     "text": [
      "\n",
      "Processing chr8 for pruning...\n"
     ]
    },
    {
     "name": "stderr",
     "output_type": "stream",
     "text": [
      "Executing: gsutil -u terra-1b7613a0 -m cp gs://gp2tier2/release6_21122023/imputed_genotypes/MDE/chr8_MDE_release6.* /home/jupyter/Release6_MDE\n"
     ]
    },
    {
     "name": "stdout",
     "output_type": "stream",
     "text": [
      "Copying gs://gp2tier2/release6_21122023/imputed_genotypes/MDE/chr8_MDE_release6.log...\n",
      "Copying gs://gp2tier2/release6_21122023/imputed_genotypes/MDE/chr8_MDE_release6.pgen...\n",
      "Copying gs://gp2tier2/release6_21122023/imputed_genotypes/MDE/chr8_MDE_release6.psam...\n",
      "Copying gs://gp2tier2/release6_21122023/imputed_genotypes/MDE/chr8_MDE_release6.pvar...\n",
      "/ [4/4 files][  1.4 GiB/  1.4 GiB] 100% Done  76.4 MiB/s ETA 00:00:00           \n",
      "Operation completed over 4 objects/1.4 GiB.                                      \n"
     ]
    },
    {
     "name": "stderr",
     "output_type": "stream",
     "text": [
      "Executing: /home/jupyter/tools/plink2                         --pfile /home/jupyter/Release6_MDE/chr8_MDE_release6                         --indep-pairwise 50 5 0.5                         --rm-dup force-first                         --out /home/jupyter/Release6_MDE/chr8_MDE_pruning\n"
     ]
    },
    {
     "name": "stdout",
     "output_type": "stream",
     "text": [
      "PLINK v2.00a6LM AVX2 Intel (6 Aug 2024)        www.cog-genomics.org/plink/2.0/\n",
      "(C) 2005-2024 Shaun Purcell, Christopher Chang   GNU General Public License v3\n",
      "Logging to /home/jupyter/Release6_MDE/chr8_MDE_pruning.log.\n",
      "Options in effect:\n",
      "  --indep-pairwise 50 5 0.5\n",
      "  --out /home/jupyter/Release6_MDE/chr8_MDE_pruning\n",
      "  --pfile /home/jupyter/Release6_MDE/chr8_MDE_release6\n",
      "  --rm-dup force-first\n",
      "\n",
      "Start time: Mon Oct 21 06:22:10 2024\n",
      "628867 MiB RAM detected, ~615347 available; reserving 314433 MiB for main\n",
      "workspace.\n",
      "Using up to 96 threads (change this with --threads).\n",
      "263 samples (87 females, 176 males; 263 founders) loaded from\n",
      "/home/jupyter/Release6_MDE/chr8_MDE_release6.psam.\n",
      "14339496 variants loaded from\n",
      "/home/jupyter/Release6_MDE/chr8_MDE_release6.pvar.\n",
      "1 binary phenotype loaded (218 cases, 21 controls).\n",
      "Note: Skipping --rm-dup since no duplicate IDs are present.\n",
      "Calculating allele frequencies... 101112131415161718192021222324252627282930313233343536373839404142434445464748495051525354555657585960616263646566676869707172737475767778798081828384858687888990919293949596979899done.\n",
      "--indep-pairwise (1 compute thread): 10111213141516171819202122232425262728293031323334353637383940414243444546474849505152535455565758596061626364656667686970717273747576777879808182838485868788899091929394959697989913478312/14339496 variants removed.\n",
      "Variant lists written to /home/jupyter/Release6_MDE/chr8_MDE_pruning.prune.in\n",
      "and /home/jupyter/Release6_MDE/chr8_MDE_pruning.prune.out .\n",
      "End time: Mon Oct 21 06:22:17 2024\n"
     ]
    },
    {
     "name": "stderr",
     "output_type": "stream",
     "text": [
      "Executing: /home/jupyter/tools/plink2                         --pfile /home/jupyter/Release6_MDE/chr8_MDE_release6                         --extract /home/jupyter/Release6_MDE/chr8_MDE_pruning.prune.in                         --maf 0.05                         --make-bed --out /home/jupyter/Release6_MDE/chr8_MDE_pruned_data\n"
     ]
    },
    {
     "name": "stdout",
     "output_type": "stream",
     "text": [
      "PLINK v2.00a6LM AVX2 Intel (6 Aug 2024)        www.cog-genomics.org/plink/2.0/\n",
      "(C) 2005-2024 Shaun Purcell, Christopher Chang   GNU General Public License v3\n",
      "Logging to /home/jupyter/Release6_MDE/chr8_MDE_pruned_data.log.\n",
      "Options in effect:\n",
      "  --extract /home/jupyter/Release6_MDE/chr8_MDE_pruning.prune.in\n",
      "  --maf 0.05\n",
      "  --make-bed\n",
      "  --out /home/jupyter/Release6_MDE/chr8_MDE_pruned_data\n",
      "  --pfile /home/jupyter/Release6_MDE/chr8_MDE_release6\n",
      "\n",
      "Start time: Mon Oct 21 06:22:18 2024\n",
      "628867 MiB RAM detected, ~614941 available; reserving 314433 MiB for main\n",
      "workspace.\n",
      "Using up to 96 threads (change this with --threads).\n",
      "263 samples (87 females, 176 males; 263 founders) loaded from\n",
      "/home/jupyter/Release6_MDE/chr8_MDE_release6.psam.\n",
      "14339496 variants loaded from\n",
      "/home/jupyter/Release6_MDE/chr8_MDE_release6.pvar.\n",
      "1 binary phenotype loaded (218 cases, 21 controls).\n",
      "--extract: 861184 variants remaining.\n",
      "Calculating allele frequencies... 101112131415161718192021222324252627282930313233343536373839404142434445464748495051525354555657585960616263646566676869707172737475767778798081828384858687888990919293949596979899done.\n",
      "640140 variants removed due to allele frequency threshold(s)\n",
      "(--maf/--max-maf/--mac/--max-mac).\n",
      "221044 variants remaining after main filters.\n",
      "Writing /home/jupyter/Release6_MDE/chr8_MDE_pruned_data.fam ... done.\n",
      "Writing /home/jupyter/Release6_MDE/chr8_MDE_pruned_data.bim ... done.\n",
      "Writing /home/jupyter/Release6_MDE/chr8_MDE_pruned_data.bed ... 101112131415161718192021222324252627282930313233343536373839404142434445464748495051525354555657585960616263646566676869707172737475767778798081828384858687888990919293949596979899done.\n",
      "End time: Mon Oct 21 06:22:21 2024\n",
      "Removing raw files for chr8...\n"
     ]
    },
    {
     "name": "stderr",
     "output_type": "stream",
     "text": [
      "Executing: rm /home/jupyter/Release6_MDE/chr8_MDE_release6.p*\n"
     ]
    },
    {
     "name": "stdout",
     "output_type": "stream",
     "text": [
      "\n",
      "Processing chr9 for pruning...\n"
     ]
    },
    {
     "name": "stderr",
     "output_type": "stream",
     "text": [
      "Executing: gsutil -u terra-1b7613a0 -m cp gs://gp2tier2/release6_21122023/imputed_genotypes/MDE/chr9_MDE_release6.* /home/jupyter/Release6_MDE\n"
     ]
    },
    {
     "name": "stdout",
     "output_type": "stream",
     "text": [
      "Copying gs://gp2tier2/release6_21122023/imputed_genotypes/MDE/chr9_MDE_release6.log...\n",
      "Copying gs://gp2tier2/release6_21122023/imputed_genotypes/MDE/chr9_MDE_release6.pgen...\n",
      "Copying gs://gp2tier2/release6_21122023/imputed_genotypes/MDE/chr9_MDE_release6.psam...\n",
      "Copying gs://gp2tier2/release6_21122023/imputed_genotypes/MDE/chr9_MDE_release6.pvar...\n",
      "| [4/4 files][  1.1 GiB/  1.1 GiB] 100% Done  76.7 MiB/s ETA 00:00:00           \n",
      "Operation completed over 4 objects/1.1 GiB.                                      \n"
     ]
    },
    {
     "name": "stderr",
     "output_type": "stream",
     "text": [
      "Executing: /home/jupyter/tools/plink2                         --pfile /home/jupyter/Release6_MDE/chr9_MDE_release6                         --indep-pairwise 50 5 0.5                         --rm-dup force-first                         --out /home/jupyter/Release6_MDE/chr9_MDE_pruning\n"
     ]
    },
    {
     "name": "stdout",
     "output_type": "stream",
     "text": [
      "PLINK v2.00a6LM AVX2 Intel (6 Aug 2024)        www.cog-genomics.org/plink/2.0/\n",
      "(C) 2005-2024 Shaun Purcell, Christopher Chang   GNU General Public License v3\n",
      "Logging to /home/jupyter/Release6_MDE/chr9_MDE_pruning.log.\n",
      "Options in effect:\n",
      "  --indep-pairwise 50 5 0.5\n",
      "  --out /home/jupyter/Release6_MDE/chr9_MDE_pruning\n",
      "  --pfile /home/jupyter/Release6_MDE/chr9_MDE_release6\n",
      "  --rm-dup force-first\n",
      "\n",
      "Start time: Mon Oct 21 06:22:41 2024\n",
      "628867 MiB RAM detected, ~613872 available; reserving 314433 MiB for main\n",
      "workspace.\n",
      "Using up to 96 threads (change this with --threads).\n",
      "263 samples (87 females, 176 males; 263 founders) loaded from\n",
      "/home/jupyter/Release6_MDE/chr9_MDE_release6.psam.\n",
      "11085758 variants loaded from\n",
      "/home/jupyter/Release6_MDE/chr9_MDE_release6.pvar.\n",
      "1 binary phenotype loaded (218 cases, 21 controls).\n",
      "Note: Skipping --rm-dup since no duplicate IDs are present.\n",
      "Calculating allele frequencies... 101112131415161718192021222324252627282930313233343536373839404142434445464748495051525354555657585960616263646566676869707172737475767778798081828384858687888990919293949596979899done.\n",
      "--indep-pairwise (1 compute thread): 10111213141516171819202122232425262728293031323334353637383940414243444546474849505152535455565758596061626364656667686970717273747576777879808182838485868788899091929394959697989910439325/11085758 variants removed.\n",
      "Variant lists written to /home/jupyter/Release6_MDE/chr9_MDE_pruning.prune.in\n",
      "and /home/jupyter/Release6_MDE/chr9_MDE_pruning.prune.out .\n",
      "End time: Mon Oct 21 06:22:46 2024\n"
     ]
    },
    {
     "name": "stderr",
     "output_type": "stream",
     "text": [
      "Executing: /home/jupyter/tools/plink2                         --pfile /home/jupyter/Release6_MDE/chr9_MDE_release6                         --extract /home/jupyter/Release6_MDE/chr9_MDE_pruning.prune.in                         --maf 0.05                         --make-bed --out /home/jupyter/Release6_MDE/chr9_MDE_pruned_data\n"
     ]
    },
    {
     "name": "stdout",
     "output_type": "stream",
     "text": [
      "PLINK v2.00a6LM AVX2 Intel (6 Aug 2024)        www.cog-genomics.org/plink/2.0/\n",
      "(C) 2005-2024 Shaun Purcell, Christopher Chang   GNU General Public License v3\n",
      "Logging to /home/jupyter/Release6_MDE/chr9_MDE_pruned_data.log.\n",
      "Options in effect:\n",
      "  --extract /home/jupyter/Release6_MDE/chr9_MDE_pruning.prune.in\n",
      "  --maf 0.05\n",
      "  --make-bed\n",
      "  --out /home/jupyter/Release6_MDE/chr9_MDE_pruned_data\n",
      "  --pfile /home/jupyter/Release6_MDE/chr9_MDE_release6\n",
      "\n",
      "Start time: Mon Oct 21 06:22:47 2024\n",
      "628867 MiB RAM detected, ~615068 available; reserving 314433 MiB for main\n",
      "workspace.\n",
      "Using up to 96 threads (change this with --threads).\n",
      "263 samples (87 females, 176 males; 263 founders) loaded from\n",
      "/home/jupyter/Release6_MDE/chr9_MDE_release6.psam.\n",
      "11085758 variants loaded from\n",
      "/home/jupyter/Release6_MDE/chr9_MDE_release6.pvar.\n",
      "1 binary phenotype loaded (218 cases, 21 controls).\n",
      "--extract: 646433 variants remaining.\n",
      "Calculating allele frequencies... 101112131415161718192021222324252627282930313233343536373839404142434445464748495051525354555657585960616263646566676869707172737475767778798081828384858687888990919293949596979899done.\n",
      "472514 variants removed due to allele frequency threshold(s)\n",
      "(--maf/--max-maf/--mac/--max-mac).\n",
      "173919 variants remaining after main filters.\n",
      "Writing /home/jupyter/Release6_MDE/chr9_MDE_pruned_data.fam ... done.\n",
      "Writing /home/jupyter/Release6_MDE/chr9_MDE_pruned_data.bim ... done.\n",
      "Writing /home/jupyter/Release6_MDE/chr9_MDE_pruned_data.bed ... 101112131415161718192021222324252627282930313233343536373839404142434445464748495051525354555657585960616263646566676869707172737475767778798081828384858687888990919293949596979899done.\n",
      "End time: Mon Oct 21 06:22:50 2024\n",
      "Removing raw files for chr9...\n"
     ]
    },
    {
     "name": "stderr",
     "output_type": "stream",
     "text": [
      "Executing: rm /home/jupyter/Release6_MDE/chr9_MDE_release6.p*\n"
     ]
    },
    {
     "name": "stdout",
     "output_type": "stream",
     "text": [
      "\n",
      "Processing chr10 for pruning...\n"
     ]
    },
    {
     "name": "stderr",
     "output_type": "stream",
     "text": [
      "Executing: gsutil -u terra-1b7613a0 -m cp gs://gp2tier2/release6_21122023/imputed_genotypes/MDE/chr10_MDE_release6.* /home/jupyter/Release6_MDE\n"
     ]
    },
    {
     "name": "stdout",
     "output_type": "stream",
     "text": [
      "Copying gs://gp2tier2/release6_21122023/imputed_genotypes/MDE/chr10_MDE_release6.log...\n",
      "Copying gs://gp2tier2/release6_21122023/imputed_genotypes/MDE/chr10_MDE_release6.pgen...\n",
      "Copying gs://gp2tier2/release6_21122023/imputed_genotypes/MDE/chr10_MDE_release6.psam...\n",
      "Copying gs://gp2tier2/release6_21122023/imputed_genotypes/MDE/chr10_MDE_release6.pvar...\n",
      "- [4/4 files][  1.3 GiB/  1.3 GiB] 100% Done  63.3 MiB/s ETA 00:00:00           \n",
      "Operation completed over 4 objects/1.3 GiB.                                      \n"
     ]
    },
    {
     "name": "stderr",
     "output_type": "stream",
     "text": [
      "Executing: /home/jupyter/tools/plink2                         --pfile /home/jupyter/Release6_MDE/chr10_MDE_release6                         --indep-pairwise 50 5 0.5                         --rm-dup force-first                         --out /home/jupyter/Release6_MDE/chr10_MDE_pruning\n"
     ]
    },
    {
     "name": "stdout",
     "output_type": "stream",
     "text": [
      "PLINK v2.00a6LM AVX2 Intel (6 Aug 2024)        www.cog-genomics.org/plink/2.0/\n",
      "(C) 2005-2024 Shaun Purcell, Christopher Chang   GNU General Public License v3\n",
      "Logging to /home/jupyter/Release6_MDE/chr10_MDE_pruning.log.\n",
      "Options in effect:\n",
      "  --indep-pairwise 50 5 0.5\n",
      "  --out /home/jupyter/Release6_MDE/chr10_MDE_pruning\n",
      "  --pfile /home/jupyter/Release6_MDE/chr10_MDE_release6\n",
      "  --rm-dup force-first\n",
      "\n",
      "Start time: Mon Oct 21 06:23:12 2024\n",
      "628867 MiB RAM detected, ~615356 available; reserving 314433 MiB for main\n",
      "workspace.\n",
      "Using up to 96 threads (change this with --threads).\n",
      "263 samples (87 females, 176 males; 263 founders) loaded from\n",
      "/home/jupyter/Release6_MDE/chr10_MDE_release6.psam.\n",
      "12253205 variants loaded from\n",
      "/home/jupyter/Release6_MDE/chr10_MDE_release6.pvar.\n",
      "1 binary phenotype loaded (218 cases, 21 controls).\n",
      "Note: Skipping --rm-dup since no duplicate IDs are present.\n",
      "Calculating allele frequencies... 101112131415161718192021222324252627282930313233343536373839404142434445464748495051525354555657585960616263646566676869707172737475767778798081828384858687888990919293949596979899done.\n",
      "--indep-pairwise (1 compute thread): 10111213141516171819202122232425262728293031323334353637383940414243444546474849505152535455565758596061626364656667686970717273747576777879808182838485868788899091929394959697989911497720/12253205 variants removed.\n",
      "Variant lists written to /home/jupyter/Release6_MDE/chr10_MDE_pruning.prune.in\n",
      "and /home/jupyter/Release6_MDE/chr10_MDE_pruning.prune.out .\n",
      "End time: Mon Oct 21 06:23:17 2024\n"
     ]
    },
    {
     "name": "stderr",
     "output_type": "stream",
     "text": [
      "Executing: /home/jupyter/tools/plink2                         --pfile /home/jupyter/Release6_MDE/chr10_MDE_release6                         --extract /home/jupyter/Release6_MDE/chr10_MDE_pruning.prune.in                         --maf 0.05                         --make-bed --out /home/jupyter/Release6_MDE/chr10_MDE_pruned_data\n"
     ]
    },
    {
     "name": "stdout",
     "output_type": "stream",
     "text": [
      "PLINK v2.00a6LM AVX2 Intel (6 Aug 2024)        www.cog-genomics.org/plink/2.0/\n",
      "(C) 2005-2024 Shaun Purcell, Christopher Chang   GNU General Public License v3\n",
      "Logging to /home/jupyter/Release6_MDE/chr10_MDE_pruned_data.log.\n",
      "Options in effect:\n",
      "  --extract /home/jupyter/Release6_MDE/chr10_MDE_pruning.prune.in\n",
      "  --maf 0.05\n",
      "  --make-bed\n",
      "  --out /home/jupyter/Release6_MDE/chr10_MDE_pruned_data\n",
      "  --pfile /home/jupyter/Release6_MDE/chr10_MDE_release6\n",
      "\n",
      "Start time: Mon Oct 21 06:23:18 2024\n",
      "628867 MiB RAM detected, ~614504 available; reserving 314433 MiB for main\n",
      "workspace.\n",
      "Using up to 96 threads (change this with --threads).\n",
      "263 samples (87 females, 176 males; 263 founders) loaded from\n",
      "/home/jupyter/Release6_MDE/chr10_MDE_release6.psam.\n",
      "12253205 variants loaded from\n",
      "/home/jupyter/Release6_MDE/chr10_MDE_release6.pvar.\n",
      "1 binary phenotype loaded (218 cases, 21 controls).\n",
      "--extract: 755485 variants remaining.\n",
      "Calculating allele frequencies... 101112131415161718192021222324252627282930313233343536373839404142434445464748495051525354555657585960616263646566676869707172737475767778798081828384858687888990919293949596979899done.\n",
      "550184 variants removed due to allele frequency threshold(s)\n",
      "(--maf/--max-maf/--mac/--max-mac).\n",
      "205301 variants remaining after main filters.\n",
      "Writing /home/jupyter/Release6_MDE/chr10_MDE_pruned_data.fam ... done.\n",
      "Writing /home/jupyter/Release6_MDE/chr10_MDE_pruned_data.bim ... done.\n",
      "Writing /home/jupyter/Release6_MDE/chr10_MDE_pruned_data.bed ... 101112131415161718192021222324252627282930313233343536373839404142434445464748495051525354555657585960616263646566676869707172737475767778798081828384858687888990919293949596979899done.\n",
      "End time: Mon Oct 21 06:23:21 2024\n",
      "Removing raw files for chr10...\n"
     ]
    },
    {
     "name": "stderr",
     "output_type": "stream",
     "text": [
      "Executing: rm /home/jupyter/Release6_MDE/chr10_MDE_release6.p*\n"
     ]
    },
    {
     "name": "stdout",
     "output_type": "stream",
     "text": [
      "\n",
      "Processing chr11 for pruning...\n"
     ]
    },
    {
     "name": "stderr",
     "output_type": "stream",
     "text": [
      "Executing: gsutil -u terra-1b7613a0 -m cp gs://gp2tier2/release6_21122023/imputed_genotypes/MDE/chr11_MDE_release6.* /home/jupyter/Release6_MDE\n"
     ]
    },
    {
     "name": "stdout",
     "output_type": "stream",
     "text": [
      "Copying gs://gp2tier2/release6_21122023/imputed_genotypes/MDE/chr11_MDE_release6.log...\n",
      "Copying gs://gp2tier2/release6_21122023/imputed_genotypes/MDE/chr11_MDE_release6.pgen...\n",
      "Copying gs://gp2tier2/release6_21122023/imputed_genotypes/MDE/chr11_MDE_release6.psam...\n",
      "Copying gs://gp2tier2/release6_21122023/imputed_genotypes/MDE/chr11_MDE_release6.pvar...\n",
      "| [4/4 files][  1.3 GiB/  1.3 GiB] 100% Done  78.1 MiB/s ETA 00:00:00           \n",
      "Operation completed over 4 objects/1.3 GiB.                                      \n"
     ]
    },
    {
     "name": "stderr",
     "output_type": "stream",
     "text": [
      "Executing: /home/jupyter/tools/plink2                         --pfile /home/jupyter/Release6_MDE/chr11_MDE_release6                         --indep-pairwise 50 5 0.5                         --rm-dup force-first                         --out /home/jupyter/Release6_MDE/chr11_MDE_pruning\n"
     ]
    },
    {
     "name": "stdout",
     "output_type": "stream",
     "text": [
      "PLINK v2.00a6LM AVX2 Intel (6 Aug 2024)        www.cog-genomics.org/plink/2.0/\n",
      "(C) 2005-2024 Shaun Purcell, Christopher Chang   GNU General Public License v3\n",
      "Logging to /home/jupyter/Release6_MDE/chr11_MDE_pruning.log.\n",
      "Options in effect:\n",
      "  --indep-pairwise 50 5 0.5\n",
      "  --out /home/jupyter/Release6_MDE/chr11_MDE_pruning\n",
      "  --pfile /home/jupyter/Release6_MDE/chr11_MDE_release6\n",
      "  --rm-dup force-first\n",
      "\n",
      "Start time: Mon Oct 21 06:23:41 2024\n",
      "628867 MiB RAM detected, ~615221 available; reserving 314433 MiB for main\n",
      "workspace.\n",
      "Using up to 96 threads (change this with --threads).\n",
      "263 samples (87 females, 176 males; 263 founders) loaded from\n",
      "/home/jupyter/Release6_MDE/chr11_MDE_release6.psam.\n",
      "12494988 variants loaded from\n",
      "/home/jupyter/Release6_MDE/chr11_MDE_release6.pvar.\n",
      "1 binary phenotype loaded (218 cases, 21 controls).\n",
      "Note: Skipping --rm-dup since no duplicate IDs are present.\n",
      "Calculating allele frequencies... 101112131415161718192021222324252627282930313233343536373839404142434445464748495051525354555657585960616263646566676869707172737475767778798081828384858687888990919293949596979899done.\n",
      "--indep-pairwise (1 compute thread): 10111213141516171819202122232425262728293031323334353637383940414243444546474849505152535455565758596061626364656667686970717273747576777879808182838485868788899091929394959697989911755784/12494988 variants removed.\n",
      "Variant lists written to /home/jupyter/Release6_MDE/chr11_MDE_pruning.prune.in\n",
      "and /home/jupyter/Release6_MDE/chr11_MDE_pruning.prune.out .\n",
      "End time: Mon Oct 21 06:23:47 2024\n"
     ]
    },
    {
     "name": "stderr",
     "output_type": "stream",
     "text": [
      "Executing: /home/jupyter/tools/plink2                         --pfile /home/jupyter/Release6_MDE/chr11_MDE_release6                         --extract /home/jupyter/Release6_MDE/chr11_MDE_pruning.prune.in                         --maf 0.05                         --make-bed --out /home/jupyter/Release6_MDE/chr11_MDE_pruned_data\n"
     ]
    },
    {
     "name": "stdout",
     "output_type": "stream",
     "text": [
      "PLINK v2.00a6LM AVX2 Intel (6 Aug 2024)        www.cog-genomics.org/plink/2.0/\n",
      "(C) 2005-2024 Shaun Purcell, Christopher Chang   GNU General Public License v3\n",
      "Logging to /home/jupyter/Release6_MDE/chr11_MDE_pruned_data.log.\n",
      "Options in effect:\n",
      "  --extract /home/jupyter/Release6_MDE/chr11_MDE_pruning.prune.in\n",
      "  --maf 0.05\n",
      "  --make-bed\n",
      "  --out /home/jupyter/Release6_MDE/chr11_MDE_pruned_data\n",
      "  --pfile /home/jupyter/Release6_MDE/chr11_MDE_release6\n",
      "\n",
      "Start time: Mon Oct 21 06:23:48 2024\n",
      "628867 MiB RAM detected, ~615154 available; reserving 314433 MiB for main\n",
      "workspace.\n",
      "Using up to 96 threads (change this with --threads).\n",
      "263 samples (87 females, 176 males; 263 founders) loaded from\n",
      "/home/jupyter/Release6_MDE/chr11_MDE_release6.psam.\n",
      "12494988 variants loaded from\n",
      "/home/jupyter/Release6_MDE/chr11_MDE_release6.pvar.\n",
      "1 binary phenotype loaded (218 cases, 21 controls).\n",
      "--extract: 739204 variants remaining.\n",
      "Calculating allele frequencies... 101112131415161718192021222324252627282930313233343536373839404142434445464748495051525354555657585960616263646566676869707172737475767778798081828384858687888990919293949596979899done.\n",
      "541241 variants removed due to allele frequency threshold(s)\n",
      "(--maf/--max-maf/--mac/--max-mac).\n",
      "197963 variants remaining after main filters.\n",
      "Writing /home/jupyter/Release6_MDE/chr11_MDE_pruned_data.fam ... done.\n",
      "Writing /home/jupyter/Release6_MDE/chr11_MDE_pruned_data.bim ... done.\n",
      "Writing /home/jupyter/Release6_MDE/chr11_MDE_pruned_data.bed ... 101112131415161718192021222324252627282930313233343536373839404142434445464748495051525354555657585960616263646566676869707172737475767778798081828384858687888990919293949596979899done.\n",
      "End time: Mon Oct 21 06:23:51 2024\n",
      "Removing raw files for chr11...\n"
     ]
    },
    {
     "name": "stderr",
     "output_type": "stream",
     "text": [
      "Executing: rm /home/jupyter/Release6_MDE/chr11_MDE_release6.p*\n"
     ]
    },
    {
     "name": "stdout",
     "output_type": "stream",
     "text": [
      "\n",
      "Processing chr12 for pruning...\n"
     ]
    },
    {
     "name": "stderr",
     "output_type": "stream",
     "text": [
      "Executing: gsutil -u terra-1b7613a0 -m cp gs://gp2tier2/release6_21122023/imputed_genotypes/MDE/chr12_MDE_release6.* /home/jupyter/Release6_MDE\n"
     ]
    },
    {
     "name": "stdout",
     "output_type": "stream",
     "text": [
      "Copying gs://gp2tier2/release6_21122023/imputed_genotypes/MDE/chr12_MDE_release6.log...\n",
      "Copying gs://gp2tier2/release6_21122023/imputed_genotypes/MDE/chr12_MDE_release6.pgen...\n",
      "Copying gs://gp2tier2/release6_21122023/imputed_genotypes/MDE/chr12_MDE_release6.psam...\n",
      "Copying gs://gp2tier2/release6_21122023/imputed_genotypes/MDE/chr12_MDE_release6.pvar...\n",
      "\\ [4/4 files][  1.2 GiB/  1.2 GiB] 100% Done  79.4 MiB/s ETA 00:00:00           \n",
      "Operation completed over 4 objects/1.2 GiB.                                      \n"
     ]
    },
    {
     "name": "stderr",
     "output_type": "stream",
     "text": [
      "Executing: /home/jupyter/tools/plink2                         --pfile /home/jupyter/Release6_MDE/chr12_MDE_release6                         --indep-pairwise 50 5 0.5                         --rm-dup force-first                         --out /home/jupyter/Release6_MDE/chr12_MDE_pruning\n"
     ]
    },
    {
     "name": "stdout",
     "output_type": "stream",
     "text": [
      "PLINK v2.00a6LM AVX2 Intel (6 Aug 2024)        www.cog-genomics.org/plink/2.0/\n",
      "(C) 2005-2024 Shaun Purcell, Christopher Chang   GNU General Public License v3\n",
      "Logging to /home/jupyter/Release6_MDE/chr12_MDE_pruning.log.\n",
      "Options in effect:\n",
      "  --indep-pairwise 50 5 0.5\n",
      "  --out /home/jupyter/Release6_MDE/chr12_MDE_pruning\n",
      "  --pfile /home/jupyter/Release6_MDE/chr12_MDE_release6\n",
      "  --rm-dup force-first\n",
      "\n",
      "Start time: Mon Oct 21 06:24:11 2024\n",
      "628867 MiB RAM detected, ~613893 available; reserving 314433 MiB for main\n",
      "workspace.\n",
      "Using up to 96 threads (change this with --threads).\n",
      "263 samples (87 females, 176 males; 263 founders) loaded from\n",
      "/home/jupyter/Release6_MDE/chr12_MDE_release6.psam.\n",
      "12042072 variants loaded from\n",
      "/home/jupyter/Release6_MDE/chr12_MDE_release6.pvar.\n",
      "1 binary phenotype loaded (218 cases, 21 controls).\n",
      "Note: Skipping --rm-dup since no duplicate IDs are present.\n",
      "Calculating allele frequencies... 101112131415161718192021222324252627282930313233343536373839404142434445464748495051525354555657585960616263646566676869707172737475767778798081828384858687888990919293949596979899done.\n",
      "--indep-pairwise (1 compute thread): 10111213141516171819202122232425262728293031323334353637383940414243444546474849505152535455565758596061626364656667686970717273747576777879808182838485868788899091929394959697989911325425/12042072 variants removed.\n",
      "Variant lists written to /home/jupyter/Release6_MDE/chr12_MDE_pruning.prune.in\n",
      "and /home/jupyter/Release6_MDE/chr12_MDE_pruning.prune.out .\n",
      "End time: Mon Oct 21 06:24:16 2024\n"
     ]
    },
    {
     "name": "stderr",
     "output_type": "stream",
     "text": [
      "Executing: /home/jupyter/tools/plink2                         --pfile /home/jupyter/Release6_MDE/chr12_MDE_release6                         --extract /home/jupyter/Release6_MDE/chr12_MDE_pruning.prune.in                         --maf 0.05                         --make-bed --out /home/jupyter/Release6_MDE/chr12_MDE_pruned_data\n"
     ]
    },
    {
     "name": "stdout",
     "output_type": "stream",
     "text": [
      "PLINK v2.00a6LM AVX2 Intel (6 Aug 2024)        www.cog-genomics.org/plink/2.0/\n",
      "(C) 2005-2024 Shaun Purcell, Christopher Chang   GNU General Public License v3\n",
      "Logging to /home/jupyter/Release6_MDE/chr12_MDE_pruned_data.log.\n",
      "Options in effect:\n",
      "  --extract /home/jupyter/Release6_MDE/chr12_MDE_pruning.prune.in\n",
      "  --maf 0.05\n",
      "  --make-bed\n",
      "  --out /home/jupyter/Release6_MDE/chr12_MDE_pruned_data\n",
      "  --pfile /home/jupyter/Release6_MDE/chr12_MDE_release6\n",
      "\n",
      "Start time: Mon Oct 21 06:24:17 2024\n",
      "628867 MiB RAM detected, ~615411 available; reserving 314433 MiB for main\n",
      "workspace.\n",
      "Using up to 96 threads (change this with --threads).\n",
      "263 samples (87 females, 176 males; 263 founders) loaded from\n",
      "/home/jupyter/Release6_MDE/chr12_MDE_release6.psam.\n",
      "12042072 variants loaded from\n",
      "/home/jupyter/Release6_MDE/chr12_MDE_release6.pvar.\n",
      "1 binary phenotype loaded (218 cases, 21 controls).\n",
      "--extract: 716647 variants remaining.\n",
      "Calculating allele frequencies... 101112131415161718192021222324252627282930313233343536373839404142434445464748495051525354555657585960616263646566676869707172737475767778798081828384858687888990919293949596979899done.\n",
      "521155 variants removed due to allele frequency threshold(s)\n",
      "(--maf/--max-maf/--mac/--max-mac).\n",
      "195492 variants remaining after main filters.\n",
      "Writing /home/jupyter/Release6_MDE/chr12_MDE_pruned_data.fam ... done.\n",
      "Writing /home/jupyter/Release6_MDE/chr12_MDE_pruned_data.bim ... done.\n",
      "Writing /home/jupyter/Release6_MDE/chr12_MDE_pruned_data.bed ... 101112131415161718192021222324252627282930313233343536373839404142434445464748495051525354555657585960616263646566676869707172737475767778798081828384858687888990919293949596979899done.\n",
      "End time: Mon Oct 21 06:24:20 2024\n",
      "Removing raw files for chr12...\n"
     ]
    },
    {
     "name": "stderr",
     "output_type": "stream",
     "text": [
      "Executing: rm /home/jupyter/Release6_MDE/chr12_MDE_release6.p*\n"
     ]
    },
    {
     "name": "stdout",
     "output_type": "stream",
     "text": [
      "\n",
      "Processing chr13 for pruning...\n"
     ]
    },
    {
     "name": "stderr",
     "output_type": "stream",
     "text": [
      "Executing: gsutil -u terra-1b7613a0 -m cp gs://gp2tier2/release6_21122023/imputed_genotypes/MDE/chr13_MDE_release6.* /home/jupyter/Release6_MDE\n"
     ]
    },
    {
     "name": "stdout",
     "output_type": "stream",
     "text": [
      "Copying gs://gp2tier2/release6_21122023/imputed_genotypes/MDE/chr13_MDE_release6.log...\n",
      "Copying gs://gp2tier2/release6_21122023/imputed_genotypes/MDE/chr13_MDE_release6.pgen...\n",
      "Copying gs://gp2tier2/release6_21122023/imputed_genotypes/MDE/chr13_MDE_release6.psam...\n",
      "Copying gs://gp2tier2/release6_21122023/imputed_genotypes/MDE/chr13_MDE_release6.pvar...\n",
      "| [4/4 files][945.9 MiB/945.9 MiB] 100% Done  60.8 MiB/s ETA 00:00:00           \n",
      "Operation completed over 4 objects/945.9 MiB.                                    \n"
     ]
    },
    {
     "name": "stderr",
     "output_type": "stream",
     "text": [
      "Executing: /home/jupyter/tools/plink2                         --pfile /home/jupyter/Release6_MDE/chr13_MDE_release6                         --indep-pairwise 50 5 0.5                         --rm-dup force-first                         --out /home/jupyter/Release6_MDE/chr13_MDE_pruning\n"
     ]
    },
    {
     "name": "stdout",
     "output_type": "stream",
     "text": [
      "PLINK v2.00a6LM AVX2 Intel (6 Aug 2024)        www.cog-genomics.org/plink/2.0/\n",
      "(C) 2005-2024 Shaun Purcell, Christopher Chang   GNU General Public License v3\n",
      "Logging to /home/jupyter/Release6_MDE/chr13_MDE_pruning.log.\n",
      "Options in effect:\n",
      "  --indep-pairwise 50 5 0.5\n",
      "  --out /home/jupyter/Release6_MDE/chr13_MDE_pruning\n",
      "  --pfile /home/jupyter/Release6_MDE/chr13_MDE_release6\n",
      "  --rm-dup force-first\n",
      "\n",
      "Start time: Mon Oct 21 06:24:40 2024\n",
      "628867 MiB RAM detected, ~614074 available; reserving 314433 MiB for main\n",
      "workspace.\n",
      "Using up to 96 threads (change this with --threads).\n",
      "263 samples (87 females, 176 males; 263 founders) loaded from\n",
      "/home/jupyter/Release6_MDE/chr13_MDE_release6.psam.\n",
      "8941804 variants loaded from\n",
      "/home/jupyter/Release6_MDE/chr13_MDE_release6.pvar.\n",
      "1 binary phenotype loaded (218 cases, 21 controls).\n",
      "Note: Skipping --rm-dup since no duplicate IDs are present.\n",
      "Calculating allele frequencies... 101112131415161718192021222324252627282930313233343536373839404142434445464748495051525354555657585960616263646566676869707172737475767778798081828384858687888990919293949596979899done.\n",
      "--indep-pairwise (1 compute thread): 1011121314151617181920212223242526272829303132333435363738394041424344454647484950515253545556575859606162636465666768697071727374757677787980818283848586878889909192939495969798998398508/8941804 variants removed.\n",
      "Variant lists written to /home/jupyter/Release6_MDE/chr13_MDE_pruning.prune.in\n",
      "and /home/jupyter/Release6_MDE/chr13_MDE_pruning.prune.out .\n",
      "End time: Mon Oct 21 06:24:44 2024\n"
     ]
    },
    {
     "name": "stderr",
     "output_type": "stream",
     "text": [
      "Executing: /home/jupyter/tools/plink2                         --pfile /home/jupyter/Release6_MDE/chr13_MDE_release6                         --extract /home/jupyter/Release6_MDE/chr13_MDE_pruning.prune.in                         --maf 0.05                         --make-bed --out /home/jupyter/Release6_MDE/chr13_MDE_pruned_data\n"
     ]
    },
    {
     "name": "stdout",
     "output_type": "stream",
     "text": [
      "PLINK v2.00a6LM AVX2 Intel (6 Aug 2024)        www.cog-genomics.org/plink/2.0/\n",
      "(C) 2005-2024 Shaun Purcell, Christopher Chang   GNU General Public License v3\n",
      "Logging to /home/jupyter/Release6_MDE/chr13_MDE_pruned_data.log.\n",
      "Options in effect:\n",
      "  --extract /home/jupyter/Release6_MDE/chr13_MDE_pruning.prune.in\n",
      "  --maf 0.05\n",
      "  --make-bed\n",
      "  --out /home/jupyter/Release6_MDE/chr13_MDE_pruned_data\n",
      "  --pfile /home/jupyter/Release6_MDE/chr13_MDE_release6\n",
      "\n",
      "Start time: Mon Oct 21 06:24:45 2024\n",
      "628867 MiB RAM detected, ~614268 available; reserving 314433 MiB for main\n",
      "workspace.\n",
      "Using up to 96 threads (change this with --threads).\n",
      "263 samples (87 females, 176 males; 263 founders) loaded from\n",
      "/home/jupyter/Release6_MDE/chr13_MDE_release6.psam.\n",
      "8941804 variants loaded from\n",
      "/home/jupyter/Release6_MDE/chr13_MDE_release6.pvar.\n",
      "1 binary phenotype loaded (218 cases, 21 controls).\n",
      "--extract: 543296 variants remaining.\n",
      "Calculating allele frequencies... 101112131415161718192021222324252627282930313233343536373839404142434445464748495051525354555657585960616263646566676869707172737475767778798081828384858687888990919293949596979899done.\n",
      "393171 variants removed due to allele frequency threshold(s)\n",
      "(--maf/--max-maf/--mac/--max-mac).\n",
      "150125 variants remaining after main filters.\n",
      "Writing /home/jupyter/Release6_MDE/chr13_MDE_pruned_data.fam ... done.\n",
      "Writing /home/jupyter/Release6_MDE/chr13_MDE_pruned_data.bim ... done.\n",
      "Writing /home/jupyter/Release6_MDE/chr13_MDE_pruned_data.bed ... 101112131415161718192021222324252627282930313233343536373839404142434445464748495051525354555657585960616263646566676869707172737475767778798081828384858687888990919293949596979899done.\n",
      "End time: Mon Oct 21 06:24:47 2024\n",
      "Removing raw files for chr13...\n"
     ]
    },
    {
     "name": "stderr",
     "output_type": "stream",
     "text": [
      "Executing: rm /home/jupyter/Release6_MDE/chr13_MDE_release6.p*\n"
     ]
    },
    {
     "name": "stdout",
     "output_type": "stream",
     "text": [
      "\n",
      "Processing chr14 for pruning...\n"
     ]
    },
    {
     "name": "stderr",
     "output_type": "stream",
     "text": [
      "Executing: gsutil -u terra-1b7613a0 -m cp gs://gp2tier2/release6_21122023/imputed_genotypes/MDE/chr14_MDE_release6.* /home/jupyter/Release6_MDE\n"
     ]
    },
    {
     "name": "stdout",
     "output_type": "stream",
     "text": [
      "Copying gs://gp2tier2/release6_21122023/imputed_genotypes/MDE/chr14_MDE_release6.log...\n",
      "Copying gs://gp2tier2/release6_21122023/imputed_genotypes/MDE/chr14_MDE_release6.pgen...\n",
      "Copying gs://gp2tier2/release6_21122023/imputed_genotypes/MDE/chr14_MDE_release6.psam...\n",
      "Copying gs://gp2tier2/release6_21122023/imputed_genotypes/MDE/chr14_MDE_release6.pvar...\n",
      "| [4/4 files][837.7 MiB/837.7 MiB] 100% Done  65.4 MiB/s ETA 00:00:00           \n",
      "Operation completed over 4 objects/837.7 MiB.                                    \n"
     ]
    },
    {
     "name": "stderr",
     "output_type": "stream",
     "text": [
      "Executing: /home/jupyter/tools/plink2                         --pfile /home/jupyter/Release6_MDE/chr14_MDE_release6                         --indep-pairwise 50 5 0.5                         --rm-dup force-first                         --out /home/jupyter/Release6_MDE/chr14_MDE_pruning\n"
     ]
    },
    {
     "name": "stdout",
     "output_type": "stream",
     "text": [
      "PLINK v2.00a6LM AVX2 Intel (6 Aug 2024)        www.cog-genomics.org/plink/2.0/\n",
      "(C) 2005-2024 Shaun Purcell, Christopher Chang   GNU General Public License v3\n",
      "Logging to /home/jupyter/Release6_MDE/chr14_MDE_pruning.log.\n",
      "Options in effect:\n",
      "  --indep-pairwise 50 5 0.5\n",
      "  --out /home/jupyter/Release6_MDE/chr14_MDE_pruning\n",
      "  --pfile /home/jupyter/Release6_MDE/chr14_MDE_release6\n",
      "  --rm-dup force-first\n",
      "\n",
      "Start time: Mon Oct 21 06:25:08 2024\n",
      "628867 MiB RAM detected, ~614075 available; reserving 314433 MiB for main\n",
      "workspace.\n",
      "Using up to 96 threads (change this with --threads).\n",
      "263 samples (87 females, 176 males; 263 founders) loaded from\n",
      "/home/jupyter/Release6_MDE/chr14_MDE_release6.psam.\n",
      "8037781 variants loaded from\n",
      "/home/jupyter/Release6_MDE/chr14_MDE_release6.pvar.\n",
      "1 binary phenotype loaded (218 cases, 21 controls).\n",
      "Note: Skipping --rm-dup since no duplicate IDs are present.\n",
      "Calculating allele frequencies... 101112131415161718192021222324252627282930313233343536373839404142434445464748495051525354555657585960616263646566676869707172737475767778798081828384858687888990919293949596979899done.\n",
      "--indep-pairwise (1 compute thread): 1011121314151617181920212223242526272829303132333435363738394041424344454647484950515253545556575859606162636465666768697071727374757677787980818283848586878889909192939495969798997560054/8037781 variants removed.\n",
      "Variant lists written to /home/jupyter/Release6_MDE/chr14_MDE_pruning.prune.in\n",
      "and /home/jupyter/Release6_MDE/chr14_MDE_pruning.prune.out .\n",
      "End time: Mon Oct 21 06:25:11 2024\n"
     ]
    },
    {
     "name": "stderr",
     "output_type": "stream",
     "text": [
      "Executing: /home/jupyter/tools/plink2                         --pfile /home/jupyter/Release6_MDE/chr14_MDE_release6                         --extract /home/jupyter/Release6_MDE/chr14_MDE_pruning.prune.in                         --maf 0.05                         --make-bed --out /home/jupyter/Release6_MDE/chr14_MDE_pruned_data\n"
     ]
    },
    {
     "name": "stdout",
     "output_type": "stream",
     "text": [
      "PLINK v2.00a6LM AVX2 Intel (6 Aug 2024)        www.cog-genomics.org/plink/2.0/\n",
      "(C) 2005-2024 Shaun Purcell, Christopher Chang   GNU General Public License v3\n",
      "Logging to /home/jupyter/Release6_MDE/chr14_MDE_pruned_data.log.\n",
      "Options in effect:\n",
      "  --extract /home/jupyter/Release6_MDE/chr14_MDE_pruning.prune.in\n",
      "  --maf 0.05\n",
      "  --make-bed\n",
      "  --out /home/jupyter/Release6_MDE/chr14_MDE_pruned_data\n",
      "  --pfile /home/jupyter/Release6_MDE/chr14_MDE_release6\n",
      "\n",
      "Start time: Mon Oct 21 06:25:12 2024\n",
      "628867 MiB RAM detected, ~615070 available; reserving 314433 MiB for main\n",
      "workspace.\n",
      "Using up to 96 threads (change this with --threads).\n",
      "263 samples (87 females, 176 males; 263 founders) loaded from\n",
      "/home/jupyter/Release6_MDE/chr14_MDE_release6.psam.\n",
      "8037781 variants loaded from\n",
      "/home/jupyter/Release6_MDE/chr14_MDE_release6.pvar.\n",
      "1 binary phenotype loaded (218 cases, 21 controls).\n",
      "--extract: 477727 variants remaining.\n",
      "Calculating allele frequencies... 101112131415161718192021222324252627282930313233343536373839404142434445464748495051525354555657585960616263646566676869707172737475767778798081828384858687888990919293949596979899done.\n",
      "347282 variants removed due to allele frequency threshold(s)\n",
      "(--maf/--max-maf/--mac/--max-mac).\n",
      "130445 variants remaining after main filters.\n",
      "Writing /home/jupyter/Release6_MDE/chr14_MDE_pruned_data.fam ... done.\n",
      "Writing /home/jupyter/Release6_MDE/chr14_MDE_pruned_data.bim ... done.\n",
      "Writing /home/jupyter/Release6_MDE/chr14_MDE_pruned_data.bed ... 10111213141516181920212223242526272829303132333435363738394041424344454647484950515253545557585960616263646566676869707172737475767778798081828384858687888990919293949596979899done.\n",
      "End time: Mon Oct 21 06:25:14 2024\n",
      "Removing raw files for chr14...\n"
     ]
    },
    {
     "name": "stderr",
     "output_type": "stream",
     "text": [
      "Executing: rm /home/jupyter/Release6_MDE/chr14_MDE_release6.p*\n"
     ]
    },
    {
     "name": "stdout",
     "output_type": "stream",
     "text": [
      "\n",
      "Processing chr15 for pruning...\n"
     ]
    },
    {
     "name": "stderr",
     "output_type": "stream",
     "text": [
      "Executing: gsutil -u terra-1b7613a0 -m cp gs://gp2tier2/release6_21122023/imputed_genotypes/MDE/chr15_MDE_release6.* /home/jupyter/Release6_MDE\n"
     ]
    },
    {
     "name": "stdout",
     "output_type": "stream",
     "text": [
      "Copying gs://gp2tier2/release6_21122023/imputed_genotypes/MDE/chr15_MDE_release6.log...\n",
      "Copying gs://gp2tier2/release6_21122023/imputed_genotypes/MDE/chr15_MDE_release6.pgen...\n",
      "Copying gs://gp2tier2/release6_21122023/imputed_genotypes/MDE/chr15_MDE_release6.psam...\n",
      "Copying gs://gp2tier2/release6_21122023/imputed_genotypes/MDE/chr15_MDE_release6.pvar...\n",
      "- [4/4 files][768.4 MiB/768.4 MiB] 100% Done  66.0 MiB/s ETA 00:00:00           \n",
      "Operation completed over 4 objects/768.4 MiB.                                    \n"
     ]
    },
    {
     "name": "stderr",
     "output_type": "stream",
     "text": [
      "Executing: /home/jupyter/tools/plink2                         --pfile /home/jupyter/Release6_MDE/chr15_MDE_release6                         --indep-pairwise 50 5 0.5                         --rm-dup force-first                         --out /home/jupyter/Release6_MDE/chr15_MDE_pruning\n"
     ]
    },
    {
     "name": "stdout",
     "output_type": "stream",
     "text": [
      "PLINK v2.00a6LM AVX2 Intel (6 Aug 2024)        www.cog-genomics.org/plink/2.0/\n",
      "(C) 2005-2024 Shaun Purcell, Christopher Chang   GNU General Public License v3\n",
      "Logging to /home/jupyter/Release6_MDE/chr15_MDE_pruning.log.\n",
      "Options in effect:\n",
      "  --indep-pairwise 50 5 0.5\n",
      "  --out /home/jupyter/Release6_MDE/chr15_MDE_pruning\n",
      "  --pfile /home/jupyter/Release6_MDE/chr15_MDE_release6\n",
      "  --rm-dup force-first\n",
      "\n",
      "Start time: Mon Oct 21 06:25:33 2024\n",
      "628867 MiB RAM detected, ~615081 available; reserving 314433 MiB for main\n",
      "workspace.\n",
      "Using up to 96 threads (change this with --threads).\n",
      "263 samples (87 females, 176 males; 263 founders) loaded from\n",
      "/home/jupyter/Release6_MDE/chr15_MDE_release6.psam.\n",
      "7362413 variants loaded from\n",
      "/home/jupyter/Release6_MDE/chr15_MDE_release6.pvar.\n",
      "1 binary phenotype loaded (218 cases, 21 controls).\n",
      "Note: Skipping --rm-dup since no duplicate IDs are present.\n",
      "Calculating allele frequencies... 101112131415161718192021222324252627282930313233343536373839404142434445464748495051525354555657585960616263646566676869707172737475767778798081828384858687888990919293949596979899done.\n",
      "--indep-pairwise (1 compute thread): 1011121314151617181920212223242526272829303132333435363738394041424344454647484950515253545556575859606162636465666768697071727374757677787980818283848586878889909192939495969798996939210/7362413 variants removed.\n",
      "Variant lists written to /home/jupyter/Release6_MDE/chr15_MDE_pruning.prune.in\n",
      "and /home/jupyter/Release6_MDE/chr15_MDE_pruning.prune.out .\n",
      "End time: Mon Oct 21 06:25:36 2024\n"
     ]
    },
    {
     "name": "stderr",
     "output_type": "stream",
     "text": [
      "Executing: /home/jupyter/tools/plink2                         --pfile /home/jupyter/Release6_MDE/chr15_MDE_release6                         --extract /home/jupyter/Release6_MDE/chr15_MDE_pruning.prune.in                         --maf 0.05                         --make-bed --out /home/jupyter/Release6_MDE/chr15_MDE_pruned_data\n"
     ]
    },
    {
     "name": "stdout",
     "output_type": "stream",
     "text": [
      "PLINK v2.00a6LM AVX2 Intel (6 Aug 2024)        www.cog-genomics.org/plink/2.0/\n",
      "(C) 2005-2024 Shaun Purcell, Christopher Chang   GNU General Public License v3\n",
      "Logging to /home/jupyter/Release6_MDE/chr15_MDE_pruned_data.log.\n",
      "Options in effect:\n",
      "  --extract /home/jupyter/Release6_MDE/chr15_MDE_pruning.prune.in\n",
      "  --maf 0.05\n",
      "  --make-bed\n",
      "  --out /home/jupyter/Release6_MDE/chr15_MDE_pruned_data\n",
      "  --pfile /home/jupyter/Release6_MDE/chr15_MDE_release6\n",
      "\n",
      "Start time: Mon Oct 21 06:25:37 2024\n",
      "628867 MiB RAM detected, ~615416 available; reserving 314433 MiB for main\n",
      "workspace.\n",
      "Using up to 96 threads (change this with --threads).\n",
      "263 samples (87 females, 176 males; 263 founders) loaded from\n",
      "/home/jupyter/Release6_MDE/chr15_MDE_release6.psam.\n",
      "7362413 variants loaded from\n",
      "/home/jupyter/Release6_MDE/chr15_MDE_release6.pvar.\n",
      "1 binary phenotype loaded (218 cases, 21 controls).\n",
      "--extract: 423203 variants remaining.\n",
      "Calculating allele frequencies... 101112131415161718192021222324252627282930313233343536373839404142434445464748495051525354555657585960616263646566676869707172737475767778798081828384858687888990919293949596979899done.\n",
      "311526 variants removed due to allele frequency threshold(s)\n",
      "(--maf/--max-maf/--mac/--max-mac).\n",
      "111677 variants remaining after main filters.\n",
      "Writing /home/jupyter/Release6_MDE/chr15_MDE_pruned_data.fam ... done.\n",
      "Writing /home/jupyter/Release6_MDE/chr15_MDE_pruned_data.bim ... done.\n",
      "Writing /home/jupyter/Release6_MDE/chr15_MDE_pruned_data.bed ... 101113141516171819202122232425262728293031323334353637383940414243444546474849505152545556575859606162636465666768697071727374757677787980818283848587888990919293949596979899done.\n",
      "End time: Mon Oct 21 06:25:39 2024\n",
      "Removing raw files for chr15...\n"
     ]
    },
    {
     "name": "stderr",
     "output_type": "stream",
     "text": [
      "Executing: rm /home/jupyter/Release6_MDE/chr15_MDE_release6.p*\n"
     ]
    },
    {
     "name": "stdout",
     "output_type": "stream",
     "text": [
      "\n",
      "Processing chr16 for pruning...\n"
     ]
    },
    {
     "name": "stderr",
     "output_type": "stream",
     "text": [
      "Executing: gsutil -u terra-1b7613a0 -m cp gs://gp2tier2/release6_21122023/imputed_genotypes/MDE/chr16_MDE_release6.* /home/jupyter/Release6_MDE\n"
     ]
    },
    {
     "name": "stdout",
     "output_type": "stream",
     "text": [
      "Copying gs://gp2tier2/release6_21122023/imputed_genotypes/MDE/chr16_MDE_release6.log...\n",
      "Copying gs://gp2tier2/release6_21122023/imputed_genotypes/MDE/chr16_MDE_release6.pgen...\n",
      "Copying gs://gp2tier2/release6_21122023/imputed_genotypes/MDE/chr16_MDE_release6.psam...\n",
      "Copying gs://gp2tier2/release6_21122023/imputed_genotypes/MDE/chr16_MDE_release6.pvar...\n",
      "| [4/4 files][853.3 MiB/853.3 MiB] 100% Done  60.6 MiB/s ETA 00:00:00           \n",
      "Operation completed over 4 objects/853.3 MiB.                                    \n"
     ]
    },
    {
     "name": "stderr",
     "output_type": "stream",
     "text": [
      "Executing: /home/jupyter/tools/plink2                         --pfile /home/jupyter/Release6_MDE/chr16_MDE_release6                         --indep-pairwise 50 5 0.5                         --rm-dup force-first                         --out /home/jupyter/Release6_MDE/chr16_MDE_pruning\n"
     ]
    },
    {
     "name": "stdout",
     "output_type": "stream",
     "text": [
      "PLINK v2.00a6LM AVX2 Intel (6 Aug 2024)        www.cog-genomics.org/plink/2.0/\n",
      "(C) 2005-2024 Shaun Purcell, Christopher Chang   GNU General Public License v3\n",
      "Logging to /home/jupyter/Release6_MDE/chr16_MDE_pruning.log.\n",
      "Options in effect:\n",
      "  --indep-pairwise 50 5 0.5\n",
      "  --out /home/jupyter/Release6_MDE/chr16_MDE_pruning\n",
      "  --pfile /home/jupyter/Release6_MDE/chr16_MDE_release6\n",
      "  --rm-dup force-first\n",
      "\n",
      "Start time: Mon Oct 21 06:26:00 2024\n",
      "628867 MiB RAM detected, ~614709 available; reserving 314433 MiB for main\n",
      "workspace.\n",
      "Using up to 96 threads (change this with --threads).\n",
      "263 samples (87 females, 176 males; 263 founders) loaded from\n",
      "/home/jupyter/Release6_MDE/chr16_MDE_release6.psam.\n",
      "8298421 variants loaded from\n",
      "/home/jupyter/Release6_MDE/chr16_MDE_release6.pvar.\n",
      "1 binary phenotype loaded (218 cases, 21 controls).\n",
      "Note: Skipping --rm-dup since no duplicate IDs are present.\n",
      "Calculating allele frequencies... 101112131415161718192021222324252627282930313233343536373839404142434445464748495051525354555657585960616263646566676869707172737475767778798081828384858687888990919293949596979899done.\n",
      "--indep-pairwise (1 compute thread): 1011121314151617181920212223242526272829303132333435363738394041424344454647484950515253545556575859606162636465666768697071727374757677787980818283848586878889909192939495969798997833276/8298421 variants removed.\n",
      "Variant lists written to /home/jupyter/Release6_MDE/chr16_MDE_pruning.prune.in\n",
      "and /home/jupyter/Release6_MDE/chr16_MDE_pruning.prune.out .\n",
      "End time: Mon Oct 21 06:26:03 2024\n"
     ]
    },
    {
     "name": "stderr",
     "output_type": "stream",
     "text": [
      "Executing: /home/jupyter/tools/plink2                         --pfile /home/jupyter/Release6_MDE/chr16_MDE_release6                         --extract /home/jupyter/Release6_MDE/chr16_MDE_pruning.prune.in                         --maf 0.05                         --make-bed --out /home/jupyter/Release6_MDE/chr16_MDE_pruned_data\n"
     ]
    },
    {
     "name": "stdout",
     "output_type": "stream",
     "text": [
      "PLINK v2.00a6LM AVX2 Intel (6 Aug 2024)        www.cog-genomics.org/plink/2.0/\n",
      "(C) 2005-2024 Shaun Purcell, Christopher Chang   GNU General Public License v3\n",
      "Logging to /home/jupyter/Release6_MDE/chr16_MDE_pruned_data.log.\n",
      "Options in effect:\n",
      "  --extract /home/jupyter/Release6_MDE/chr16_MDE_pruning.prune.in\n",
      "  --maf 0.05\n",
      "  --make-bed\n",
      "  --out /home/jupyter/Release6_MDE/chr16_MDE_pruned_data\n",
      "  --pfile /home/jupyter/Release6_MDE/chr16_MDE_release6\n",
      "\n",
      "Start time: Mon Oct 21 06:26:04 2024\n",
      "628867 MiB RAM detected, ~614812 available; reserving 314433 MiB for main\n",
      "workspace.\n",
      "Using up to 96 threads (change this with --threads).\n",
      "263 samples (87 females, 176 males; 263 founders) loaded from\n",
      "/home/jupyter/Release6_MDE/chr16_MDE_release6.psam.\n",
      "8298421 variants loaded from\n",
      "/home/jupyter/Release6_MDE/chr16_MDE_release6.pvar.\n",
      "1 binary phenotype loaded (218 cases, 21 controls).\n",
      "--extract: 465145 variants remaining.\n",
      "Calculating allele frequencies... 101112131415161718192021222324252627282930313233343536373839404142434445464748495051525354555657585960616263646566676869707172737475767778798081828384858687888990919293949596979899done.\n",
      "343020 variants removed due to allele frequency threshold(s)\n",
      "(--maf/--max-maf/--mac/--max-mac).\n",
      "122125 variants remaining after main filters.\n",
      "Writing /home/jupyter/Release6_MDE/chr16_MDE_pruned_data.fam ... done.\n",
      "Writing /home/jupyter/Release6_MDE/chr16_MDE_pruned_data.bim ... done.\n",
      "Writing /home/jupyter/Release6_MDE/chr16_MDE_pruned_data.bed ... 1011121315161718192021222324252627282930313233343536373839404142434445464748495051525354555657585960616263646566676869707172737475767778798081828384858687888990919293949596979899done.\n",
      "End time: Mon Oct 21 06:26:06 2024\n",
      "Removing raw files for chr16...\n"
     ]
    },
    {
     "name": "stderr",
     "output_type": "stream",
     "text": [
      "Executing: rm /home/jupyter/Release6_MDE/chr16_MDE_release6.p*\n"
     ]
    },
    {
     "name": "stdout",
     "output_type": "stream",
     "text": [
      "\n",
      "Processing chr17 for pruning...\n"
     ]
    },
    {
     "name": "stderr",
     "output_type": "stream",
     "text": [
      "Executing: gsutil -u terra-1b7613a0 -m cp gs://gp2tier2/release6_21122023/imputed_genotypes/MDE/chr17_MDE_release6.* /home/jupyter/Release6_MDE\n"
     ]
    },
    {
     "name": "stdout",
     "output_type": "stream",
     "text": [
      "Copying gs://gp2tier2/release6_21122023/imputed_genotypes/MDE/chr17_MDE_release6.log...\n",
      "Copying gs://gp2tier2/release6_21122023/imputed_genotypes/MDE/chr17_MDE_release6.pgen...\n",
      "Copying gs://gp2tier2/release6_21122023/imputed_genotypes/MDE/chr17_MDE_release6.psam...\n",
      "Copying gs://gp2tier2/release6_21122023/imputed_genotypes/MDE/chr17_MDE_release6.pvar...\n",
      "\\ [4/4 files][733.5 MiB/733.5 MiB] 100% Done  68.8 MiB/s ETA 00:00:00           \n",
      "Operation completed over 4 objects/733.5 MiB.                                    \n"
     ]
    },
    {
     "name": "stderr",
     "output_type": "stream",
     "text": [
      "Executing: /home/jupyter/tools/plink2                         --pfile /home/jupyter/Release6_MDE/chr17_MDE_release6                         --indep-pairwise 50 5 0.5                         --rm-dup force-first                         --out /home/jupyter/Release6_MDE/chr17_MDE_pruning\n"
     ]
    },
    {
     "name": "stdout",
     "output_type": "stream",
     "text": [
      "PLINK v2.00a6LM AVX2 Intel (6 Aug 2024)        www.cog-genomics.org/plink/2.0/\n",
      "(C) 2005-2024 Shaun Purcell, Christopher Chang   GNU General Public License v3\n",
      "Logging to /home/jupyter/Release6_MDE/chr17_MDE_pruning.log.\n",
      "Options in effect:\n",
      "  --indep-pairwise 50 5 0.5\n",
      "  --out /home/jupyter/Release6_MDE/chr17_MDE_pruning\n",
      "  --pfile /home/jupyter/Release6_MDE/chr17_MDE_release6\n",
      "  --rm-dup force-first\n",
      "\n",
      "Start time: Mon Oct 21 06:26:24 2024\n",
      "628867 MiB RAM detected, ~615347 available; reserving 314433 MiB for main\n",
      "workspace.\n",
      "Using up to 96 threads (change this with --threads).\n",
      "263 samples (87 females, 176 males; 263 founders) loaded from\n",
      "/home/jupyter/Release6_MDE/chr17_MDE_release6.psam.\n",
      "6915143 variants loaded from\n",
      "/home/jupyter/Release6_MDE/chr17_MDE_release6.pvar.\n",
      "1 binary phenotype loaded (218 cases, 21 controls).\n",
      "Note: Skipping --rm-dup since no duplicate IDs are present.\n",
      "Calculating allele frequencies... 101112131415161718192021222324252627282930313233343536373839404142434445464748495051525354555657585960616263646566676869707172737475767778798081828384858687888990919293949596979899done.\n",
      "--indep-pairwise (1 compute thread): 1011121314151617181920212223242526272829303132333435363738394041424344454647484950515253545556575859606162636465666768697071727374757677787980818283848586878889909192939495969798996511193/6915143 variants removed.\n",
      "Variant lists written to /home/jupyter/Release6_MDE/chr17_MDE_pruning.prune.in\n",
      "and /home/jupyter/Release6_MDE/chr17_MDE_pruning.prune.out .\n",
      "End time: Mon Oct 21 06:26:27 2024\n"
     ]
    },
    {
     "name": "stderr",
     "output_type": "stream",
     "text": [
      "Executing: /home/jupyter/tools/plink2                         --pfile /home/jupyter/Release6_MDE/chr17_MDE_release6                         --extract /home/jupyter/Release6_MDE/chr17_MDE_pruning.prune.in                         --maf 0.05                         --make-bed --out /home/jupyter/Release6_MDE/chr17_MDE_pruned_data\n"
     ]
    },
    {
     "name": "stdout",
     "output_type": "stream",
     "text": [
      "PLINK v2.00a6LM AVX2 Intel (6 Aug 2024)        www.cog-genomics.org/plink/2.0/\n",
      "(C) 2005-2024 Shaun Purcell, Christopher Chang   GNU General Public License v3\n",
      "Logging to /home/jupyter/Release6_MDE/chr17_MDE_pruned_data.log.\n",
      "Options in effect:\n",
      "  --extract /home/jupyter/Release6_MDE/chr17_MDE_pruning.prune.in\n",
      "  --maf 0.05\n",
      "  --make-bed\n",
      "  --out /home/jupyter/Release6_MDE/chr17_MDE_pruned_data\n",
      "  --pfile /home/jupyter/Release6_MDE/chr17_MDE_release6\n",
      "\n",
      "Start time: Mon Oct 21 06:26:28 2024\n",
      "628867 MiB RAM detected, ~614545 available; reserving 314433 MiB for main\n",
      "workspace.\n",
      "Using up to 96 threads (change this with --threads).\n",
      "263 samples (87 females, 176 males; 263 founders) loaded from\n",
      "/home/jupyter/Release6_MDE/chr17_MDE_release6.psam.\n",
      "6915143 variants loaded from\n",
      "/home/jupyter/Release6_MDE/chr17_MDE_release6.pvar.\n",
      "1 binary phenotype loaded (218 cases, 21 controls).\n",
      "--extract: 403950 variants remaining.\n",
      "Calculating allele frequencies... 101112131415161718192021222324252627282930313233343536373839404142434445464748495051525354555657585960616263646566676869707172737475767778798081828384858687888990919293949596979899done.\n",
      "297642 variants removed due to allele frequency threshold(s)\n",
      "(--maf/--max-maf/--mac/--max-mac).\n",
      "106308 variants remaining after main filters.\n",
      "Writing /home/jupyter/Release6_MDE/chr17_MDE_pruned_data.fam ... done.\n",
      "Writing /home/jupyter/Release6_MDE/chr17_MDE_pruned_data.bim ... done.\n",
      "Writing /home/jupyter/Release6_MDE/chr17_MDE_pruned_data.bed ... 101112131415161718192021222324252627282930313233343536373839404142434445464748495051525455575860616364656768697071727374757677787980818283848586878889909192949596979899done.\n",
      "End time: Mon Oct 21 06:26:29 2024\n",
      "Removing raw files for chr17...\n"
     ]
    },
    {
     "name": "stderr",
     "output_type": "stream",
     "text": [
      "Executing: rm /home/jupyter/Release6_MDE/chr17_MDE_release6.p*\n"
     ]
    },
    {
     "name": "stdout",
     "output_type": "stream",
     "text": [
      "\n",
      "Processing chr18 for pruning...\n"
     ]
    },
    {
     "name": "stderr",
     "output_type": "stream",
     "text": [
      "Executing: gsutil -u terra-1b7613a0 -m cp gs://gp2tier2/release6_21122023/imputed_genotypes/MDE/chr18_MDE_release6.* /home/jupyter/Release6_MDE\n"
     ]
    },
    {
     "name": "stdout",
     "output_type": "stream",
     "text": [
      "Copying gs://gp2tier2/release6_21122023/imputed_genotypes/MDE/chr18_MDE_release6.log...\n",
      "Copying gs://gp2tier2/release6_21122023/imputed_genotypes/MDE/chr18_MDE_release6.pgen...\n",
      "Copying gs://gp2tier2/release6_21122023/imputed_genotypes/MDE/chr18_MDE_release6.psam...\n",
      "Copying gs://gp2tier2/release6_21122023/imputed_genotypes/MDE/chr18_MDE_release6.pvar...\n",
      "| [4/4 files][739.3 MiB/739.3 MiB] 100% Done  69.5 MiB/s ETA 00:00:00           \n",
      "Operation completed over 4 objects/739.3 MiB.                                    \n"
     ]
    },
    {
     "name": "stderr",
     "output_type": "stream",
     "text": [
      "Executing: /home/jupyter/tools/plink2                         --pfile /home/jupyter/Release6_MDE/chr18_MDE_release6                         --indep-pairwise 50 5 0.5                         --rm-dup force-first                         --out /home/jupyter/Release6_MDE/chr18_MDE_pruning\n"
     ]
    },
    {
     "name": "stdout",
     "output_type": "stream",
     "text": [
      "PLINK v2.00a6LM AVX2 Intel (6 Aug 2024)        www.cog-genomics.org/plink/2.0/\n",
      "(C) 2005-2024 Shaun Purcell, Christopher Chang   GNU General Public License v3\n",
      "Logging to /home/jupyter/Release6_MDE/chr18_MDE_pruning.log.\n",
      "Options in effect:\n",
      "  --indep-pairwise 50 5 0.5\n",
      "  --out /home/jupyter/Release6_MDE/chr18_MDE_pruning\n",
      "  --pfile /home/jupyter/Release6_MDE/chr18_MDE_release6\n",
      "  --rm-dup force-first\n",
      "\n",
      "Start time: Mon Oct 21 06:26:47 2024\n",
      "628867 MiB RAM detected, ~614954 available; reserving 314433 MiB for main\n",
      "workspace.\n",
      "Using up to 96 threads (change this with --threads).\n",
      "263 samples (87 females, 176 males; 263 founders) loaded from\n",
      "/home/jupyter/Release6_MDE/chr18_MDE_release6.psam.\n",
      "6947696 variants loaded from\n",
      "/home/jupyter/Release6_MDE/chr18_MDE_release6.pvar.\n",
      "1 binary phenotype loaded (218 cases, 21 controls).\n",
      "Note: Skipping --rm-dup since no duplicate IDs are present.\n",
      "Calculating allele frequencies... 101112131415161718192021222324252627282930313233343536373839404142434445464748495051525354555657585960616263646566676869707172737475767778798081828384858687888990919293949596979899done.\n",
      "--indep-pairwise (1 compute thread): 1011121314151617181920212223242526272829303132333435363738394041424344454647484950515253545556575859606162636465666768697071727374757677787980818283848586878889909192939495969798996526098/6947696 variants removed.\n",
      "Variant lists written to /home/jupyter/Release6_MDE/chr18_MDE_pruning.prune.in\n",
      "and /home/jupyter/Release6_MDE/chr18_MDE_pruning.prune.out .\n",
      "End time: Mon Oct 21 06:26:50 2024\n"
     ]
    },
    {
     "name": "stderr",
     "output_type": "stream",
     "text": [
      "Executing: /home/jupyter/tools/plink2                         --pfile /home/jupyter/Release6_MDE/chr18_MDE_release6                         --extract /home/jupyter/Release6_MDE/chr18_MDE_pruning.prune.in                         --maf 0.05                         --make-bed --out /home/jupyter/Release6_MDE/chr18_MDE_pruned_data\n"
     ]
    },
    {
     "name": "stdout",
     "output_type": "stream",
     "text": [
      "PLINK v2.00a6LM AVX2 Intel (6 Aug 2024)        www.cog-genomics.org/plink/2.0/\n",
      "(C) 2005-2024 Shaun Purcell, Christopher Chang   GNU General Public License v3\n",
      "Logging to /home/jupyter/Release6_MDE/chr18_MDE_pruned_data.log.\n",
      "Options in effect:\n",
      "  --extract /home/jupyter/Release6_MDE/chr18_MDE_pruning.prune.in\n",
      "  --maf 0.05\n",
      "  --make-bed\n",
      "  --out /home/jupyter/Release6_MDE/chr18_MDE_pruned_data\n",
      "  --pfile /home/jupyter/Release6_MDE/chr18_MDE_release6\n",
      "\n",
      "Start time: Mon Oct 21 06:26:51 2024\n",
      "628867 MiB RAM detected, ~615234 available; reserving 314433 MiB for main\n",
      "workspace.\n",
      "Using up to 96 threads (change this with --threads).\n",
      "263 samples (87 females, 176 males; 263 founders) loaded from\n",
      "/home/jupyter/Release6_MDE/chr18_MDE_release6.psam.\n",
      "6947696 variants loaded from\n",
      "/home/jupyter/Release6_MDE/chr18_MDE_release6.pvar.\n",
      "1 binary phenotype loaded (218 cases, 21 controls).\n",
      "--extract: 421598 variants remaining.\n",
      "Calculating allele frequencies... 101112131415161718192021222324252627282930313233343536373839404142434445464748495051525354555657585960616263646566676869707172737475767778798081828384858687888990919293949596979899done.\n",
      "307154 variants removed due to allele frequency threshold(s)\n",
      "(--maf/--max-maf/--mac/--max-mac).\n",
      "114444 variants remaining after main filters.\n",
      "Writing /home/jupyter/Release6_MDE/chr18_MDE_pruned_data.fam ... done.\n",
      "Writing /home/jupyter/Release6_MDE/chr18_MDE_pruned_data.bim ... done.\n",
      "Writing /home/jupyter/Release6_MDE/chr18_MDE_pruned_data.bed ... 101112141516171819202122232425262728293031323334353637383940414243444546474849505152535455565758596061626364656768697071727374757677787980818283848586878889909192939596979899done.\n",
      "End time: Mon Oct 21 06:26:53 2024\n",
      "Removing raw files for chr18...\n"
     ]
    },
    {
     "name": "stderr",
     "output_type": "stream",
     "text": [
      "Executing: rm /home/jupyter/Release6_MDE/chr18_MDE_release6.p*\n"
     ]
    },
    {
     "name": "stdout",
     "output_type": "stream",
     "text": [
      "\n",
      "Processing chr19 for pruning...\n"
     ]
    },
    {
     "name": "stderr",
     "output_type": "stream",
     "text": [
      "Executing: gsutil -u terra-1b7613a0 -m cp gs://gp2tier2/release6_21122023/imputed_genotypes/MDE/chr19_MDE_release6.* /home/jupyter/Release6_MDE\n"
     ]
    },
    {
     "name": "stdout",
     "output_type": "stream",
     "text": [
      "Copying gs://gp2tier2/release6_21122023/imputed_genotypes/MDE/chr19_MDE_release6.log...\n",
      "Copying gs://gp2tier2/release6_21122023/imputed_genotypes/MDE/chr19_MDE_release6.pgen...\n",
      "Copying gs://gp2tier2/release6_21122023/imputed_genotypes/MDE/chr19_MDE_release6.psam...\n",
      "Copying gs://gp2tier2/release6_21122023/imputed_genotypes/MDE/chr19_MDE_release6.pvar...\n",
      "/ [4/4 files][578.6 MiB/578.6 MiB] 100% Done                                    \n",
      "Operation completed over 4 objects/578.6 MiB.                                    \n"
     ]
    },
    {
     "name": "stderr",
     "output_type": "stream",
     "text": [
      "Executing: /home/jupyter/tools/plink2                         --pfile /home/jupyter/Release6_MDE/chr19_MDE_release6                         --indep-pairwise 50 5 0.5                         --rm-dup force-first                         --out /home/jupyter/Release6_MDE/chr19_MDE_pruning\n"
     ]
    },
    {
     "name": "stdout",
     "output_type": "stream",
     "text": [
      "PLINK v2.00a6LM AVX2 Intel (6 Aug 2024)        www.cog-genomics.org/plink/2.0/\n",
      "(C) 2005-2024 Shaun Purcell, Christopher Chang   GNU General Public License v3\n",
      "Logging to /home/jupyter/Release6_MDE/chr19_MDE_pruning.log.\n",
      "Options in effect:\n",
      "  --indep-pairwise 50 5 0.5\n",
      "  --out /home/jupyter/Release6_MDE/chr19_MDE_pruning\n",
      "  --pfile /home/jupyter/Release6_MDE/chr19_MDE_release6\n",
      "  --rm-dup force-first\n",
      "\n",
      "Start time: Mon Oct 21 06:27:08 2024\n",
      "628867 MiB RAM detected, ~615391 available; reserving 314433 MiB for main\n",
      "workspace.\n",
      "Using up to 96 threads (change this with --threads).\n",
      "263 samples (87 females, 176 males; 263 founders) loaded from\n",
      "/home/jupyter/Release6_MDE/chr19_MDE_release6.psam.\n",
      "5201803 variants loaded from\n",
      "/home/jupyter/Release6_MDE/chr19_MDE_release6.pvar.\n",
      "1 binary phenotype loaded (218 cases, 21 controls).\n",
      "Note: Skipping --rm-dup since no duplicate IDs are present.\n",
      "Calculating allele frequencies... 101112131516171820212223252627283031323435363739404142444546474950515254555657596061626465666869707173747576787980818384858688899091939495979899done.\n",
      "--indep-pairwise (1 compute thread): 1011121315161718202122232526272830313234353637394041424445464749505152545556575960616264656668697071737475767879808183848586888990919394959798994897542/5201803 variants removed.\n",
      "Variant lists written to /home/jupyter/Release6_MDE/chr19_MDE_pruning.prune.in\n",
      "and /home/jupyter/Release6_MDE/chr19_MDE_pruning.prune.out .\n",
      "End time: Mon Oct 21 06:27:10 2024\n"
     ]
    },
    {
     "name": "stderr",
     "output_type": "stream",
     "text": [
      "Executing: /home/jupyter/tools/plink2                         --pfile /home/jupyter/Release6_MDE/chr19_MDE_release6                         --extract /home/jupyter/Release6_MDE/chr19_MDE_pruning.prune.in                         --maf 0.05                         --make-bed --out /home/jupyter/Release6_MDE/chr19_MDE_pruned_data\n"
     ]
    },
    {
     "name": "stdout",
     "output_type": "stream",
     "text": [
      "PLINK v2.00a6LM AVX2 Intel (6 Aug 2024)        www.cog-genomics.org/plink/2.0/\n",
      "(C) 2005-2024 Shaun Purcell, Christopher Chang   GNU General Public License v3\n",
      "Logging to /home/jupyter/Release6_MDE/chr19_MDE_pruned_data.log.\n",
      "Options in effect:\n",
      "  --extract /home/jupyter/Release6_MDE/chr19_MDE_pruning.prune.in\n",
      "  --maf 0.05\n",
      "  --make-bed\n",
      "  --out /home/jupyter/Release6_MDE/chr19_MDE_pruned_data\n",
      "  --pfile /home/jupyter/Release6_MDE/chr19_MDE_release6\n",
      "\n",
      "Start time: Mon Oct 21 06:27:12 2024\n",
      "628867 MiB RAM detected, ~615122 available; reserving 314433 MiB for main\n",
      "workspace.\n",
      "Using up to 96 threads (change this with --threads).\n",
      "263 samples (87 females, 176 males; 263 founders) loaded from\n",
      "/home/jupyter/Release6_MDE/chr19_MDE_release6.psam.\n",
      "5201803 variants loaded from\n",
      "/home/jupyter/Release6_MDE/chr19_MDE_release6.pvar.\n",
      "1 binary phenotype loaded (218 cases, 21 controls).\n",
      "--extract: 304261 variants remaining.\n",
      "Calculating allele frequencies... 1112131516171920212324252628293032333435363839404243444547484950525354555758596162636466676869707172737576777980818283858687899091939495979899done.\n",
      "220082 variants removed due to allele frequency threshold(s)\n",
      "(--maf/--max-maf/--mac/--max-mac).\n",
      "84179 variants remaining after main filters.\n",
      "Writing /home/jupyter/Release6_MDE/chr19_MDE_pruned_data.fam ... done.\n",
      "Writing /home/jupyter/Release6_MDE/chr19_MDE_pruned_data.bim ... done.\n",
      "Writing /home/jupyter/Release6_MDE/chr19_MDE_pruned_data.bed ... 10111314161719202122232425262829313234353637384041424344464748505152535455575859606263646566676970727374757677798081828486878991929395969899done.\n",
      "End time: Mon Oct 21 06:27:13 2024\n",
      "Removing raw files for chr19...\n"
     ]
    },
    {
     "name": "stderr",
     "output_type": "stream",
     "text": [
      "Executing: rm /home/jupyter/Release6_MDE/chr19_MDE_release6.p*\n"
     ]
    },
    {
     "name": "stdout",
     "output_type": "stream",
     "text": [
      "\n",
      "Processing chr20 for pruning...\n"
     ]
    },
    {
     "name": "stderr",
     "output_type": "stream",
     "text": [
      "Executing: gsutil -u terra-1b7613a0 -m cp gs://gp2tier2/release6_21122023/imputed_genotypes/MDE/chr20_MDE_release6.* /home/jupyter/Release6_MDE\n"
     ]
    },
    {
     "name": "stdout",
     "output_type": "stream",
     "text": [
      "Copying gs://gp2tier2/release6_21122023/imputed_genotypes/MDE/chr20_MDE_release6.log...\n",
      "Copying gs://gp2tier2/release6_21122023/imputed_genotypes/MDE/chr20_MDE_release6.pgen...\n",
      "Copying gs://gp2tier2/release6_21122023/imputed_genotypes/MDE/chr20_MDE_release6.psam...\n",
      "Copying gs://gp2tier2/release6_21122023/imputed_genotypes/MDE/chr20_MDE_release6.pvar...\n",
      "- [4/4 files][588.7 MiB/588.7 MiB] 100% Done                                    \n",
      "Operation completed over 4 objects/588.7 MiB.                                    \n"
     ]
    },
    {
     "name": "stderr",
     "output_type": "stream",
     "text": [
      "Executing: /home/jupyter/tools/plink2                         --pfile /home/jupyter/Release6_MDE/chr20_MDE_release6                         --indep-pairwise 50 5 0.5                         --rm-dup force-first                         --out /home/jupyter/Release6_MDE/chr20_MDE_pruning\n"
     ]
    },
    {
     "name": "stdout",
     "output_type": "stream",
     "text": [
      "PLINK v2.00a6LM AVX2 Intel (6 Aug 2024)        www.cog-genomics.org/plink/2.0/\n",
      "(C) 2005-2024 Shaun Purcell, Christopher Chang   GNU General Public License v3\n",
      "Logging to /home/jupyter/Release6_MDE/chr20_MDE_pruning.log.\n",
      "Options in effect:\n",
      "  --indep-pairwise 50 5 0.5\n",
      "  --out /home/jupyter/Release6_MDE/chr20_MDE_pruning\n",
      "  --pfile /home/jupyter/Release6_MDE/chr20_MDE_release6\n",
      "  --rm-dup force-first\n",
      "\n",
      "Start time: Mon Oct 21 06:27:27 2024\n",
      "628867 MiB RAM detected, ~615028 available; reserving 314433 MiB for main\n",
      "workspace.\n",
      "Using up to 96 threads (change this with --threads).\n",
      "263 samples (87 females, 176 males; 263 founders) loaded from\n",
      "/home/jupyter/Release6_MDE/chr20_MDE_release6.psam.\n",
      "5525542 variants loaded from\n",
      "/home/jupyter/Release6_MDE/chr20_MDE_release6.pvar.\n",
      "1 binary phenotype loaded (218 cases, 21 controls).\n",
      "Note: Skipping --rm-dup since no duplicate IDs are present.\n",
      "Calculating allele frequencies... 10111314151617182021222324262728293032333435363739404142434546474849515253545556585960616264656667686971727374757778798081838485868788909192939496979899done.\n",
      "--indep-pairwise (1 compute thread): 101113141516171820212223242627282930323334353637394041424345464748495152535455565859606162646566676869717273747577787980818384858687889091929394969798995196851/5525542 variants removed.\n",
      "Variant lists written to /home/jupyter/Release6_MDE/chr20_MDE_pruning.prune.in\n",
      "and /home/jupyter/Release6_MDE/chr20_MDE_pruning.prune.out .\n",
      "End time: Mon Oct 21 06:27:30 2024\n"
     ]
    },
    {
     "name": "stderr",
     "output_type": "stream",
     "text": [
      "Executing: /home/jupyter/tools/plink2                         --pfile /home/jupyter/Release6_MDE/chr20_MDE_release6                         --extract /home/jupyter/Release6_MDE/chr20_MDE_pruning.prune.in                         --maf 0.05                         --make-bed --out /home/jupyter/Release6_MDE/chr20_MDE_pruned_data\n"
     ]
    },
    {
     "name": "stdout",
     "output_type": "stream",
     "text": [
      "PLINK v2.00a6LM AVX2 Intel (6 Aug 2024)        www.cog-genomics.org/plink/2.0/\n",
      "(C) 2005-2024 Shaun Purcell, Christopher Chang   GNU General Public License v3\n",
      "Logging to /home/jupyter/Release6_MDE/chr20_MDE_pruned_data.log.\n",
      "Options in effect:\n",
      "  --extract /home/jupyter/Release6_MDE/chr20_MDE_pruning.prune.in\n",
      "  --maf 0.05\n",
      "  --make-bed\n",
      "  --out /home/jupyter/Release6_MDE/chr20_MDE_pruned_data\n",
      "  --pfile /home/jupyter/Release6_MDE/chr20_MDE_release6\n",
      "\n",
      "Start time: Mon Oct 21 06:27:31 2024\n",
      "628867 MiB RAM detected, ~615067 available; reserving 314433 MiB for main\n",
      "workspace.\n",
      "Using up to 96 threads (change this with --threads).\n",
      "263 samples (87 females, 176 males; 263 founders) loaded from\n",
      "/home/jupyter/Release6_MDE/chr20_MDE_release6.psam.\n",
      "5525542 variants loaded from\n",
      "/home/jupyter/Release6_MDE/chr20_MDE_release6.pvar.\n",
      "1 binary phenotype loaded (218 cases, 21 controls).\n",
      "--extract: 328691 variants remaining.\n",
      "Calculating allele frequencies... 111213141516181920212223242627283031333435363738394042434445464849505152535455565759606162636465676869707173747576787980818384858788899091939495979899done.\n",
      "238807 variants removed due to allele frequency threshold(s)\n",
      "(--maf/--max-maf/--mac/--max-mac).\n",
      "89884 variants remaining after main filters.\n",
      "Writing /home/jupyter/Release6_MDE/chr20_MDE_pruned_data.fam ... done.\n",
      "Writing /home/jupyter/Release6_MDE/chr20_MDE_pruned_data.bim ... done.\n",
      "Writing /home/jupyter/Release6_MDE/chr20_MDE_pruned_data.bed ... 111213151617192021222425262729303233353637383940424344454647484950515253545556575859606162636566676869707173747576787980828384858688899091929495979899done.\n",
      "End time: Mon Oct 21 06:27:32 2024\n",
      "Removing raw files for chr20...\n"
     ]
    },
    {
     "name": "stderr",
     "output_type": "stream",
     "text": [
      "Executing: rm /home/jupyter/Release6_MDE/chr20_MDE_release6.p*\n"
     ]
    },
    {
     "name": "stdout",
     "output_type": "stream",
     "text": [
      "\n",
      "Processing chr21 for pruning...\n"
     ]
    },
    {
     "name": "stderr",
     "output_type": "stream",
     "text": [
      "Executing: gsutil -u terra-1b7613a0 -m cp gs://gp2tier2/release6_21122023/imputed_genotypes/MDE/chr21_MDE_release6.* /home/jupyter/Release6_MDE\n"
     ]
    },
    {
     "name": "stdout",
     "output_type": "stream",
     "text": [
      "Copying gs://gp2tier2/release6_21122023/imputed_genotypes/MDE/chr21_MDE_release6.log...\n",
      "Copying gs://gp2tier2/release6_21122023/imputed_genotypes/MDE/chr21_MDE_release6.pgen...\n",
      "Copying gs://gp2tier2/release6_21122023/imputed_genotypes/MDE/chr21_MDE_release6.psam...\n",
      "Copying gs://gp2tier2/release6_21122023/imputed_genotypes/MDE/chr21_MDE_release6.pvar...\n",
      "\\ [4/4 files][348.4 MiB/348.4 MiB] 100% Done                                    \n",
      "Operation completed over 4 objects/348.4 MiB.                                    \n"
     ]
    },
    {
     "name": "stderr",
     "output_type": "stream",
     "text": [
      "Executing: /home/jupyter/tools/plink2                         --pfile /home/jupyter/Release6_MDE/chr21_MDE_release6                         --indep-pairwise 50 5 0.5                         --rm-dup force-first                         --out /home/jupyter/Release6_MDE/chr21_MDE_pruning\n"
     ]
    },
    {
     "name": "stdout",
     "output_type": "stream",
     "text": [
      "PLINK v2.00a6LM AVX2 Intel (6 Aug 2024)        www.cog-genomics.org/plink/2.0/\n",
      "(C) 2005-2024 Shaun Purcell, Christopher Chang   GNU General Public License v3\n",
      "Logging to /home/jupyter/Release6_MDE/chr21_MDE_pruning.log.\n",
      "Options in effect:\n",
      "  --indep-pairwise 50 5 0.5\n",
      "  --out /home/jupyter/Release6_MDE/chr21_MDE_pruning\n",
      "  --pfile /home/jupyter/Release6_MDE/chr21_MDE_release6\n",
      "  --rm-dup force-first\n",
      "\n",
      "Start time: Mon Oct 21 06:27:41 2024\n",
      "628867 MiB RAM detected, ~615421 available; reserving 314433 MiB for main\n",
      "workspace.\n",
      "Using up to 96 threads (change this with --threads).\n",
      "263 samples (87 females, 176 males; 263 founders) loaded from\n",
      "/home/jupyter/Release6_MDE/chr21_MDE_release6.psam.\n",
      "3132984 variants loaded from\n",
      "/home/jupyter/Release6_MDE/chr21_MDE_release6.pvar.\n",
      "1 binary phenotype loaded (218 cases, 21 controls).\n",
      "Note: Skipping --rm-dup since no duplicate IDs are present.\n",
      "Calculating allele frequencies... 10121416182023252729313335373941434648505254565860626466697173757779818385878992949698done.\n",
      "--indep-pairwise (1 compute thread): 101214161820232527293133353739414346485052545658606264666971737577798183858789929496982939957/3132984 variants removed.\n",
      "Variant lists written to /home/jupyter/Release6_MDE/chr21_MDE_pruning.prune.in\n",
      "and /home/jupyter/Release6_MDE/chr21_MDE_pruning.prune.out .\n",
      "End time: Mon Oct 21 06:27:43 2024\n"
     ]
    },
    {
     "name": "stderr",
     "output_type": "stream",
     "text": [
      "Executing: /home/jupyter/tools/plink2                         --pfile /home/jupyter/Release6_MDE/chr21_MDE_release6                         --extract /home/jupyter/Release6_MDE/chr21_MDE_pruning.prune.in                         --maf 0.05                         --make-bed --out /home/jupyter/Release6_MDE/chr21_MDE_pruned_data\n"
     ]
    },
    {
     "name": "stdout",
     "output_type": "stream",
     "text": [
      "PLINK v2.00a6LM AVX2 Intel (6 Aug 2024)        www.cog-genomics.org/plink/2.0/\n",
      "(C) 2005-2024 Shaun Purcell, Christopher Chang   GNU General Public License v3\n",
      "Logging to /home/jupyter/Release6_MDE/chr21_MDE_pruned_data.log.\n",
      "Options in effect:\n",
      "  --extract /home/jupyter/Release6_MDE/chr21_MDE_pruning.prune.in\n",
      "  --maf 0.05\n",
      "  --make-bed\n",
      "  --out /home/jupyter/Release6_MDE/chr21_MDE_pruned_data\n",
      "  --pfile /home/jupyter/Release6_MDE/chr21_MDE_release6\n",
      "\n",
      "Start time: Mon Oct 21 06:27:44 2024\n",
      "628867 MiB RAM detected, ~615400 available; reserving 314433 MiB for main\n",
      "workspace.\n",
      "Using up to 96 threads (change this with --threads).\n",
      "263 samples (87 females, 176 males; 263 founders) loaded from\n",
      "/home/jupyter/Release6_MDE/chr21_MDE_release6.psam.\n",
      "3132984 variants loaded from\n",
      "/home/jupyter/Release6_MDE/chr21_MDE_release6.pvar.\n",
      "1 binary phenotype loaded (218 cases, 21 controls).\n",
      "--extract: 193027 variants remaining.\n",
      "Calculating allele frequencies... 111315171921232528303234373941434547495153555759616466687072747678808284878991939698done.\n",
      "138642 variants removed due to allele frequency threshold(s)\n",
      "(--maf/--max-maf/--mac/--max-mac).\n",
      "54385 variants remaining after main filters.\n",
      "Writing /home/jupyter/Release6_MDE/chr21_MDE_pruned_data.fam ... done.\n",
      "Writing /home/jupyter/Release6_MDE/chr21_MDE_pruned_data.bim ... done.\n",
      "Writing /home/jupyter/Release6_MDE/chr21_MDE_pruned_data.bed ... 101315171921232527293133353739424446485051535657596163656869727476788183868991939598done.\n",
      "End time: Mon Oct 21 06:27:44 2024\n",
      "Removing raw files for chr21...\n"
     ]
    },
    {
     "name": "stderr",
     "output_type": "stream",
     "text": [
      "Executing: rm /home/jupyter/Release6_MDE/chr21_MDE_release6.p*\n"
     ]
    },
    {
     "name": "stdout",
     "output_type": "stream",
     "text": [
      "\n",
      "Processing chr22 for pruning...\n"
     ]
    },
    {
     "name": "stderr",
     "output_type": "stream",
     "text": [
      "Executing: gsutil -u terra-1b7613a0 -m cp gs://gp2tier2/release6_21122023/imputed_genotypes/MDE/chr22_MDE_release6.* /home/jupyter/Release6_MDE\n"
     ]
    },
    {
     "name": "stdout",
     "output_type": "stream",
     "text": [
      "Copying gs://gp2tier2/release6_21122023/imputed_genotypes/MDE/chr22_MDE_release6.log...\n",
      "Copying gs://gp2tier2/release6_21122023/imputed_genotypes/MDE/chr22_MDE_release6.pgen...\n",
      "Copying gs://gp2tier2/release6_21122023/imputed_genotypes/MDE/chr22_MDE_release6.psam...\n",
      "Copying gs://gp2tier2/release6_21122023/imputed_genotypes/MDE/chr22_MDE_release6.pvar...\n",
      "/ [4/4 files][352.8 MiB/352.8 MiB] 100% Done                                    \n",
      "Operation completed over 4 objects/352.8 MiB.                                    \n"
     ]
    },
    {
     "name": "stderr",
     "output_type": "stream",
     "text": [
      "Executing: /home/jupyter/tools/plink2                         --pfile /home/jupyter/Release6_MDE/chr22_MDE_release6                         --indep-pairwise 50 5 0.5                         --rm-dup force-first                         --out /home/jupyter/Release6_MDE/chr22_MDE_pruning\n"
     ]
    },
    {
     "name": "stdout",
     "output_type": "stream",
     "text": [
      "PLINK v2.00a6LM AVX2 Intel (6 Aug 2024)        www.cog-genomics.org/plink/2.0/\n",
      "(C) 2005-2024 Shaun Purcell, Christopher Chang   GNU General Public License v3\n",
      "Logging to /home/jupyter/Release6_MDE/chr22_MDE_pruning.log.\n",
      "Options in effect:\n",
      "  --indep-pairwise 50 5 0.5\n",
      "  --out /home/jupyter/Release6_MDE/chr22_MDE_pruning\n",
      "  --pfile /home/jupyter/Release6_MDE/chr22_MDE_release6\n",
      "  --rm-dup force-first\n",
      "\n",
      "Start time: Mon Oct 21 06:27:55 2024\n",
      "628867 MiB RAM detected, ~615032 available; reserving 314433 MiB for main\n",
      "workspace.\n",
      "Using up to 96 threads (change this with --threads).\n",
      "263 samples (87 females, 176 males; 263 founders) loaded from\n",
      "/home/jupyter/Release6_MDE/chr22_MDE_release6.psam.\n",
      "3297419 variants loaded from\n",
      "/home/jupyter/Release6_MDE/chr22_MDE_release6.pvar.\n",
      "1 binary phenotype loaded (218 cases, 21 controls).\n",
      "Note: Skipping --rm-dup since no duplicate IDs are present.\n",
      "Calculating allele frequencies... 111315171921232527293133353739414345474951535557596163656769717375777981838587899193959799done.\n",
      "--indep-pairwise (1 compute thread): 1113151719212325272931333537394143454749515355575961636567697173757779818385878991939597993107402/3297419 variants removed.\n",
      "Variant lists written to /home/jupyter/Release6_MDE/chr22_MDE_pruning.prune.in\n",
      "and /home/jupyter/Release6_MDE/chr22_MDE_pruning.prune.out .\n",
      "End time: Mon Oct 21 06:27:56 2024\n"
     ]
    },
    {
     "name": "stderr",
     "output_type": "stream",
     "text": [
      "Executing: /home/jupyter/tools/plink2                         --pfile /home/jupyter/Release6_MDE/chr22_MDE_release6                         --extract /home/jupyter/Release6_MDE/chr22_MDE_pruning.prune.in                         --maf 0.05                         --make-bed --out /home/jupyter/Release6_MDE/chr22_MDE_pruned_data\n"
     ]
    },
    {
     "name": "stdout",
     "output_type": "stream",
     "text": [
      "PLINK v2.00a6LM AVX2 Intel (6 Aug 2024)        www.cog-genomics.org/plink/2.0/\n",
      "(C) 2005-2024 Shaun Purcell, Christopher Chang   GNU General Public License v3\n",
      "Logging to /home/jupyter/Release6_MDE/chr22_MDE_pruned_data.log.\n",
      "Options in effect:\n",
      "  --extract /home/jupyter/Release6_MDE/chr22_MDE_pruning.prune.in\n",
      "  --maf 0.05\n",
      "  --make-bed\n",
      "  --out /home/jupyter/Release6_MDE/chr22_MDE_pruned_data\n",
      "  --pfile /home/jupyter/Release6_MDE/chr22_MDE_release6\n",
      "\n",
      "Start time: Mon Oct 21 06:27:57 2024\n",
      "628867 MiB RAM detected, ~615484 available; reserving 314433 MiB for main\n",
      "workspace.\n",
      "Using up to 96 threads (change this with --threads).\n",
      "263 samples (87 females, 176 males; 263 founders) loaded from\n",
      "/home/jupyter/Release6_MDE/chr22_MDE_release6.psam.\n",
      "3297419 variants loaded from\n",
      "/home/jupyter/Release6_MDE/chr22_MDE_release6.pvar.\n",
      "1 binary phenotype loaded (218 cases, 21 controls).\n",
      "--extract: 190017 variants remaining.\n",
      "Calculating allele frequencies... 1012131517202224262830323335373942444649515355575961636466687072747678808385878992949799done.\n",
      "138350 variants removed due to allele frequency threshold(s)\n",
      "(--maf/--max-maf/--mac/--max-mac).\n",
      "51667 variants remaining after main filters.\n",
      "Writing /home/jupyter/Release6_MDE/chr22_MDE_pruned_data.fam ... done.\n",
      "Writing /home/jupyter/Release6_MDE/chr22_MDE_pruned_data.bim ... done.\n",
      "Writing /home/jupyter/Release6_MDE/chr22_MDE_pruned_data.bed ... 1012141718212225273031323436383942444749515355575860626364656769717477798183858891959799done.\n",
      "End time: Mon Oct 21 06:27:58 2024\n",
      "Removing raw files for chr22...\n"
     ]
    },
    {
     "name": "stderr",
     "output_type": "stream",
     "text": [
      "Executing: rm /home/jupyter/Release6_MDE/chr22_MDE_release6.p*\n"
     ]
    }
   ],
   "source": [
    "# Check if the combined pruned data for all chromosomes is already processed\n",
    "path = Path(f'{WORK_DIR}/chrAll_{ANC}_pruned_data.bed')\n",
    "if path.is_file():\n",
    "    print('Files Already processed. Avoid downloading again. Showing log File.')\n",
    "    shell_do(f'cat {WORK_DIR}/chr*_{ANC}_pruning.log')\n",
    "    shell_do(f'cat {WORK_DIR}/chr*_{ANC}_pruned_data.log')\n",
    "else:\n",
    "    # Perform pruning for each chromosome (1 to 22)\n",
    "    for chr in range(1, 23):\n",
    "        # Check if pruning is already processed for the chromosome\n",
    "        prune_path = Path(f'{WORK_DIR}/chr{chr}_{ANC}_pruning.prune.in')\n",
    "        if prune_path.is_file():\n",
    "            print(f'\\nAlready processed chr{chr}. Showing .log file')\n",
    "            shell_do(f'cat {WORK_DIR}/chr{chr}_{ANC}_pruning.log')\n",
    "        else:\n",
    "            # Download imputed data from cloud storage if not already done\n",
    "            print(f'\\nProcessing chr{chr} for pruning...')\n",
    "            shell_do(f'gsutil -u {BILLING_PROJECT_ID} -m cp {GP2_IMPUTED_GENO_PATH}/{ANC}/chr{chr}_{ANC}_release6.* {WORK_DIR}')\n",
    "            \n",
    "            # Run pruning using PLINK\n",
    "            shell_do(f'/home/jupyter/tools/plink2 \\\n",
    "                        --pfile {WORK_DIR}/chr{chr}_{ANC}_release6 \\\n",
    "                        --indep-pairwise 50 5 0.5 \\\n",
    "                        --rm-dup force-first \\\n",
    "                        --out {WORK_DIR}/chr{chr}_{ANC}_pruning')\n",
    "        \n",
    "        # Check if the pruned bed file has already been generated\n",
    "        bed_path = Path(f'{WORK_DIR}/chr{chr}_{ANC}_pruned_data.bed')\n",
    "        if bed_path.is_file():\n",
    "            print(f'\\nAlready processed chr{chr} pruned data. Showing .log file')\n",
    "            shell_do(f'cat {WORK_DIR}/chr{chr}_{ANC}_pruned_data.log')\n",
    "        else:\n",
    "            # Generate bed file for pruned positions and filter MAF 0.05\n",
    "            shell_do(f'/home/jupyter/tools/plink2 \\\n",
    "                        --pfile {WORK_DIR}/chr{chr}_{ANC}_release6 \\\n",
    "                        --extract {WORK_DIR}/chr{chr}_{ANC}_pruning.prune.in \\\n",
    "                        --maf 0.05 \\\n",
    "                        --make-bed --out {WORK_DIR}/chr{chr}_{ANC}_pruned_data')\n",
    "\n",
    "        # Check if raw imputed files should be removed after processing\n",
    "        if bed_path.is_file():\n",
    "            raw_data_path = Path(f'{WORK_DIR}/chr{chr}_{ANC}_release6.pgen')\n",
    "            if raw_data_path.is_file():\n",
    "                print(f'Removing raw files for chr{chr}...')\n",
    "                shell_do(f'rm {WORK_DIR}/chr{chr}_{ANC}_release6.p*')\n",
    "            else:\n",
    "                print(f\"No raw files to remove for chr{chr}.\")"
   ]
  },
  {
   "cell_type": "markdown",
   "metadata": {},
   "source": [
    "## Merge imputed data"
   ]
  },
  {
   "cell_type": "code",
   "execution_count": 21,
   "metadata": {},
   "outputs": [
    {
     "name": "stderr",
     "output_type": "stream",
     "text": [
      "Executing:  ls /home/jupyter/Release6_MDE/*_MDE_pruned_data.bed | sed 's/.bed//g' | grep -v 'chr1_' > /home/jupyter/Release6_MDE/merge_list.txt \n"
     ]
    }
   ],
   "source": [
    "# Generate a list of .bed files (from chromosomes 2 to 22) to use as a merge input\n",
    "shell_do(f' ls {WORK_DIR}/*_{ANC}_pruned_data.bed | sed \\'s/.bed//g\\' | grep -v \\'chr1_\\' > {WORK_DIR}/merge_list.txt ')"
   ]
  },
  {
   "cell_type": "code",
   "execution_count": 22,
   "metadata": {
    "scrolled": true
   },
   "outputs": [
    {
     "name": "stderr",
     "output_type": "stream",
     "text": [
      "Executing: /home/jupyter/tools/plink         --bfile /home/jupyter/Release6_MDE/chr1_MDE_pruned_data         --merge-list /home/jupyter/Release6_MDE/merge_list.txt         --make-bed --out /home/jupyter/Release6_MDE/chrAll_MDE_pruned_data \n"
     ]
    },
    {
     "name": "stdout",
     "output_type": "stream",
     "text": [
      "PLINK v1.90b6.9 64-bit (4 Mar 2019)            www.cog-genomics.org/plink/1.9/\n",
      "(C) 2005-2019 Shaun Purcell, Christopher Chang   GNU General Public License v3\n",
      "Logging to /home/jupyter/Release6_MDE/chrAll_MDE_pruned_data.log.\n",
      "Options in effect:\n",
      "  --bfile /home/jupyter/Release6_MDE/chr1_MDE_pruned_data\n",
      "  --make-bed\n",
      "  --merge-list /home/jupyter/Release6_MDE/merge_list.txt\n",
      "  --out /home/jupyter/Release6_MDE/chrAll_MDE_pruned_data\n",
      "\n",
      "628867 MB RAM detected; reserving 314433 MB for main workspace.\n",
      "Warning: Unusually long variant ID(s) present.  PLINK 1.9 does not scale well\n",
      "to length-80+ variant IDs; consider using a different naming scheme for long\n",
      "indels and the like.\n",
      "Warning: Variants 'chr1:1224137:T:C' and 'chr1:1224137:C:T' have the same\n",
      "position.\n",
      "Warning: Variants 'chr1:3356261:C:A' and 'chr1:3356261:A:C' have the same\n",
      "position.\n",
      "Warning: Variants 'chr1:3950829:T:C' and 'chr1:3950829:C:T' have the same\n",
      "position.\n",
      "834 more same-position warnings: see log file.\n",
      "Performing single-pass merge (263 people, 3989783 variants).\n",
      "Merged fileset written to                     \n",
      "/home/jupyter/Release6_MDE/chrAll_MDE_pruned_data-merge.bed +\n",
      "/home/jupyter/Release6_MDE/chrAll_MDE_pruned_data-merge.bim +\n",
      "/home/jupyter/Release6_MDE/chrAll_MDE_pruned_data-merge.fam .\n",
      "3989783 variants loaded from .bim file.\n",
      "263 people (176 males, 87 females) loaded from .fam.\n",
      "239 phenotype values loaded from .fam.\n",
      "Using 1 thread (no multithreaded calculations invoked).\n",
      "Before main variant filters, 263 founders and 0 nonfounders present.\n",
      "Calculating allele frequencies... 10111213141516171819202122232425262728293031323334353637383940414243444546474849505152535455565758596061626364656667686970717273747576777879808182838485868788899091929394959697989 done.\n",
      "Total genotyping rate is 0.940153.\n",
      "3989783 variants and 263 people pass filters and QC.\n",
      "Among remaining phenotypes, 218 are cases and 21 are controls.  (24 phenotypes\n",
      "are missing.)\n",
      "--make-bed to /home/jupyter/Release6_MDE/chrAll_MDE_pruned_data.bed +\n",
      "/home/jupyter/Release6_MDE/chrAll_MDE_pruned_data.bim +\n",
      "/home/jupyter/Release6_MDE/chrAll_MDE_pruned_data.fam ... 101112131415161718192021222324252627282930313233343536373839404142434445464748495051525354555657585960616263646566676869707172737475767778798081828384858687888990919293949596979899done.\n"
     ]
    }
   ],
   "source": [
    "# Merge pruned imputed data from all chromosomes\n",
    "shell_do(f'/home/jupyter/tools/plink \\\n",
    "        --bfile {WORK_DIR}/chr1_{ANC}_pruned_data \\\n",
    "        --merge-list {WORK_DIR}/merge_list.txt \\\n",
    "        --make-bed --out {WORK_DIR}/chrAll_{ANC}_pruned_data ')"
   ]
  },
  {
   "cell_type": "markdown",
   "metadata": {},
   "source": [
    "## Remove related individuals in merged data"
   ]
  },
  {
   "cell_type": "code",
   "execution_count": 23,
   "metadata": {},
   "outputs": [
    {
     "name": "stderr",
     "output_type": "stream",
     "text": [
      "Executing: /home/jupyter/tools/plink2         --bfile /home/jupyter/Release6_MDE/chrAll_MDE_pruned_data         --keep /home/jupyter/Release6_MDE/MDE_unrelated_IDs.king.cutoff.in.id         --make-bed --out /home/jupyter/Release6_MDE/chrAll_MDE_QC \n"
     ]
    },
    {
     "name": "stdout",
     "output_type": "stream",
     "text": [
      "PLINK v2.00a6LM AVX2 Intel (6 Aug 2024)        www.cog-genomics.org/plink/2.0/\n",
      "(C) 2005-2024 Shaun Purcell, Christopher Chang   GNU General Public License v3\n",
      "Logging to /home/jupyter/Release6_MDE/chrAll_MDE_QC.log.\n",
      "Options in effect:\n",
      "  --bfile /home/jupyter/Release6_MDE/chrAll_MDE_pruned_data\n",
      "  --keep /home/jupyter/Release6_MDE/MDE_unrelated_IDs.king.cutoff.in.id\n",
      "  --make-bed\n",
      "  --out /home/jupyter/Release6_MDE/chrAll_MDE_QC\n",
      "\n",
      "Start time: Mon Oct 21 06:28:26 2024\n",
      "628867 MiB RAM detected, ~615378 available; reserving 314433 MiB for main\n",
      "workspace.\n",
      "Using up to 96 threads (change this with --threads).\n",
      "263 samples (87 females, 176 males; 263 founders) loaded from\n",
      "/home/jupyter/Release6_MDE/chrAll_MDE_pruned_data.fam.\n",
      "3989783 variants loaded from\n",
      "/home/jupyter/Release6_MDE/chrAll_MDE_pruned_data.bim.\n",
      "1 binary phenotype loaded (218 cases, 21 controls).\n",
      "--keep: 257 samples remaining.\n",
      "257 samples (85 females, 172 males; 257 founders) remaining after main filters.\n",
      "214 cases and 20 controls remaining after main filters.\n",
      "Writing /home/jupyter/Release6_MDE/chrAll_MDE_QC.fam ... done.\n",
      "Writing /home/jupyter/Release6_MDE/chrAll_MDE_QC.bim ... done.\n",
      "Writing /home/jupyter/Release6_MDE/chrAll_MDE_QC.bed ... 111314161819212224262729313234363739414244454749505254555759606264656768707273757778808283858788909193959698done.\n",
      "End time: Mon Oct 21 06:28:27 2024\n"
     ]
    }
   ],
   "source": [
    "# Remove related IDs in merged imputed data\n",
    "shell_do(f'/home/jupyter/tools/plink2 \\\n",
    "        --bfile {WORK_DIR}/chrAll_{ANC}_pruned_data \\\n",
    "        --keep {WORK_DIR}/{ANC}_unrelated_IDs.king.cutoff.in.id \\\n",
    "        --make-bed --out {WORK_DIR}/chrAll_{ANC}_QC ')"
   ]
  },
  {
   "cell_type": "markdown",
   "metadata": {},
   "source": [
    "# Calculate ROH"
   ]
  },
  {
   "cell_type": "code",
   "execution_count": 31,
   "metadata": {
    "code_folding": [],
    "scrolled": true
   },
   "outputs": [
    {
     "name": "stderr",
     "output_type": "stream",
     "text": [
      "Executing: /home/jupyter/tools/plink         --bfile /home/jupyter/Release6_MDE/chrAll_MDE_QC          --homozyg group --homozyg-density 50 --homozyg-gap 1000 --homozyg-kb 1500 --homozyg-snp 100         --homozyg-window-het 1 --homozyg-window-missing 5 --homozyg-window-snp 50  --homozyg-window-threshold 0.05         --out /home/jupyter/Release6_MDE/MDE_ROH\n"
     ]
    },
    {
     "name": "stdout",
     "output_type": "stream",
     "text": [
      "PLINK v1.90b6.9 64-bit (4 Mar 2019)            www.cog-genomics.org/plink/1.9/\n",
      "(C) 2005-2019 Shaun Purcell, Christopher Chang   GNU General Public License v3\n",
      "Logging to /home/jupyter/Release6_MDE/MDE_ROH.log.\n",
      "Options in effect:\n",
      "  --bfile /home/jupyter/Release6_MDE/chrAll_MDE_QC\n",
      "  --homozyg group\n",
      "  --homozyg-density 50\n",
      "  --homozyg-gap 1000\n",
      "  --homozyg-kb 1500\n",
      "  --homozyg-snp 100\n",
      "  --homozyg-window-het 1\n",
      "  --homozyg-window-missing 5\n",
      "  --homozyg-window-snp 50\n",
      "  --homozyg-window-threshold 0.05\n",
      "  --out /home/jupyter/Release6_MDE/MDE_ROH\n",
      "\n",
      "628867 MB RAM detected; reserving 314433 MB for main workspace.\n",
      "3989783 variants loaded from .bim file.\n",
      "257 people (172 males, 85 females) loaded from .fam.\n",
      "234 phenotype values loaded from .fam.\n",
      "Using 1 thread (no multithreaded calculations invoked).\n",
      "Before main variant filters, 257 founders and 0 nonfounders present.\n",
      "Calculating allele frequencies... 10111213141516171819202122232425262728293031323334353637383940414243444546474849505152535455565758596061626364656667686970717273747576777879808182838485868788899091929394959697989 done.\n",
      "Total genotyping rate is 0.940083.\n",
      "3989783 variants and 257 people pass filters and QC.\n",
      "Among remaining phenotypes, 214 are cases and 20 are controls.  (23 phenotypes\n",
      "are missing.)\n",
      "--homozyg: Scan complete, found 2582 ROH.\n",
      "Results saved to /home/jupyter/Release6_MDE/MDE_ROH.hom +\n",
      "/home/jupyter/Release6_MDE/MDE_ROH.hom.indiv +\n",
      "/home/jupyter/Release6_MDE/MDE_ROH.hom.summary .\n",
      "1086 pools of overlapping ROH present.\n",
      "Determining within-pool allelic similarity... [chromosome 1]3]4]6]7]8]10111213141516171819202122              done.\n",
      "ROH pool report written to /home/jupyter/Release6_MDE/MDE_ROH.hom.overlap .\n"
     ]
    }
   ],
   "source": [
    "# Calculate Runs of Homozygosity (ROH) using the parameters as in Table 3\n",
    "shell_do(f'/home/jupyter/tools/plink \\\n",
    "        --bfile {WORK_DIR}/chrAll_{ANC}_QC  \\\n",
    "        --homozyg group --homozyg-density 50 --homozyg-gap 1000 --homozyg-kb 1500 --homozyg-snp 100 \\\n",
    "        --homozyg-window-het 1 --homozyg-window-missing 5 --homozyg-window-snp 50  --homozyg-window-threshold 0.05 \\\n",
    "        --out {WORK_DIR}/{ANC}_ROH')    "
   ]
  },
  {
   "cell_type": "markdown",
   "metadata": {},
   "source": [
    "# Intersect PD genes with ROH"
   ]
  },
  {
   "cell_type": "markdown",
   "metadata": {},
   "source": [
    "## Download perl script and gene list"
   ]
  },
  {
   "cell_type": "code",
   "execution_count": 104,
   "metadata": {},
   "outputs": [
    {
     "name": "stderr",
     "output_type": "stream",
     "text": [
      "Executing: cat GeneList_updated.txt | cut -f1-2 | sed 1d > geneList.txt\n"
     ]
    }
   ],
   "source": [
    "# Extract the first two columns from GeneList_updated.txt and remove the header\n",
    "shell_do(f'cat GeneList_updated.txt | cut -f1-2 | sed 1d > geneList.txt')"
   ]
  },
  {
   "cell_type": "code",
   "execution_count": 105,
   "metadata": {},
   "outputs": [
    {
     "name": "stdout",
     "output_type": "stream",
     "text": [
      "PD gene: LOC100131289\n",
      "PD gene: RSL24D1P1\n",
      "PD gene: GS1-124K5.11\n",
      "PD gene: AC006001.3\n",
      "PD gene: IP6K2\n",
      "PD gene: LRRK2\n",
      "PD gene: IP6K2\n",
      "PD gene: IP6K2\n",
      "PD gene: SCARB2\n",
      "PD gene: FAM47E\n",
      "PD gene: FAM47E-STBD1\n",
      "PD gene: FAM47E\n",
      "PD gene: TRIM40\n",
      "PD gene: SLC44A4\n",
      "PD gene: IP6K2\n",
      "PD gene: IP6K2\n",
      "PD gene: TMEM229B\n",
      "PD gene: MAP3K14\n",
      "PD gene: CRHR1\n",
      "PD gene: MAPT-AS1\n",
      "PD gene: KANSL1\n",
      "PD gene: MAPT\n",
      "PD gene: MAPT\n",
      "PD gene: NSF\n",
      "PD gene: WNT3\n",
      "PD gene: WNT3\n",
      "PD gene: CHMP2B\n",
      "PD gene: MTF2\n",
      "PD gene: IP6K2\n",
      "PD gene: SPTSSB\n",
      "PD gene: SPTSSB\n",
      "PD gene: SPTSSB\n",
      "PD gene: SPTSSB\n",
      "PD gene: SPTSSB\n",
      "PD gene: SCARB2\n",
      "PD gene: FAM47E\n",
      "PD gene: FAM47E-STBD1\n",
      "PD gene: SCARB2\n",
      "PD gene: FAM47E\n",
      "PD gene: FAM47E\n",
      "PD gene: FGD4\n",
      "PD gene: PKP2\n",
      "PD gene: ALG10\n",
      "PD gene: SPG11\n",
      "PD gene: VAMP4\n",
      "PD gene: SPTSSB\n",
      "PD gene: ANK2\n",
      "PD gene: CAMK2D\n",
      "PD gene: CAMK2D\n",
      "PD gene: CAMK2D\n",
      "PD gene: CAMK2D\n",
      "PD gene: ZNF608\n",
      "PD gene: SYBU\n",
      "PD gene: MTF2\n",
      "PD gene: PMVK\n",
      "PD gene: KRTCAP2\n",
      "PD gene: GBAP1\n",
      "PD gene: ASH1L\n",
      "PD gene: PMVK\n",
      "PD gene: KRTCAP2\n",
      "PD gene: GBA\n",
      "PD gene: GBA1\n",
      "PD gene: KPNA1\n",
      "PD gene: KPNA1\n",
      "PD gene: MED12L\n",
      "PD gene: SPTSSB\n",
      "PD gene: SCARB2\n",
      "PD gene: FAM47E\n",
      "PD gene: FAM47E-STBD1\n",
      "PD gene: SNCA\n",
      "PD gene: AC097478.1\n",
      "PD gene: AC097478.1\n",
      "PD gene: SNCA\n",
      "PD gene: ANK2\n",
      "PD gene: ELOVL7\n",
      "PD gene: ELOVL7\n",
      "PD gene: C5orf24\n",
      "PD gene: AC006077.1\n",
      "PD gene: SLC44A4\n",
      "PD gene: HLA-DRB5\n",
      "PD gene:  AHR\n",
      "PD gene: SLC44A4\n",
      "PD gene: HLA-DRB5\n",
      "PD gene:  AHR\n",
      "PD gene: HLA-DRB6\n",
      "PD gene: HLA-DQA1\n",
      "PD gene: SYBU\n",
      "PD gene: SYBU\n",
      "PD gene: UBAP2\n",
      "PD gene: UBAP2\n",
      "PD gene: UBAP2\n",
      "PD gene: UBAP2\n",
      "PD gene: LRRK2\n",
      "PD gene: CNTN1\n",
      "PD gene: PDZRN4\n",
      "PD gene: GXYLT1\n",
      "PD gene: SCAF11\n",
      "PD gene: SLC38A1\n",
      "PD gene: RPS6KL1\n",
      "PD gene: RPS6KL1\n",
      "PD gene: SPG11\n",
      "PD gene: CD19\n",
      "PD gene: CD19\n",
      "PD gene: UBTF\n",
      "PD gene: FAM171A2\n",
      "PD gene: UBTF\n",
      "PD gene: FAM171A2\n",
      "PD gene: NSF\n",
      "PD gene: WNT3\n",
      "PD gene: CRHR1\n",
      "PD gene: SPPL2C\n",
      "PD gene: STH\n",
      "PD gene: KANSL1\n",
      "PD gene: RBX1\n",
      "PD gene: PINK1\n",
      "PD gene: HRNR\n",
      "PD gene: HRNR\n",
      "PD gene: HRNR\n",
      "PD gene: HRNR\n",
      "PD gene: FCGR2A\n",
      "PD gene: FCGR2A\n",
      "PD gene: PAM\n",
      "PD gene: PAM\n",
      "PD gene: PAM\n",
      "PD gene: RPS12\n",
      "PD gene: HMGB1P13\n",
      "PD gene: SH3GL2\n",
      "PD gene: SH3GL2\n",
      "PD gene: SH3GL2\n",
      "PD gene: SH3GL2\n",
      "PD gene: SH3GL2\n",
      "PD gene: SH3GL2\n",
      "PD gene: SH3GL2\n",
      "PD gene: SCAF11\n",
      "PD gene: SLC38A1\n",
      "PD gene: SYT17\n",
      "PD gene: SYT17\n",
      "PD gene: CD19\n",
      "PD gene: SETD1A\n",
      "PD gene: RETREG3\n",
      "PD gene: RETREG3\n",
      "PD gene: UBTF\n",
      "PD gene: FAM171A2\n",
      "PD gene: ASXL3\n",
      "PD gene: ASXL3\n",
      "PD gene: MEX3C\n",
      "PD gene: SMAD4\n",
      "PD gene: MEX3C\n",
      "PD gene: DYRK1A\n",
      "PD gene: FCGR2A\n",
      "PD gene: TMEM163\n",
      "PD gene: TMEM163\n",
      "PD gene: KPNA1\n",
      "PD gene: KPNA1\n",
      "PD gene: MCCC1\n",
      "PD gene: ELOVL7\n",
      "PD gene: RAB32\n",
      "PD gene: PARK2\n",
      "PD gene: GPNMB\n",
      "PD gene: GPNMB\n",
      "PD gene: GPNMB\n",
      "PD gene: GPNMB\n",
      "PD gene: KLHL7\n",
      "PD gene: NUPL2\n",
      "PD gene: GPNMB\n",
      "PD gene: GPNMB\n",
      "PD gene: GALNT17\n",
      "PD gene: GBF1\n",
      "PD gene: GBF1\n",
      "PD gene: RNF141\n",
      "PD gene: RNF141\n",
      "PD gene: DLG2\n",
      "PD gene: CNTN1\n",
      "PD gene: PDZRN4\n",
      "PD gene: GXYLT1\n",
      "PD gene: GXYLT1\n",
      "PD gene: CAB39L\n",
      "PD gene: CAB39L\n",
      "PD gene: MBNL2\n",
      "PD gene: GCH1\n",
      "PD gene: GCH1\n",
      "PD gene: GCH1\n",
      "PD gene: GCH1\n",
      "PD gene: GCH1\n",
      "PD gene: RPS6KL1\n",
      "PD gene: RPS6KL1\n",
      "PD gene: RPS6KL1\n",
      "PD gene: GALC\n",
      "PD gene: NOD2\n",
      "PD gene: CNOT1\n",
      "PD gene: BRIP1\n",
      "PD gene: ASXL3\n",
      "PD gene: RIT2\n",
      "PD gene: RIT2\n",
      "PD gene: PDXK\n",
      "PD gene: VAMP4\n",
      "PD gene: ITPKB\n",
      "PD gene: ITPKB\n",
      "PD gene: SIPA1L2\n",
      "PD gene: SIPA1L2\n",
      "PD gene: SIPA1L2\n",
      "PD gene: KCNS3\n",
      "PD gene: KCNS3\n",
      "PD gene: KCNS3\n",
      "PD gene: SATB1\n",
      "PD gene: TBC1D5\n",
      "PD gene: SATB1\n",
      "PD gene: SATB1\n",
      "PD gene: TBC1D5\n",
      "PD gene: MED12L\n",
      "PD gene: MED12L\n",
      "PD gene: FYN\n",
      "PD gene: WISP3\n",
      "PD gene: CHCHD2\n",
      "PD gene: FGF20\n",
      "PD gene: AC011586.2\n",
      "PD gene: IGSF9B\n",
      "PD gene: FGD4\n",
      "PD gene: CAB39L\n",
      "PD gene: SYT17\n",
      "PD gene: SYT17\n",
      "PD gene: COQ7\n",
      "PD gene: CHRNB1\n",
      "PD gene: MAPT\n",
      "PD gene: PIGL\n",
      "PD gene: BRIP1\n",
      "PD gene: BRIP1\n"
     ]
    }
   ],
   "source": [
    "%%bash -s \"$WORK_DIR\" \"$ANC\"\n",
    "\n",
    "WORK_DIR=$1\n",
    "ANC=$2\n",
    "\n",
    "# Navigate to the working directory\n",
    "cd $WORK_DIR\n",
    "\n",
    "# Filter and clean ROH overlap files\n",
    "cat ${ANC}_ROH.hom.overlap | grep 'CON' | awk -F' ' '{if($4 != \"-9\")print}' > ${ANC}_ROH.hom.overlap.CON.txt\n",
    "cat ${ANC}_ROH.hom.overlap | grep -v 'CON' | grep -v 'UNION' | awk -F' ' '{if($4 != \"-9\")print}' | grep -v 'NA' > ${ANC}_ROH.hom.overlap.clean.txt\n",
    "\n",
    "# Run the Perl script\n",
    "perl post_plink_ROH_mapping.pl ${ANC}_ROH.hom.overlap.clean.txt ${ANC}_ROH.hom.overlap.CON.txt geneList.txt ${ANC}_ROH.hom.overlap.CON.PDgenes.txt"
   ]
  },
  {
   "cell_type": "code",
   "execution_count": 106,
   "metadata": {},
   "outputs": [
    {
     "name": "stdout",
     "output_type": "stream",
     "text": [
      "Classes ‘data.table’ and 'data.frame':\t118 obs. of  14 variables:\n",
      " $ POOL           : chr  \"S10\" \"S1003\" \"S1029\" \"S1034\" ...\n",
      " $ num_subjects   : int  21 2 2 2 2 2 2 2 2 7 ...\n",
      " $ case_to_control: chr  \"18:3\" \"1:1\" \"2:0\" \"2:0\" ...\n",
      " $ ratio          : chr  \"6.0\" \"1.0\" \"2:0\" \"2:0\" ...\n",
      " $ CHR            : chr  \"chr7\" \"chr8\" \"chr11\" \"chr12\" ...\n",
      " $ SNP1           : chr  \"chr7:65881717:C:T\" \"chr8:16550136:C:T\" \"chr11:131972849:C:G\" \"chr12:31643136:G:A\" ...\n",
      " $ SNP2           : chr  \"chr7:66295242:C:G\" \"chr8:16779320:T:C\" \"chr11:133169304:T:C\" \"chr12:31777700:C:T\" ...\n",
      " $ BP1            : int  65881717 16550136 131972849 31643136 47130562 18021081 6468460 16464732 61729448 92811215 ...\n",
      " $ BP2            : int  66295242 16779320 133169304 31777700 48766265 19237131 8035910 16580863 62746467 93055493 ...\n",
      " $ KB             : num  414 229 1196 135 1636 ...\n",
      " $ NSNP           : int  580 408 2090 212 2557 777 2305 133 1056 248 ...\n",
      " $ PD gene        : chr  \"GS1-124K5.11 AC006001.3\" \"FGF20 AC011586.2\" \"IGSF9B\" \"FGD4\" ...\n",
      " $ cases_IDs      : chr  \"COPN_000439_s1 KOC_000007_s1 KOC_000012_s1 m-KFSH_000014_s1 m-KOC_000041_s1 PDGNRTN_002422_s1 APGS_000450_s1 CO\"| __truncated__ \"CORIELL_000863_s1\" \"APGS_000259_s1 m-KFSH_000003_s1\" \"m-BENHAMIDA_000024_s1 m-BENHAMIDA_000029_s1\" ...\n",
      " $ control_IDs    : chr  \"CORIELL_006060_s1\" \"0\" \"0\" \"0\" ...\n",
      " - attr(*, \".internal.selfref\")=<externalptr> \n"
     ]
    }
   ],
   "source": [
    "%%R\n",
    "\n",
    "# Load the ROH file with PD genes overlap\n",
    "ROH <- fread(paste0(ANC, \"_ROH.hom.overlap.CON.PDgenes.txt\"), header = TRUE)\n",
    "\n",
    "# Display the structure of the data\n",
    "str(ROH)"
   ]
  },
  {
   "cell_type": "code",
   "execution_count": 107,
   "metadata": {},
   "outputs": [
    {
     "data": {
      "text/plain": [
       "In addition: There were 50 or more warnings (use warnings() to see the first 50)\n"
      ]
     },
     "metadata": {},
     "output_type": "display_data"
    }
   ],
   "source": [
    "%%R\n",
    "\n",
    "# Split the 'case_to_control' column into case and control values\n",
    "ROH$case <- ldply(strsplit(as.character(ROH$case_to_control), split = \":\"))[[1]]\n",
    "ROH$control <- ldply(strsplit(as.character(ROH$case_to_control), split = \":\"))[[2]]\n",
    "\n",
    "# Convert case and control counts to numeric\n",
    "ROH$NcasesWithROHs <- as.numeric(ROH$case)\n",
    "ROH$NcontrolsWithROHs <- as.numeric(ROH$control)\n",
    "\n",
    "# Create combined case and control columns for easy access\n",
    "ROH$caseN <- ROH$NcasesWithROHs\n",
    "ROH$controlN <- ROH$NcontrolsWithROHs\n",
    "ROH$combinedN <- ROH$caseN + ROH$controlN\n",
    "\n",
    "# Initialize a column for p-values\n",
    "ROH$P <- NA\n",
    "\n",
    "# Loop through the rows and perform a proportion test for each row\n",
    "for (i in 1:nrow(ROH)) {\n",
    "  # Perform a proportion test (note: 218 total cases, 21 total controls)\n",
    "  thisP <- prop.test(x = c(ROH$NcasesWithROHs[i], ROH$NcontrolsWithROHs[i]), \n",
    "                     n = c(218, 21)) # Note: the last part should be the total N for cases and then the total N for controls\n",
    "  \n",
    "  # Store the p-value in the P column\n",
    "  ROH$P[i] <- thisP$p.value\n",
    "}\n",
    "\n",
    "# Add a total ROH count column (sum of case and control counts)\n",
    "ROH$total_ROH_count <- ROH$caseN + ROH$controlN"
   ]
  },
  {
   "cell_type": "code",
   "execution_count": 108,
   "metadata": {},
   "outputs": [
    {
     "name": "stdout",
     "output_type": "stream",
     "text": [
      "   Min. 1st Qu.  Median    Mean 3rd Qu.    Max. \n",
      "      0       0       0       0       0       0 \n"
     ]
    }
   ],
   "source": [
    "%%R\n",
    "\n",
    "# Calculate proportions of cases and controls with ROH\n",
    "ROH$propCases <- ROH$caseN / 218  # Update number of cases\n",
    "ROH$propControls <- ROH$controlN / 21  # Update number of controls\n",
    "\n",
    "# Determine if the ROH is enriched in cases\n",
    "ROH$caseEnriched <- ifelse(ROH$propCases > ROH$propControls, 1, 0)\n",
    "\n",
    "# Subset the data for ROHs that are case-enriched and have at least one ROH\n",
    "ROH_subsetted <- subset(ROH, total_ROH_count >= 1 & caseEnriched == 1)\n",
    "\n",
    "# Perform Bonferroni correction for multiple testing\n",
    "Ngenes <- length(ROH_subsetted$PD)  # Number of genes in the subset\n",
    "ROH_subsetted$passMultiTest <- ifelse(ROH_subsetted$P <= (0.05 / Ngenes), 1, 0)\n",
    "\n",
    "# Calculate the Bonferroni-adjusted p-values\n",
    "ROH_subsetted$BONF <- ROH_subsetted$P / Ngenes\n",
    "ROH$BONF <- ROH$P / Ngenes  # Apply to the full dataset\n",
    "\n",
    "# Subset for those that pass the multiple testing correction\n",
    "significant_ROH <- subset(ROH_subsetted, passMultiTest == 1)\n",
    "\n",
    "# Summary of how many regions pass the multiple testing correction\n",
    "summary(ROH_subsetted$passMultiTest)"
   ]
  },
  {
   "cell_type": "code",
   "execution_count": 109,
   "metadata": {},
   "outputs": [],
   "source": [
    "%%R\n",
    "\n",
    "# Write the subsetted ROH data (with case enrichment and multiple testing) to a file\n",
    "fwrite(ROH_subsetted, paste0(ANC, \"_ROH_subsetted.txt\"))\n",
    "\n",
    "# Create and write the case-enriched ROH data to another file\n",
    "#ROH_caseEnriched <- subset(ROH, caseEnriched == 1)\n",
    "fwrite(ROH_subsetted, paste0(ANC, \"_ROH_caseEnriched.txt\"))"
   ]
  },
  {
   "cell_type": "code",
   "execution_count": 110,
   "metadata": {},
   "outputs": [
    {
     "data": {
      "text/html": [
       "<div>\n",
       "<style scoped>\n",
       "    .dataframe tbody tr th:only-of-type {\n",
       "        vertical-align: middle;\n",
       "    }\n",
       "\n",
       "    .dataframe tbody tr th {\n",
       "        vertical-align: top;\n",
       "    }\n",
       "\n",
       "    .dataframe thead th {\n",
       "        text-align: right;\n",
       "    }\n",
       "</style>\n",
       "<table border=\"1\" class=\"dataframe\">\n",
       "  <thead>\n",
       "    <tr style=\"text-align: right;\">\n",
       "      <th></th>\n",
       "      <th>POOL</th>\n",
       "      <th>num_subjects</th>\n",
       "      <th>case_to_control</th>\n",
       "      <th>ratio</th>\n",
       "      <th>CHR</th>\n",
       "      <th>SNP1</th>\n",
       "      <th>SNP2</th>\n",
       "      <th>BP1</th>\n",
       "      <th>BP2</th>\n",
       "      <th>KB</th>\n",
       "      <th>...</th>\n",
       "      <th>caseN</th>\n",
       "      <th>controlN</th>\n",
       "      <th>combinedN</th>\n",
       "      <th>P</th>\n",
       "      <th>total_ROH_count</th>\n",
       "      <th>propCases</th>\n",
       "      <th>propControls</th>\n",
       "      <th>caseEnriched</th>\n",
       "      <th>passMultiTest</th>\n",
       "      <th>BONF</th>\n",
       "    </tr>\n",
       "  </thead>\n",
       "  <tbody>\n",
       "    <tr>\n",
       "      <th>0</th>\n",
       "      <td>S1029</td>\n",
       "      <td>2</td>\n",
       "      <td>2:0</td>\n",
       "      <td>2:0</td>\n",
       "      <td>chr11</td>\n",
       "      <td>chr11:131972849:C:G</td>\n",
       "      <td>chr11:133169304:T:C</td>\n",
       "      <td>131972849</td>\n",
       "      <td>133169304</td>\n",
       "      <td>1196.456</td>\n",
       "      <td>...</td>\n",
       "      <td>2</td>\n",
       "      <td>0</td>\n",
       "      <td>2</td>\n",
       "      <td>1.0</td>\n",
       "      <td>2</td>\n",
       "      <td>0.009174</td>\n",
       "      <td>0</td>\n",
       "      <td>1</td>\n",
       "      <td>0</td>\n",
       "      <td>0.015873</td>\n",
       "    </tr>\n",
       "    <tr>\n",
       "      <th>1</th>\n",
       "      <td>S1034</td>\n",
       "      <td>2</td>\n",
       "      <td>2:0</td>\n",
       "      <td>2:0</td>\n",
       "      <td>chr12</td>\n",
       "      <td>chr12:31643136:G:A</td>\n",
       "      <td>chr12:31777700:C:T</td>\n",
       "      <td>31643136</td>\n",
       "      <td>31777700</td>\n",
       "      <td>134.565</td>\n",
       "      <td>...</td>\n",
       "      <td>2</td>\n",
       "      <td>0</td>\n",
       "      <td>2</td>\n",
       "      <td>1.0</td>\n",
       "      <td>2</td>\n",
       "      <td>0.009174</td>\n",
       "      <td>0</td>\n",
       "      <td>1</td>\n",
       "      <td>0</td>\n",
       "      <td>0.015873</td>\n",
       "    </tr>\n",
       "    <tr>\n",
       "      <th>2</th>\n",
       "      <td>S1044</td>\n",
       "      <td>2</td>\n",
       "      <td>2:0</td>\n",
       "      <td>2:0</td>\n",
       "      <td>chr13</td>\n",
       "      <td>chr13:47130562:A:T</td>\n",
       "      <td>chr13:48766265:C:T</td>\n",
       "      <td>47130562</td>\n",
       "      <td>48766265</td>\n",
       "      <td>1635.704</td>\n",
       "      <td>...</td>\n",
       "      <td>2</td>\n",
       "      <td>0</td>\n",
       "      <td>2</td>\n",
       "      <td>1.0</td>\n",
       "      <td>2</td>\n",
       "      <td>0.009174</td>\n",
       "      <td>0</td>\n",
       "      <td>1</td>\n",
       "      <td>0</td>\n",
       "      <td>0.015873</td>\n",
       "    </tr>\n",
       "    <tr>\n",
       "      <th>3</th>\n",
       "      <td>S1059</td>\n",
       "      <td>2</td>\n",
       "      <td>2:0</td>\n",
       "      <td>2:0</td>\n",
       "      <td>chr17</td>\n",
       "      <td>chr17:6468460:T:A</td>\n",
       "      <td>chr17:8035910:T:A</td>\n",
       "      <td>6468460</td>\n",
       "      <td>8035910</td>\n",
       "      <td>1567.451</td>\n",
       "      <td>...</td>\n",
       "      <td>2</td>\n",
       "      <td>0</td>\n",
       "      <td>2</td>\n",
       "      <td>1.0</td>\n",
       "      <td>2</td>\n",
       "      <td>0.009174</td>\n",
       "      <td>0</td>\n",
       "      <td>1</td>\n",
       "      <td>0</td>\n",
       "      <td>0.015873</td>\n",
       "    </tr>\n",
       "    <tr>\n",
       "      <th>4</th>\n",
       "      <td>S1060</td>\n",
       "      <td>2</td>\n",
       "      <td>2:0</td>\n",
       "      <td>2:0</td>\n",
       "      <td>chr17</td>\n",
       "      <td>chr17:16464732:A:G</td>\n",
       "      <td>chr17:16580863:G:A</td>\n",
       "      <td>16464732</td>\n",
       "      <td>16580863</td>\n",
       "      <td>116.132</td>\n",
       "      <td>...</td>\n",
       "      <td>2</td>\n",
       "      <td>0</td>\n",
       "      <td>2</td>\n",
       "      <td>1.0</td>\n",
       "      <td>2</td>\n",
       "      <td>0.009174</td>\n",
       "      <td>0</td>\n",
       "      <td>1</td>\n",
       "      <td>0</td>\n",
       "      <td>0.015873</td>\n",
       "    </tr>\n",
       "    <tr>\n",
       "      <th>...</th>\n",
       "      <td>...</td>\n",
       "      <td>...</td>\n",
       "      <td>...</td>\n",
       "      <td>...</td>\n",
       "      <td>...</td>\n",
       "      <td>...</td>\n",
       "      <td>...</td>\n",
       "      <td>...</td>\n",
       "      <td>...</td>\n",
       "      <td>...</td>\n",
       "      <td>...</td>\n",
       "      <td>...</td>\n",
       "      <td>...</td>\n",
       "      <td>...</td>\n",
       "      <td>...</td>\n",
       "      <td>...</td>\n",
       "      <td>...</td>\n",
       "      <td>...</td>\n",
       "      <td>...</td>\n",
       "      <td>...</td>\n",
       "      <td>...</td>\n",
       "    </tr>\n",
       "    <tr>\n",
       "      <th>58</th>\n",
       "      <td>S896</td>\n",
       "      <td>2</td>\n",
       "      <td>2:0</td>\n",
       "      <td>2:0</td>\n",
       "      <td>chr1</td>\n",
       "      <td>chr1:231149900:A:G</td>\n",
       "      <td>chr1:232264365:T:C</td>\n",
       "      <td>231149900</td>\n",
       "      <td>232264365</td>\n",
       "      <td>1114.466</td>\n",
       "      <td>...</td>\n",
       "      <td>2</td>\n",
       "      <td>0</td>\n",
       "      <td>2</td>\n",
       "      <td>1.0</td>\n",
       "      <td>2</td>\n",
       "      <td>0.009174</td>\n",
       "      <td>0</td>\n",
       "      <td>1</td>\n",
       "      <td>0</td>\n",
       "      <td>0.015873</td>\n",
       "    </tr>\n",
       "    <tr>\n",
       "      <th>59</th>\n",
       "      <td>S901</td>\n",
       "      <td>2</td>\n",
       "      <td>2:0</td>\n",
       "      <td>2:0</td>\n",
       "      <td>chr2</td>\n",
       "      <td>chr2:16367931:C:T</td>\n",
       "      <td>chr2:17548048:C:T</td>\n",
       "      <td>16367931</td>\n",
       "      <td>17548048</td>\n",
       "      <td>1180.118</td>\n",
       "      <td>...</td>\n",
       "      <td>2</td>\n",
       "      <td>0</td>\n",
       "      <td>2</td>\n",
       "      <td>1.0</td>\n",
       "      <td>2</td>\n",
       "      <td>0.009174</td>\n",
       "      <td>0</td>\n",
       "      <td>1</td>\n",
       "      <td>0</td>\n",
       "      <td>0.015873</td>\n",
       "    </tr>\n",
       "    <tr>\n",
       "      <th>60</th>\n",
       "      <td>S902</td>\n",
       "      <td>2</td>\n",
       "      <td>2:0</td>\n",
       "      <td>2:0</td>\n",
       "      <td>chr2</td>\n",
       "      <td>chr2:18559483:A:G</td>\n",
       "      <td>chr2:19251926:C:G</td>\n",
       "      <td>18559483</td>\n",
       "      <td>19251926</td>\n",
       "      <td>692.444</td>\n",
       "      <td>...</td>\n",
       "      <td>2</td>\n",
       "      <td>0</td>\n",
       "      <td>2</td>\n",
       "      <td>1.0</td>\n",
       "      <td>2</td>\n",
       "      <td>0.009174</td>\n",
       "      <td>0</td>\n",
       "      <td>1</td>\n",
       "      <td>0</td>\n",
       "      <td>0.015873</td>\n",
       "    </tr>\n",
       "    <tr>\n",
       "      <th>61</th>\n",
       "      <td>S936</td>\n",
       "      <td>2</td>\n",
       "      <td>2:0</td>\n",
       "      <td>2:0</td>\n",
       "      <td>chr3</td>\n",
       "      <td>chr3:150779749:A:G</td>\n",
       "      <td>chr3:151096608:G:C</td>\n",
       "      <td>150779749</td>\n",
       "      <td>151096608</td>\n",
       "      <td>316.860</td>\n",
       "      <td>...</td>\n",
       "      <td>2</td>\n",
       "      <td>0</td>\n",
       "      <td>2</td>\n",
       "      <td>1.0</td>\n",
       "      <td>2</td>\n",
       "      <td>0.009174</td>\n",
       "      <td>0</td>\n",
       "      <td>1</td>\n",
       "      <td>0</td>\n",
       "      <td>0.015873</td>\n",
       "    </tr>\n",
       "    <tr>\n",
       "      <th>62</th>\n",
       "      <td>S992</td>\n",
       "      <td>2</td>\n",
       "      <td>2:0</td>\n",
       "      <td>2:0</td>\n",
       "      <td>chr7</td>\n",
       "      <td>chr7:55591492:A:G</td>\n",
       "      <td>chr7:56343506:C:T</td>\n",
       "      <td>55591492</td>\n",
       "      <td>56343506</td>\n",
       "      <td>752.015</td>\n",
       "      <td>...</td>\n",
       "      <td>2</td>\n",
       "      <td>0</td>\n",
       "      <td>2</td>\n",
       "      <td>1.0</td>\n",
       "      <td>2</td>\n",
       "      <td>0.009174</td>\n",
       "      <td>0</td>\n",
       "      <td>1</td>\n",
       "      <td>0</td>\n",
       "      <td>0.015873</td>\n",
       "    </tr>\n",
       "  </tbody>\n",
       "</table>\n",
       "<p>63 rows × 28 columns</p>\n",
       "</div>"
      ],
      "text/plain": [
       "     POOL  num_subjects case_to_control ratio    CHR                 SNP1  \\\n",
       "0   S1029             2             2:0   2:0  chr11  chr11:131972849:C:G   \n",
       "1   S1034             2             2:0   2:0  chr12   chr12:31643136:G:A   \n",
       "2   S1044             2             2:0   2:0  chr13   chr13:47130562:A:T   \n",
       "3   S1059             2             2:0   2:0  chr17    chr17:6468460:T:A   \n",
       "4   S1060             2             2:0   2:0  chr17   chr17:16464732:A:G   \n",
       "..    ...           ...             ...   ...    ...                  ...   \n",
       "58   S896             2             2:0   2:0   chr1   chr1:231149900:A:G   \n",
       "59   S901             2             2:0   2:0   chr2    chr2:16367931:C:T   \n",
       "60   S902             2             2:0   2:0   chr2    chr2:18559483:A:G   \n",
       "61   S936             2             2:0   2:0   chr3   chr3:150779749:A:G   \n",
       "62   S992             2             2:0   2:0   chr7    chr7:55591492:A:G   \n",
       "\n",
       "                   SNP2        BP1        BP2        KB  ...  caseN controlN  \\\n",
       "0   chr11:133169304:T:C  131972849  133169304  1196.456  ...      2        0   \n",
       "1    chr12:31777700:C:T   31643136   31777700   134.565  ...      2        0   \n",
       "2    chr13:48766265:C:T   47130562   48766265  1635.704  ...      2        0   \n",
       "3     chr17:8035910:T:A    6468460    8035910  1567.451  ...      2        0   \n",
       "4    chr17:16580863:G:A   16464732   16580863   116.132  ...      2        0   \n",
       "..                  ...        ...        ...       ...  ...    ...      ...   \n",
       "58   chr1:232264365:T:C  231149900  232264365  1114.466  ...      2        0   \n",
       "59    chr2:17548048:C:T   16367931   17548048  1180.118  ...      2        0   \n",
       "60    chr2:19251926:C:G   18559483   19251926   692.444  ...      2        0   \n",
       "61   chr3:151096608:G:C  150779749  151096608   316.860  ...      2        0   \n",
       "62    chr7:56343506:C:T   55591492   56343506   752.015  ...      2        0   \n",
       "\n",
       "   combinedN    P  total_ROH_count  propCases  propControls  caseEnriched  \\\n",
       "0          2  1.0                2   0.009174             0             1   \n",
       "1          2  1.0                2   0.009174             0             1   \n",
       "2          2  1.0                2   0.009174             0             1   \n",
       "3          2  1.0                2   0.009174             0             1   \n",
       "4          2  1.0                2   0.009174             0             1   \n",
       "..       ...  ...              ...        ...           ...           ...   \n",
       "58         2  1.0                2   0.009174             0             1   \n",
       "59         2  1.0                2   0.009174             0             1   \n",
       "60         2  1.0                2   0.009174             0             1   \n",
       "61         2  1.0                2   0.009174             0             1   \n",
       "62         2  1.0                2   0.009174             0             1   \n",
       "\n",
       "    passMultiTest      BONF  \n",
       "0               0  0.015873  \n",
       "1               0  0.015873  \n",
       "2               0  0.015873  \n",
       "3               0  0.015873  \n",
       "4               0  0.015873  \n",
       "..            ...       ...  \n",
       "58              0  0.015873  \n",
       "59              0  0.015873  \n",
       "60              0  0.015873  \n",
       "61              0  0.015873  \n",
       "62              0  0.015873  \n",
       "\n",
       "[63 rows x 28 columns]"
      ]
     },
     "execution_count": 110,
     "metadata": {},
     "output_type": "execute_result"
    }
   ],
   "source": [
    "# Load the case-enriched ROH data using an f-string to include the ANC variable\n",
    "ROH = pd.read_csv(f\"{ANC}_ROH_caseEnriched.txt\")\n",
    "\n",
    "# Display the contents of the loaded dataframe\n",
    "ROH"
   ]
  },
  {
   "cell_type": "code",
   "execution_count": 111,
   "metadata": {
    "scrolled": true
   },
   "outputs": [
    {
     "data": {
      "text/html": [
       "<div>\n",
       "<style scoped>\n",
       "    .dataframe tbody tr th:only-of-type {\n",
       "        vertical-align: middle;\n",
       "    }\n",
       "\n",
       "    .dataframe tbody tr th {\n",
       "        vertical-align: top;\n",
       "    }\n",
       "\n",
       "    .dataframe thead th {\n",
       "        text-align: right;\n",
       "    }\n",
       "</style>\n",
       "<table border=\"1\" class=\"dataframe\">\n",
       "  <thead>\n",
       "    <tr style=\"text-align: right;\">\n",
       "      <th></th>\n",
       "      <th>POOL</th>\n",
       "      <th>num_subjects</th>\n",
       "      <th>case_to_control</th>\n",
       "      <th>ratio</th>\n",
       "      <th>CHR</th>\n",
       "      <th>SNP1</th>\n",
       "      <th>SNP2</th>\n",
       "      <th>BP1</th>\n",
       "      <th>BP2</th>\n",
       "      <th>KB</th>\n",
       "      <th>...</th>\n",
       "      <th>caseN</th>\n",
       "      <th>controlN</th>\n",
       "      <th>combinedN</th>\n",
       "      <th>P</th>\n",
       "      <th>total_ROH_count</th>\n",
       "      <th>propCases</th>\n",
       "      <th>propControls</th>\n",
       "      <th>caseEnriched</th>\n",
       "      <th>passMultiTest</th>\n",
       "      <th>BONF</th>\n",
       "    </tr>\n",
       "  </thead>\n",
       "  <tbody>\n",
       "  </tbody>\n",
       "</table>\n",
       "<p>0 rows × 28 columns</p>\n",
       "</div>"
      ],
      "text/plain": [
       "Empty DataFrame\n",
       "Columns: [POOL, num_subjects, case_to_control, ratio, CHR, SNP1, SNP2, BP1, BP2, KB, NSNP, PD gene, cases_IDs, control_IDs, case, control, NcasesWithROHs, NcontrolsWithROHs, caseN, controlN, combinedN, P, total_ROH_count, propCases, propControls, caseEnriched, passMultiTest, BONF]\n",
       "Index: []\n",
       "\n",
       "[0 rows x 28 columns]"
      ]
     },
     "execution_count": 111,
     "metadata": {},
     "output_type": "execute_result"
    }
   ],
   "source": [
    "# Filter the ROH dataframe to display only rows where the p-value (P) is <= 0.05\n",
    "significant_roh = ROH[ROH['P'] <= 0.05]\n",
    "\n",
    "# Display the filtered dataframe\n",
    "significant_roh"
   ]
  },
  {
   "cell_type": "code",
   "execution_count": 112,
   "metadata": {},
   "outputs": [
    {
     "name": "stdout",
     "output_type": "stream",
     "text": [
      "Number of ROH overlapping PD genes: 118\n",
      "Number of ROH enriched in Cases: 63\n",
      "Number of ROH that Pass Bonferroni: 0\n"
     ]
    }
   ],
   "source": [
    "%%bash -s \"$WORK_DIR\" \"$ANC\"\n",
    "\n",
    "WORK_DIR=$1\n",
    "ANC=$2\n",
    "\n",
    "# Navigate to the working directory\n",
    "cd $WORK_DIR\n",
    "\n",
    "{\n",
    "    # Count the number of ROH overlapping PD genes, excluding the header\n",
    "    printf \"Number of ROH overlapping PD genes: \"\n",
    "    cat ${ANC}_ROH.hom.overlap.CON.PDgenes.txt | sed 1d | wc -l \n",
    "\n",
    "    # Count the number of ROH enriched in cases, excluding the header\n",
    "    printf \"Number of ROH enriched in Cases: \"\n",
    "    cat ${ANC}_ROH_caseEnriched.txt | sed 1d | wc -l \n",
    "\n",
    "    # Count the number of ROH that pass the Bonferroni correction\n",
    "    printf \"Number of ROH that Pass Bonferroni: \"\n",
    "    cat ${ANC}_ROH_caseEnriched.txt | cut -d',' -f27 | sed 1d | { grep -c '1' || true ; }\n",
    "}"
   ]
  },
  {
   "cell_type": "markdown",
   "metadata": {},
   "source": [
    "# Serial ROH"
   ]
  },
  {
   "cell_type": "code",
   "execution_count": null,
   "metadata": {},
   "outputs": [],
   "source": [
    "# Calculate ROH for all kb thresholds specified in the VALUES list\n",
    "VALUES= [2, 3, 4, 5, 6, 7, 8, 9, 10]\n",
    "\n",
    "for kb in VALUES:\n",
    "    shell_do(f'/home/jupyter/tools/plink \\\n",
    "        --bfile {WORK_DIR}/chrAll_{ANC}_QC  \\\n",
    "        --homozyg group --homozyg-density 50 --homozyg-gap 1000 --homozyg-kb {kb}000 --homozyg-snp 100 \\\n",
    "        --homozyg-window-het 1 --homozyg-window-missing 5 --homozyg-window-snp 50  --homozyg-window-threshold 0.05 \\\n",
    "        --out {WORK_DIR}/{ANC}_ROH_{kb}kb')"
   ]
  },
  {
   "cell_type": "code",
   "execution_count": null,
   "metadata": {},
   "outputs": [],
   "source": []
  },
  {
   "cell_type": "code",
   "execution_count": null,
   "metadata": {},
   "outputs": [],
   "source": []
  }
 ],
 "metadata": {
  "kernelspec": {
   "display_name": "Python 3",
   "language": "python",
   "name": "python3"
  },
  "language_info": {
   "codemirror_mode": {
    "name": "ipython",
    "version": 3
   },
   "file_extension": ".py",
   "mimetype": "text/x-python",
   "name": "python",
   "nbconvert_exporter": "python",
   "pygments_lexer": "ipython3",
   "version": "3.10.12"
  },
  "toc": {
   "base_numbering": 1,
   "nav_menu": {},
   "number_sections": true,
   "sideBar": true,
   "skip_h1_title": false,
   "title_cell": "Table of Contents",
   "title_sidebar": "Contents",
   "toc_cell": true,
   "toc_position": {
    "height": "calc(100% - 180px)",
    "left": "10px",
    "top": "150px",
    "width": "244.727px"
   },
   "toc_section_display": true,
   "toc_window_display": true
  }
 },
 "nbformat": 4,
 "nbformat_minor": 2
}
